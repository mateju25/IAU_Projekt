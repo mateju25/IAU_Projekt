{
 "cells": [
  {
   "cell_type": "markdown",
   "metadata": {},
   "source": [
    "# Fáza 2 - predspracovanie údajov\n",
    "# Autori: Matej Delinčák (50%), Martin Pirkovský (50%)"
   ]
  },
  {
   "cell_type": "code",
   "execution_count": 309,
   "metadata": {},
   "outputs": [],
   "source": [
    "import matplotlib.pyplot as plt\n",
    "import seaborn as sns\n",
    "import pandas as pd\n",
    "import numpy as np\n",
    "import datetime\n",
    "import statsmodels.api as sm\n",
    "from scipy.stats import mannwhitneyu\n",
    "from scipy.stats import levene\n",
    "from scipy.stats import kruskal\n",
    "from scipy import stats\n",
    "import matplotlib\n",
    "import matplotlib.pylab as pylab\n",
    "from sklearn.impute import KNNImputer\n",
    "\n",
    "pd.set_option(\"display.max_columns\", None)"
   ]
  },
  {
   "cell_type": "markdown",
   "source": [
    "## 1. Integrácia a čistenie dát (5b)"
   ],
   "metadata": {
    "collapsed": false,
    "pycharm": {
     "name": "#%% md\n"
    }
   }
  },
  {
   "cell_type": "code",
   "execution_count": 340,
   "outputs": [
    {
     "data": {
      "text/plain": "  sex blood_group              job  \\\n0   M          B-  Legal executive   \n1   M          B-  Legal executive   \n2   M          B-  Legal executive   \n3   M          B-  Legal executive   \n4   F          B+    Oceanographer   \n\n                                           residence  birthdate        ssn_x  \\\n0         528 Allen Streets\\r\\nSolomonberg, NM 26158 1941-05-28  359-18-7254   \n1         528 Allen Streets\\r\\nSolomonberg, NM 26158 1941-05-28  359-18-7254   \n2         528 Allen Streets\\r\\nSolomonberg, NM 26158 1941-05-28  359-18-7254   \n3         528 Allen Streets\\r\\nSolomonberg, NM 26158 1941-05-28  359-18-7254   \n4  360 Rebecca Islands Suite 046\\r\\nEast Yolandav... 1992-08-29  476-75-8468   \n\n                                  current_location   race             name  \\\n0   (Decimal('29.4768335'), Decimal('-42.485892'))  White    John Fletcher   \n1   (Decimal('29.4768335'), Decimal('-42.485892'))  White    John Fletcher   \n2   (Decimal('29.4768335'), Decimal('-42.485892'))  White    John Fletcher   \n3   (Decimal('29.4768335'), Decimal('-42.485892'))  White    John Fletcher   \n4  (Decimal('-80.467120'), Decimal('-106.725872'))  White  Alexis Benjamin   \n\n   erytrocyty  trombocyty     weight    hbver        ssn_y relationship  \\\n0     5.73089     7.81439   74.67459  6.48334  359-18-7254      divoced   \n1     7.00210     7.30681   64.56094  5.50101  359-18-7254      divoced   \n2     5.87203     6.49993  102.55936  6.26296  359-18-7254       single   \n3     8.87748     7.57024   54.86142  7.31935  359-18-7254      married   \n4     5.51507     8.26611  109.48149  4.98513  476-75-8468       single   \n\n      er-cv smoker  indicator  hematokrit  leukocyty       alp  hemoglobin  \\\n0  54.28887      N        1.0     6.68658    8.13103  71.53264     5.51496   \n1  47.56065     no        1.0     8.14919    7.95707  53.26854     7.70607   \n2  53.69510    yes        1.0     8.61871    8.80296  71.23821     5.67911   \n3  53.84332      Y        1.0     6.05747    7.70553  64.00914     5.27333   \n4  36.38495     no        1.0     8.41361    8.02251  86.54993     6.48007   \n\n        ast      alt    etytr  \n0  72.78350  1.40153  8.26858  \n1  70.42034  1.08658  8.76562  \n2  63.46493  0.94280  7.87057  \n3  76.12388  4.43028  6.29355  \n4  84.46566  1.39040  7.38177  ",
      "text/html": "<div>\n<style scoped>\n    .dataframe tbody tr th:only-of-type {\n        vertical-align: middle;\n    }\n\n    .dataframe tbody tr th {\n        vertical-align: top;\n    }\n\n    .dataframe thead th {\n        text-align: right;\n    }\n</style>\n<table border=\"1\" class=\"dataframe\">\n  <thead>\n    <tr style=\"text-align: right;\">\n      <th></th>\n      <th>sex</th>\n      <th>blood_group</th>\n      <th>job</th>\n      <th>residence</th>\n      <th>birthdate</th>\n      <th>ssn_x</th>\n      <th>current_location</th>\n      <th>race</th>\n      <th>name</th>\n      <th>erytrocyty</th>\n      <th>trombocyty</th>\n      <th>weight</th>\n      <th>hbver</th>\n      <th>ssn_y</th>\n      <th>relationship</th>\n      <th>er-cv</th>\n      <th>smoker</th>\n      <th>indicator</th>\n      <th>hematokrit</th>\n      <th>leukocyty</th>\n      <th>alp</th>\n      <th>hemoglobin</th>\n      <th>ast</th>\n      <th>alt</th>\n      <th>etytr</th>\n    </tr>\n  </thead>\n  <tbody>\n    <tr>\n      <th>0</th>\n      <td>M</td>\n      <td>B-</td>\n      <td>Legal executive</td>\n      <td>528 Allen Streets\\r\\nSolomonberg, NM 26158</td>\n      <td>1941-05-28</td>\n      <td>359-18-7254</td>\n      <td>(Decimal('29.4768335'), Decimal('-42.485892'))</td>\n      <td>White</td>\n      <td>John Fletcher</td>\n      <td>5.73089</td>\n      <td>7.81439</td>\n      <td>74.67459</td>\n      <td>6.48334</td>\n      <td>359-18-7254</td>\n      <td>divoced</td>\n      <td>54.28887</td>\n      <td>N</td>\n      <td>1.0</td>\n      <td>6.68658</td>\n      <td>8.13103</td>\n      <td>71.53264</td>\n      <td>5.51496</td>\n      <td>72.78350</td>\n      <td>1.40153</td>\n      <td>8.26858</td>\n    </tr>\n    <tr>\n      <th>1</th>\n      <td>M</td>\n      <td>B-</td>\n      <td>Legal executive</td>\n      <td>528 Allen Streets\\r\\nSolomonberg, NM 26158</td>\n      <td>1941-05-28</td>\n      <td>359-18-7254</td>\n      <td>(Decimal('29.4768335'), Decimal('-42.485892'))</td>\n      <td>White</td>\n      <td>John Fletcher</td>\n      <td>7.00210</td>\n      <td>7.30681</td>\n      <td>64.56094</td>\n      <td>5.50101</td>\n      <td>359-18-7254</td>\n      <td>divoced</td>\n      <td>47.56065</td>\n      <td>no</td>\n      <td>1.0</td>\n      <td>8.14919</td>\n      <td>7.95707</td>\n      <td>53.26854</td>\n      <td>7.70607</td>\n      <td>70.42034</td>\n      <td>1.08658</td>\n      <td>8.76562</td>\n    </tr>\n    <tr>\n      <th>2</th>\n      <td>M</td>\n      <td>B-</td>\n      <td>Legal executive</td>\n      <td>528 Allen Streets\\r\\nSolomonberg, NM 26158</td>\n      <td>1941-05-28</td>\n      <td>359-18-7254</td>\n      <td>(Decimal('29.4768335'), Decimal('-42.485892'))</td>\n      <td>White</td>\n      <td>John Fletcher</td>\n      <td>5.87203</td>\n      <td>6.49993</td>\n      <td>102.55936</td>\n      <td>6.26296</td>\n      <td>359-18-7254</td>\n      <td>single</td>\n      <td>53.69510</td>\n      <td>yes</td>\n      <td>1.0</td>\n      <td>8.61871</td>\n      <td>8.80296</td>\n      <td>71.23821</td>\n      <td>5.67911</td>\n      <td>63.46493</td>\n      <td>0.94280</td>\n      <td>7.87057</td>\n    </tr>\n    <tr>\n      <th>3</th>\n      <td>M</td>\n      <td>B-</td>\n      <td>Legal executive</td>\n      <td>528 Allen Streets\\r\\nSolomonberg, NM 26158</td>\n      <td>1941-05-28</td>\n      <td>359-18-7254</td>\n      <td>(Decimal('29.4768335'), Decimal('-42.485892'))</td>\n      <td>White</td>\n      <td>John Fletcher</td>\n      <td>8.87748</td>\n      <td>7.57024</td>\n      <td>54.86142</td>\n      <td>7.31935</td>\n      <td>359-18-7254</td>\n      <td>married</td>\n      <td>53.84332</td>\n      <td>Y</td>\n      <td>1.0</td>\n      <td>6.05747</td>\n      <td>7.70553</td>\n      <td>64.00914</td>\n      <td>5.27333</td>\n      <td>76.12388</td>\n      <td>4.43028</td>\n      <td>6.29355</td>\n    </tr>\n    <tr>\n      <th>4</th>\n      <td>F</td>\n      <td>B+</td>\n      <td>Oceanographer</td>\n      <td>360 Rebecca Islands Suite 046\\r\\nEast Yolandav...</td>\n      <td>1992-08-29</td>\n      <td>476-75-8468</td>\n      <td>(Decimal('-80.467120'), Decimal('-106.725872'))</td>\n      <td>White</td>\n      <td>Alexis Benjamin</td>\n      <td>5.51507</td>\n      <td>8.26611</td>\n      <td>109.48149</td>\n      <td>4.98513</td>\n      <td>476-75-8468</td>\n      <td>single</td>\n      <td>36.38495</td>\n      <td>no</td>\n      <td>1.0</td>\n      <td>8.41361</td>\n      <td>8.02251</td>\n      <td>86.54993</td>\n      <td>6.48007</td>\n      <td>84.46566</td>\n      <td>1.39040</td>\n      <td>7.38177</td>\n    </tr>\n  </tbody>\n</table>\n</div>"
     },
     "execution_count": 340,
     "metadata": {},
     "output_type": "execute_result"
    }
   ],
   "source": [
    "df_profiles = pd.read_csv(\"001/profiles.csv\", sep='\\t', parse_dates=['birthdate'])\n",
    "df_profiles.drop('Unnamed: 0', axis=1, inplace=True)\n",
    "df_labor = pd.read_csv(\"001/labor.csv\", sep='\\t')\n",
    "df_labor.drop('Unnamed: 0', axis=1, inplace=True)\n",
    "df = pd.merge(df_profiles,df_labor,on='name',how='outer')\n",
    "df.head()"
   ],
   "metadata": {
    "collapsed": false,
    "pycharm": {
     "name": "#%%\n"
    }
   }
  },
  {
   "cell_type": "code",
   "source": [
    "## vyhodili sme tieto stlpce: job, residence, birthdate(zamenit za age), ssn_x, current_location, name, ssn_y\n",
    "\n",
    "df[\"age\"] = datetime.datetime.now().year - pd.DatetimeIndex(df[\"birthdate\"]).year\n",
    "df = df.drop(columns=['residence', 'birthdate', 'ssn_x', 'current_location', 'name', 'ssn_y', 'job'])\n",
    "df.drop_duplicates\n",
    "df.head()"
   ],
   "metadata": {
    "collapsed": false,
    "pycharm": {
     "name": "#%%\n"
    }
   },
   "execution_count": 341,
   "outputs": [
    {
     "data": {
      "text/plain": "  sex blood_group   race  erytrocyty  trombocyty     weight    hbver  \\\n0   M          B-  White     5.73089     7.81439   74.67459  6.48334   \n1   M          B-  White     7.00210     7.30681   64.56094  5.50101   \n2   M          B-  White     5.87203     6.49993  102.55936  6.26296   \n3   M          B-  White     8.87748     7.57024   54.86142  7.31935   \n4   F          B+  White     5.51507     8.26611  109.48149  4.98513   \n\n  relationship     er-cv smoker  indicator  hematokrit  leukocyty       alp  \\\n0      divoced  54.28887      N        1.0     6.68658    8.13103  71.53264   \n1      divoced  47.56065     no        1.0     8.14919    7.95707  53.26854   \n2       single  53.69510    yes        1.0     8.61871    8.80296  71.23821   \n3      married  53.84332      Y        1.0     6.05747    7.70553  64.00914   \n4       single  36.38495     no        1.0     8.41361    8.02251  86.54993   \n\n   hemoglobin       ast      alt    etytr  age  \n0     5.51496  72.78350  1.40153  8.26858   80  \n1     7.70607  70.42034  1.08658  8.76562   80  \n2     5.67911  63.46493  0.94280  7.87057   80  \n3     5.27333  76.12388  4.43028  6.29355   80  \n4     6.48007  84.46566  1.39040  7.38177   29  ",
      "text/html": "<div>\n<style scoped>\n    .dataframe tbody tr th:only-of-type {\n        vertical-align: middle;\n    }\n\n    .dataframe tbody tr th {\n        vertical-align: top;\n    }\n\n    .dataframe thead th {\n        text-align: right;\n    }\n</style>\n<table border=\"1\" class=\"dataframe\">\n  <thead>\n    <tr style=\"text-align: right;\">\n      <th></th>\n      <th>sex</th>\n      <th>blood_group</th>\n      <th>race</th>\n      <th>erytrocyty</th>\n      <th>trombocyty</th>\n      <th>weight</th>\n      <th>hbver</th>\n      <th>relationship</th>\n      <th>er-cv</th>\n      <th>smoker</th>\n      <th>indicator</th>\n      <th>hematokrit</th>\n      <th>leukocyty</th>\n      <th>alp</th>\n      <th>hemoglobin</th>\n      <th>ast</th>\n      <th>alt</th>\n      <th>etytr</th>\n      <th>age</th>\n    </tr>\n  </thead>\n  <tbody>\n    <tr>\n      <th>0</th>\n      <td>M</td>\n      <td>B-</td>\n      <td>White</td>\n      <td>5.73089</td>\n      <td>7.81439</td>\n      <td>74.67459</td>\n      <td>6.48334</td>\n      <td>divoced</td>\n      <td>54.28887</td>\n      <td>N</td>\n      <td>1.0</td>\n      <td>6.68658</td>\n      <td>8.13103</td>\n      <td>71.53264</td>\n      <td>5.51496</td>\n      <td>72.78350</td>\n      <td>1.40153</td>\n      <td>8.26858</td>\n      <td>80</td>\n    </tr>\n    <tr>\n      <th>1</th>\n      <td>M</td>\n      <td>B-</td>\n      <td>White</td>\n      <td>7.00210</td>\n      <td>7.30681</td>\n      <td>64.56094</td>\n      <td>5.50101</td>\n      <td>divoced</td>\n      <td>47.56065</td>\n      <td>no</td>\n      <td>1.0</td>\n      <td>8.14919</td>\n      <td>7.95707</td>\n      <td>53.26854</td>\n      <td>7.70607</td>\n      <td>70.42034</td>\n      <td>1.08658</td>\n      <td>8.76562</td>\n      <td>80</td>\n    </tr>\n    <tr>\n      <th>2</th>\n      <td>M</td>\n      <td>B-</td>\n      <td>White</td>\n      <td>5.87203</td>\n      <td>6.49993</td>\n      <td>102.55936</td>\n      <td>6.26296</td>\n      <td>single</td>\n      <td>53.69510</td>\n      <td>yes</td>\n      <td>1.0</td>\n      <td>8.61871</td>\n      <td>8.80296</td>\n      <td>71.23821</td>\n      <td>5.67911</td>\n      <td>63.46493</td>\n      <td>0.94280</td>\n      <td>7.87057</td>\n      <td>80</td>\n    </tr>\n    <tr>\n      <th>3</th>\n      <td>M</td>\n      <td>B-</td>\n      <td>White</td>\n      <td>8.87748</td>\n      <td>7.57024</td>\n      <td>54.86142</td>\n      <td>7.31935</td>\n      <td>married</td>\n      <td>53.84332</td>\n      <td>Y</td>\n      <td>1.0</td>\n      <td>6.05747</td>\n      <td>7.70553</td>\n      <td>64.00914</td>\n      <td>5.27333</td>\n      <td>76.12388</td>\n      <td>4.43028</td>\n      <td>6.29355</td>\n      <td>80</td>\n    </tr>\n    <tr>\n      <th>4</th>\n      <td>F</td>\n      <td>B+</td>\n      <td>White</td>\n      <td>5.51507</td>\n      <td>8.26611</td>\n      <td>109.48149</td>\n      <td>4.98513</td>\n      <td>single</td>\n      <td>36.38495</td>\n      <td>no</td>\n      <td>1.0</td>\n      <td>8.41361</td>\n      <td>8.02251</td>\n      <td>86.54993</td>\n      <td>6.48007</td>\n      <td>84.46566</td>\n      <td>1.39040</td>\n      <td>7.38177</td>\n      <td>29</td>\n    </tr>\n  </tbody>\n</table>\n</div>"
     },
     "execution_count": 341,
     "metadata": {},
     "output_type": "execute_result"
    }
   ]
  },
  {
   "cell_type": "markdown",
   "source": [
    "## Predspracovanie jednotlivych atributov\n",
    "### Atribut sex"
   ],
   "metadata": {
    "collapsed": false,
    "pycharm": {
     "name": "#%% md\n"
    }
   }
  },
  {
   "cell_type": "code",
   "execution_count": 342,
   "outputs": [
    {
     "name": "stdout",
     "output_type": "stream",
     "text": [
      "0\n"
     ]
    }
   ],
   "source": [
    "print(len((df[df['sex'].isnull()])))"
   ],
   "metadata": {
    "collapsed": false,
    "pycharm": {
     "name": "#%%\n"
    }
   }
  },
  {
   "cell_type": "code",
   "execution_count": 343,
   "outputs": [],
   "source": [
    "def sanitize_sex(sex):\n",
    "    return 1 if sex == \"M\" else 0"
   ],
   "metadata": {
    "collapsed": false,
    "pycharm": {
     "name": "#%%\n"
    }
   }
  },
  {
   "cell_type": "code",
   "execution_count": 344,
   "outputs": [],
   "source": [
    "df['sex'] = df['sex'].map(lambda x: sanitize_sex(x))"
   ],
   "metadata": {
    "collapsed": false,
    "pycharm": {
     "name": "#%%\n"
    }
   }
  },
  {
   "cell_type": "code",
   "execution_count": 345,
   "outputs": [
    {
     "data": {
      "text/plain": "array([1, 0], dtype=int64)"
     },
     "execution_count": 345,
     "metadata": {},
     "output_type": "execute_result"
    }
   ],
   "source": [
    "df['sex'].unique()"
   ],
   "metadata": {
    "collapsed": false,
    "pycharm": {
     "name": "#%%\n"
    }
   }
  },
  {
   "cell_type": "markdown",
   "source": [
    "Atribút sex nemá žiadne null hodnoty, a teda nepotrebujeme riešiť chybajúce hodnoty.\n",
    "Zamenili sme hodnoty 'M' za 1 a 'F' za 0. Tieto hodnoty nebolo potrebné upravovať,\n",
    "nakoľko všetky boli v tvare 'M' alebo 'F'."
   ],
   "metadata": {
    "collapsed": false,
    "pycharm": {
     "name": "#%% md\n"
    }
   }
  },
  {
   "cell_type": "markdown",
   "source": [
    "### Atribut blood_group"
   ],
   "metadata": {
    "collapsed": false,
    "pycharm": {
     "name": "#%% md\n"
    }
   }
  },
  {
   "cell_type": "code",
   "execution_count": 346,
   "outputs": [
    {
     "name": "stdout",
     "output_type": "stream",
     "text": [
      "0\n"
     ]
    }
   ],
   "source": [
    "print(len((df[df['blood_group'].isnull()])))"
   ],
   "metadata": {
    "collapsed": false,
    "pycharm": {
     "name": "#%%\n"
    }
   }
  },
  {
   "cell_type": "code",
   "execution_count": 347,
   "outputs": [],
   "source": [
    "def sanitize_blood_group(blood_group):\n",
    "    if blood_group == 'B-':\n",
    "        return 0\n",
    "    elif blood_group == 'B+':\n",
    "        return 1\n",
    "    elif blood_group == 'AB+':\n",
    "        return 2\n",
    "    elif blood_group == 'O+':\n",
    "        return 3\n",
    "    elif blood_group == 'AB-':\n",
    "        return 4\n",
    "    elif blood_group == 'A-':\n",
    "        return 5\n",
    "    elif blood_group == 'O-':\n",
    "        return 6\n",
    "    elif blood_group == 'A+':\n",
    "        return 7\n",
    "    return blood_group"
   ],
   "metadata": {
    "collapsed": false,
    "pycharm": {
     "name": "#%%\n"
    }
   }
  },
  {
   "cell_type": "code",
   "execution_count": 348,
   "outputs": [],
   "source": [
    "df['blood_group'] = df['blood_group'].map(lambda x: sanitize_blood_group(x))"
   ],
   "metadata": {
    "collapsed": false,
    "pycharm": {
     "name": "#%%\n"
    }
   }
  },
  {
   "cell_type": "code",
   "execution_count": 349,
   "outputs": [
    {
     "data": {
      "text/plain": "array([0, 1, 2, 3, 4, 5, 6, 7], dtype=int64)"
     },
     "execution_count": 349,
     "metadata": {},
     "output_type": "execute_result"
    }
   ],
   "source": [
    "df['blood_group'].unique()"
   ],
   "metadata": {
    "collapsed": false,
    "pycharm": {
     "name": "#%%\n"
    }
   }
  },
  {
   "cell_type": "markdown",
   "source": [
    "### Atribut race"
   ],
   "metadata": {
    "collapsed": false
   }
  },
  {
   "cell_type": "code",
   "execution_count": 350,
   "outputs": [
    {
     "name": "stdout",
     "output_type": "stream",
     "text": [
      "0\n"
     ]
    }
   ],
   "source": [
    "print(len((df[df['race'].isnull()])))"
   ],
   "metadata": {
    "collapsed": false,
    "pycharm": {
     "name": "#%%\n"
    }
   }
  },
  {
   "cell_type": "code",
   "execution_count": 351,
   "outputs": [],
   "source": [
    "def sanitize_race(race):\n",
    "    if race == 'black' or race == 'blsck' or race == 'Black':\n",
    "        return 0\n",
    "    elif race == 'white' or race == 'White':\n",
    "        return 1\n",
    "    elif race == 'Indian':\n",
    "        return 2\n",
    "    elif race == 'Asian':\n",
    "        return 3\n",
    "    elif race == 'Hawaiian':\n",
    "        return 4\n",
    "    return race"
   ],
   "metadata": {
    "collapsed": false,
    "pycharm": {
     "name": "#%%\n"
    }
   }
  },
  {
   "cell_type": "code",
   "execution_count": 352,
   "outputs": [],
   "source": [
    "df['race'] = df['race'].map(lambda race: sanitize_race(race))"
   ],
   "metadata": {
    "collapsed": false,
    "pycharm": {
     "name": "#%%\n"
    }
   }
  },
  {
   "cell_type": "code",
   "execution_count": 353,
   "outputs": [
    {
     "data": {
      "text/plain": "array([1, 2, 0, 3, 4], dtype=int64)"
     },
     "execution_count": 353,
     "metadata": {},
     "output_type": "execute_result"
    }
   ],
   "source": [
    "df['race'].unique()"
   ],
   "metadata": {
    "collapsed": false,
    "pycharm": {
     "name": "#%%\n"
    }
   }
  },
  {
   "cell_type": "markdown",
   "source": [
    "### Atribut erytrocyty"
   ],
   "metadata": {
    "collapsed": false,
    "pycharm": {
     "name": "#%% md\n"
    }
   }
  },
  {
   "cell_type": "code",
   "execution_count": 354,
   "outputs": [
    {
     "name": "stdout",
     "output_type": "stream",
     "text": [
      "31\n"
     ]
    }
   ],
   "source": [
    "print(len((df[df['erytrocyty'].isnull()])))"
   ],
   "metadata": {
    "collapsed": false,
    "pycharm": {
     "name": "#%%\n"
    }
   }
  },
  {
   "cell_type": "code",
   "execution_count": 355,
   "outputs": [
    {
     "name": "stdout",
     "output_type": "stream",
     "text": [
      "0\n"
     ]
    }
   ],
   "source": [
    "df.dropna(subset = [\"erytrocyty\"], inplace=True)\n",
    "print(len((df[df['erytrocyty'].isnull()])))"
   ],
   "metadata": {
    "collapsed": false,
    "pycharm": {
     "name": "#%%\n"
    }
   }
  },
  {
   "cell_type": "code",
   "execution_count": 356,
   "outputs": [
    {
     "data": {
      "text/plain": "<seaborn.axisgrid.FacetGrid at 0x1ecf3dd9910>"
     },
     "execution_count": 356,
     "metadata": {},
     "output_type": "execute_result"
    },
    {
     "data": {
      "text/plain": "<Figure size 360x360 with 1 Axes>",
      "image/png": "[encoded data removed]"
     },
     "metadata": {
      "needs_background": "light"
     },
     "output_type": "display_data"
    }
   ],
   "source": [
    "sns.displot(df['erytrocyty'],bins=100)"
   ],
   "metadata": {
    "collapsed": false,
    "pycharm": {
     "name": "#%%\n"
    }
   }
  },
  {
   "cell_type": "code",
   "execution_count": 357,
   "outputs": [
    {
     "data": {
      "text/plain": "<seaborn.axisgrid.FacetGrid at 0x1ecf286e280>"
     },
     "execution_count": 357,
     "metadata": {},
     "output_type": "execute_result"
    },
    {
     "data": {
      "text/plain": "<Figure size 360x360 with 1 Axes>",
      "image/png": "[encoded data removed]"
     },
     "metadata": {
      "needs_background": "light"
     },
     "output_type": "display_data"
    }
   ],
   "source": [
    "def identify_outliers(x):\n",
    "    lower_ = x.quantile(0.25) - 1.5 * stats.iqr(x)\n",
    "    upper_ = x.quantile(0.75) + 1.5 * stats.iqr(x)\n",
    "\n",
    "    return x[(x > upper_) | (x < lower_)]\n",
    "\n",
    "df_merged_out = identify_outliers(df[\"erytrocyty\"])\n",
    "df = df.drop(df_merged_out.index)\n",
    "sns.displot(df['erytrocyty'],bins=100)"
   ],
   "metadata": {
    "collapsed": false,
    "pycharm": {
     "name": "#%%\n"
    }
   }
  },
  {
   "cell_type": "markdown",
   "source": [
    "V atribute eryrocyty sme null hodnoty vyhodili a outlierov sme vyhodili takisto."
   ],
   "metadata": {
    "collapsed": false
   }
  },
  {
   "cell_type": "markdown",
   "source": [
    "#### Atribut trombocyty"
   ],
   "metadata": {
    "collapsed": false,
    "pycharm": {
     "name": "#%% md\n"
    }
   }
  },
  {
   "cell_type": "code",
   "execution_count": 358,
   "outputs": [
    {
     "name": "stdout",
     "output_type": "stream",
     "text": [
      "33\n"
     ]
    }
   ],
   "source": [
    "print(len((df[df['trombocyty'].isnull()])))"
   ],
   "metadata": {
    "collapsed": false,
    "pycharm": {
     "name": "#%%\n"
    }
   }
  },
  {
   "cell_type": "code",
   "execution_count": 359,
   "outputs": [
    {
     "name": "stdout",
     "output_type": "stream",
     "text": [
      "0\n"
     ]
    }
   ],
   "source": [
    "df['trombocyty'].fillna(df['trombocyty'].mean(), inplace=True)\n",
    "print(len((df[df['trombocyty'].isnull()])))"
   ],
   "metadata": {
    "collapsed": false,
    "pycharm": {
     "name": "#%%\n"
    }
   }
  },
  {
   "cell_type": "code",
   "execution_count": 360,
   "outputs": [
    {
     "data": {
      "text/plain": "<seaborn.axisgrid.FacetGrid at 0x1ecf4567dc0>"
     },
     "execution_count": 360,
     "metadata": {},
     "output_type": "execute_result"
    },
    {
     "data": {
      "text/plain": "<Figure size 360x360 with 1 Axes>",
      "image/png": "[encoded data removed]"
     },
     "metadata": {
      "needs_background": "light"
     },
     "output_type": "display_data"
    }
   ],
   "source": [
    "sns.displot(df['trombocyty'],bins=100)"
   ],
   "metadata": {
    "collapsed": false,
    "pycharm": {
     "name": "#%%\n"
    }
   }
  },
  {
   "cell_type": "code",
   "execution_count": 361,
   "outputs": [
    {
     "data": {
      "text/plain": "<seaborn.axisgrid.FacetGrid at 0x1ecf3e31c40>"
     },
     "execution_count": 361,
     "metadata": {},
     "output_type": "execute_result"
    },
    {
     "data": {
      "text/plain": "<Figure size 360x360 with 1 Axes>",
      "image/png": "[encoded data removed]"
     },
     "metadata": {
      "needs_background": "light"
     },
     "output_type": "display_data"
    }
   ],
   "source": [
    "lower = df['trombocyty'].quantile(0.25) - 1.5 * stats.iqr(df['trombocyty'])\n",
    "upper = df['trombocyty'].quantile(0.75) + 1.5 * stats.iqr(df['trombocyty'])\n",
    "\n",
    "df[\"trombocyty\"] = np.where(df[\"trombocyty\"] > upper, upper, df['trombocyty'])\n",
    "df[\"trombocyty\"] = np.where(df[\"trombocyty\"] < lower, lower, df['trombocyty'])\n",
    "sns.displot(df['trombocyty'],bins=100)"
   ],
   "metadata": {
    "collapsed": false,
    "pycharm": {
     "name": "#%%\n"
    }
   }
  },
  {
   "cell_type": "markdown",
   "source": [
    "V atribute trombocyty sme nahradili null hodnoty a outliers hranicnymi hodnotami rozdelenia"
   ],
   "metadata": {
    "collapsed": false
   }
  },
  {
   "cell_type": "markdown",
   "source": [
    "#### Atribut weight"
   ],
   "metadata": {
    "collapsed": false,
    "pycharm": {
     "name": "#%% md\n"
    }
   }
  },
  {
   "cell_type": "code",
   "execution_count": 362,
   "outputs": [
    {
     "name": "stdout",
     "output_type": "stream",
     "text": [
      "0\n"
     ]
    }
   ],
   "source": [
    "df[\"weight\"] = np.where(df[\"weight\"] < 1, np.nan, df['weight'])\n",
    "df.dropna(subset = [\"weight\"], inplace=True)\n",
    "print(len((df[df['weight'].isnull()])))"
   ],
   "metadata": {
    "collapsed": false,
    "pycharm": {
     "name": "#%%\n"
    }
   }
  },
  {
   "cell_type": "code",
   "execution_count": 363,
   "outputs": [
    {
     "data": {
      "text/plain": "<seaborn.axisgrid.FacetGrid at 0x1ecf3a62f40>"
     },
     "execution_count": 363,
     "metadata": {},
     "output_type": "execute_result"
    },
    {
     "data": {
      "text/plain": "<Figure size 360x360 with 1 Axes>",
      "image/png": "[encoded data removed]"
     },
     "metadata": {
      "needs_background": "light"
     },
     "output_type": "display_data"
    }
   ],
   "source": [
    "sns.displot(df['weight'],bins=100)"
   ],
   "metadata": {
    "collapsed": false,
    "pycharm": {
     "name": "#%%\n"
    }
   }
  },
  {
   "cell_type": "code",
   "execution_count": 364,
   "outputs": [
    {
     "data": {
      "text/plain": "<seaborn.axisgrid.FacetGrid at 0x1ecf3c80b20>"
     },
     "execution_count": 364,
     "metadata": {},
     "output_type": "execute_result"
    },
    {
     "data": {
      "text/plain": "<Figure size 360x360 with 1 Axes>",
      "image/png": "[encoded data removed]"
     },
     "metadata": {
      "needs_background": "light"
     },
     "output_type": "display_data"
    }
   ],
   "source": [
    "lower = df['weight'].quantile(0.25) - 1.5 * stats.iqr(df['weight'])\n",
    "upper = df['weight'].quantile(0.75) + 1.5 * stats.iqr(df['weight'])\n",
    "\n",
    "df[\"weight\"] = np.where(df[\"weight\"] > upper, upper, df['weight'])\n",
    "df[\"weight\"] = np.where(df[\"weight\"] < lower, lower, df['weight'])\n",
    "sns.displot(df['weight'],bins=100)"
   ],
   "metadata": {
    "collapsed": false,
    "pycharm": {
     "name": "#%%\n"
    }
   }
  },
  {
   "cell_type": "markdown",
   "source": [
    "V atribute weight sme odstránili nezmyselné hodnoty (vahy menšie ako 1kg)\n",
    "a nahradili sme za medián váh.\n",
    "\n",
    "#### Atribut relation"
   ],
   "metadata": {
    "collapsed": false
   }
  },
  {
   "cell_type": "code",
   "execution_count": 378,
   "outputs": [
    {
     "name": "stdout",
     "output_type": "stream",
     "text": [
      "0\n"
     ]
    }
   ],
   "source": [
    "print(len((df[df['relationship'].isnull()])))"
   ],
   "metadata": {
    "collapsed": false,
    "pycharm": {
     "name": "#%%\n"
    }
   }
  },
  {
   "cell_type": "code",
   "execution_count": 379,
   "outputs": [
    {
     "name": "stdout",
     "output_type": "stream",
     "text": [
      "0\n"
     ]
    }
   ],
   "source": [
    "df.dropna(subset = [\"relationship\"], inplace=True)\n",
    "print(len((df[df['relationship'].isnull()])))"
   ],
   "metadata": {
    "collapsed": false,
    "pycharm": {
     "name": "#%%\n"
    }
   }
  },
  {
   "cell_type": "code",
   "execution_count": 380,
   "outputs": [],
   "source": [
    "def sanitize_relation(relationship):\n",
    "    if relationship == 'divoced' or relationship == 'divorced' :\n",
    "        return 0\n",
    "    elif relationship == 'single':\n",
    "        return 1\n",
    "    elif relationship == 'married':\n",
    "        return 2\n",
    "    elif relationship == 'widowed':\n",
    "        return 3\n",
    "    elif relationship == 'separated':\n",
    "        return 4\n",
    "    elif relationship == 'nop':\n",
    "        return 5\n",
    "    return relationship"
   ],
   "metadata": {
    "collapsed": false,
    "pycharm": {
     "name": "#%%\n"
    }
   }
  },
  {
   "cell_type": "code",
   "execution_count": 381,
   "outputs": [],
   "source": [
    "df['relationship'] = df['relationship'].map(lambda relation: sanitize_relation(relation))"
   ],
   "metadata": {
    "collapsed": false,
    "pycharm": {
     "name": "#%%\n"
    }
   }
  },
  {
   "cell_type": "code",
   "execution_count": 382,
   "outputs": [
    {
     "data": {
      "text/plain": "array([0, 1, 2, 3, 4, 5], dtype=int64)"
     },
     "execution_count": 382,
     "metadata": {},
     "output_type": "execute_result"
    }
   ],
   "source": [
    "df['relationship'].unique()"
   ],
   "metadata": {
    "collapsed": false,
    "pycharm": {
     "name": "#%%\n"
    }
   }
  },
  {
   "cell_type": "markdown",
   "source": [
    "V atribute relationship sme vymazali null hodnoty a zvysne nahradili integer hodnotami (encoding)"
   ],
   "metadata": {
    "collapsed": false
   }
  },
  {
   "cell_type": "markdown",
   "source": [
    "#### Atribut smoker"
   ],
   "metadata": {
    "collapsed": false,
    "pycharm": {
     "name": "#%% md\n"
    }
   }
  },
  {
   "cell_type": "code",
   "execution_count": 383,
   "outputs": [
    {
     "name": "stdout",
     "output_type": "stream",
     "text": [
      "0\n"
     ]
    }
   ],
   "source": [
    "print(len((df[df['smoker'].isnull()])))"
   ],
   "metadata": {
    "collapsed": false,
    "pycharm": {
     "name": "#%%\n"
    }
   }
  },
  {
   "cell_type": "code",
   "execution_count": 384,
   "outputs": [
    {
     "name": "stdout",
     "output_type": "stream",
     "text": [
      "0\n"
     ]
    }
   ],
   "source": [
    "df.dropna(subset = [\"smoker\"], inplace=True)\n",
    "print(len((df[df['smoker'].isnull()])))"
   ],
   "metadata": {
    "collapsed": false,
    "pycharm": {
     "name": "#%%\n"
    }
   }
  },
  {
   "cell_type": "code",
   "execution_count": 385,
   "outputs": [],
   "source": [
    "def sanitize_smoker(smoker):\n",
    "    if smoker == 'N' or smoker == 'no' :\n",
    "        return 0\n",
    "    elif smoker == 'Y' or smoker == 'yes':\n",
    "        return 1\n",
    "    return smoker"
   ],
   "metadata": {
    "collapsed": false,
    "pycharm": {
     "name": "#%%\n"
    }
   }
  },
  {
   "cell_type": "code",
   "execution_count": 386,
   "outputs": [],
   "source": [
    "df['smoker'] = df['smoker'].map(lambda smoker: sanitize_smoker(smoker))"
   ],
   "metadata": {
    "collapsed": false,
    "pycharm": {
     "name": "#%%\n"
    }
   }
  },
  {
   "cell_type": "code",
   "execution_count": 387,
   "outputs": [
    {
     "data": {
      "text/plain": "array([0, 1], dtype=int64)"
     },
     "execution_count": 387,
     "metadata": {},
     "output_type": "execute_result"
    }
   ],
   "source": [
    "df['smoker'].unique()"
   ],
   "metadata": {
    "collapsed": false,
    "pycharm": {
     "name": "#%%\n"
    }
   }
  },
  {
   "cell_type": "markdown",
   "source": [
    "V atribute smoker sme vymazali null hodnoty a zvysne nahradili integer hodnotami (encoding)."
   ],
   "metadata": {
    "collapsed": false,
    "pycharm": {
     "name": "#%% md\n"
    }
   }
  },
  {
   "cell_type": "markdown",
   "source": [
    "#### Atribut hbver"
   ],
   "metadata": {
    "collapsed": false
   }
  },
  {
   "cell_type": "code",
   "execution_count": null,
   "outputs": [],
   "source": [
    "print(len((df[df['hbver'].isnull()])))"
   ],
   "metadata": {
    "collapsed": false,
    "pycharm": {
     "name": "#%%\n"
    }
   }
  },
  {
   "cell_type": "code",
   "execution_count": null,
   "outputs": [],
   "source": [
    "imputer = KNNImputer(n_neighbors=5)\n",
    "df = pd.DataFrame(imputer.fit_transform(df), columns = df.columns)\n",
    "print(len((df[df['hbver'].isnull()])))"
   ],
   "metadata": {
    "collapsed": false,
    "pycharm": {
     "name": "#%%\n"
    }
   }
  },
  {
   "cell_type": "code",
   "execution_count": null,
   "outputs": [],
   "source": [
    "sns.displot(df['hbver'],bins=100)"
   ],
   "metadata": {
    "collapsed": false,
    "pycharm": {
     "name": "#%%\n"
    }
   }
  },
  {
   "cell_type": "code",
   "execution_count": null,
   "outputs": [],
   "source": [
    "lower = df['hbver'].quantile(0.25) - 1.5 * stats.iqr(df['hbver'])\n",
    "upper = df['hbver'].quantile(0.75) + 1.5 * stats.iqr(df['hbver'])\n",
    "\n",
    "df[\"hbver\"] = np.where(df[\"hbver\"] > upper, upper, df['hbver'])\n",
    "df[\"hbver\"] = np.where(df[\"hbver\"] < lower, lower, df['hbver'])\n",
    "sns.displot(df['hbver'],bins=100)"
   ],
   "metadata": {
    "collapsed": false,
    "pycharm": {
     "name": "#%%\n"
    }
   }
  },
  {
   "cell_type": "markdown",
   "source": [
    "V atribute hbver a v podstate celom datasete sme nahradili null hodnoty pomocou KNN algoritmu, cize dalej null hodnoty uz nebudeme riesit. A outlierov sme zase ustrihli a nahradili krajnymi hodnotami."
   ],
   "metadata": {
    "collapsed": false
   }
  },
  {
   "cell_type": "markdown",
   "source": [
    "#### Atribut er-cv"
   ],
   "metadata": {
    "collapsed": false,
    "pycharm": {
     "name": "#%% md\n"
    }
   }
  },
  {
   "cell_type": "code",
   "execution_count": 393,
   "outputs": [
    {
     "name": "stdout",
     "output_type": "stream",
     "text": [
      "0\n"
     ]
    }
   ],
   "source": [
    "print(len((df[df['er-cv'].isnull()])))"
   ],
   "metadata": {
    "collapsed": false,
    "pycharm": {
     "name": "#%%\n"
    }
   }
  },
  {
   "cell_type": "code",
   "execution_count": 394,
   "outputs": [
    {
     "data": {
      "text/plain": "<seaborn.axisgrid.FacetGrid at 0x1ece6f23c40>"
     },
     "execution_count": 394,
     "metadata": {},
     "output_type": "execute_result"
    },
    {
     "data": {
      "text/plain": "<Figure size 360x360 with 1 Axes>",
      "image/png": "[encoded data removed]"
     },
     "metadata": {
      "needs_background": "light"
     },
     "output_type": "display_data"
    }
   ],
   "source": [
    "sns.displot(df['er-cv'],bins=100)"
   ],
   "metadata": {
    "collapsed": false,
    "pycharm": {
     "name": "#%%\n"
    }
   }
  },
  {
   "cell_type": "code",
   "source": [
    "def identify_outliers(x):\n",
    "    lower_ = x.quantile(0.25) - 1.5 * stats.iqr(x)\n",
    "    upper_ = x.quantile(0.75) + 1.5 * stats.iqr(x)\n",
    "\n",
    "    return x[(x > upper_) | (x < lower_)]\n",
    "\n",
    "df_merged_out = identify_outliers(df[\"er-cv\"])\n",
    "df = df.drop(df_merged_out.index)\n",
    "sns.displot(df['er-cv'],bins=100)"
   ],
   "metadata": {
    "collapsed": false,
    "pycharm": {
     "name": "#%%\n"
    }
   },
   "execution_count": 395,
   "outputs": [
    {
     "data": {
      "text/plain": "<seaborn.axisgrid.FacetGrid at 0x1eceb83b070>"
     },
     "execution_count": 395,
     "metadata": {},
     "output_type": "execute_result"
    },
    {
     "data": {
      "text/plain": "<Figure size 360x360 with 1 Axes>",
      "image/png": "[encoded data removed]"
     },
     "metadata": {
      "needs_background": "light"
     },
     "output_type": "display_data"
    }
   ]
  },
  {
   "cell_type": "markdown",
   "source": [
    "V atribute er-cv sme uz teda nepotrebovali odstranovat null lebo knn. Outlierov sme odstranili pre zmenu.\n"
   ],
   "metadata": {
    "collapsed": false
   }
  },
  {
   "cell_type": "markdown",
   "source": [
    "#### Atribut hematokrit"
   ],
   "metadata": {
    "collapsed": false,
    "pycharm": {
     "name": "#%% md\n"
    }
   }
  },
  {
   "cell_type": "code",
   "execution_count": 409,
   "outputs": [
    {
     "name": "stdout",
     "output_type": "stream",
     "text": [
      "0\n"
     ]
    }
   ],
   "source": [
    "print(len((df[df['hematokrit'].isnull()])))"
   ],
   "metadata": {
    "collapsed": false,
    "pycharm": {
     "name": "#%%\n"
    }
   }
  },
  {
   "cell_type": "code",
   "execution_count": 410,
   "outputs": [
    {
     "data": {
      "text/plain": "<seaborn.axisgrid.FacetGrid at 0x1ecf55318e0>"
     },
     "execution_count": 410,
     "metadata": {},
     "output_type": "execute_result"
    },
    {
     "data": {
      "text/plain": "<Figure size 360x360 with 1 Axes>",
      "image/png": "[encoded data removed]"
     },
     "metadata": {
      "needs_background": "light"
     },
     "output_type": "display_data"
    }
   ],
   "source": [
    "sns.displot(df['hematokrit'],bins=100)"
   ],
   "metadata": {
    "collapsed": false,
    "pycharm": {
     "name": "#%%\n"
    }
   }
  },
  {
   "cell_type": "code",
   "execution_count": 411,
   "outputs": [
    {
     "data": {
      "text/plain": "<seaborn.axisgrid.FacetGrid at 0x1ecf553caf0>"
     },
     "execution_count": 411,
     "metadata": {},
     "output_type": "execute_result"
    },
    {
     "data": {
      "text/plain": "<Figure size 360x360 with 1 Axes>",
      "image/png": "[encoded data removed]"
     },
     "metadata": {
      "needs_background": "light"
     },
     "output_type": "display_data"
    }
   ],
   "source": [
    "lower = df['hematokrit'].quantile(0.25) - 1.5 * stats.iqr(df['hematokrit'])\n",
    "upper = df['hematokrit'].quantile(0.75) + 1.5 * stats.iqr(df['hematokrit'])\n",
    "\n",
    "df[\"hematokrit\"] = np.where(df[\"hematokrit\"] > upper, upper, df['hematokrit'])\n",
    "df[\"hematokrit\"] = np.where(df[\"hematokrit\"] < lower, lower, df['hematokrit'])\n",
    "sns.displot(df['hematokrit'],bins=100)"
   ],
   "metadata": {
    "collapsed": false,
    "pycharm": {
     "name": "#%%\n"
    }
   }
  },
  {
   "cell_type": "markdown",
   "source": [
    "V atribute hematokrit sme uz nepotrebovali odstranovat null lebo KNN. Outlierov sme nahradili krajnými hodnotami."
   ],
   "metadata": {
    "collapsed": false
   }
  },
  {
   "cell_type": "markdown",
   "source": [
    "#### Atribut leukocyty"
   ],
   "metadata": {
    "collapsed": false
   }
  },
  {
   "cell_type": "code",
   "execution_count": 412,
   "outputs": [
    {
     "name": "stdout",
     "output_type": "stream",
     "text": [
      "0\n"
     ]
    }
   ],
   "source": [
    "print(len((df[df['leukocyty'].isnull()])))"
   ],
   "metadata": {
    "collapsed": false,
    "pycharm": {
     "name": "#%%\n"
    }
   }
  },
  {
   "cell_type": "code",
   "execution_count": 413,
   "outputs": [
    {
     "data": {
      "text/plain": "<seaborn.axisgrid.FacetGrid at 0x1ecf5703340>"
     },
     "execution_count": 413,
     "metadata": {},
     "output_type": "execute_result"
    },
    {
     "data": {
      "text/plain": "<Figure size 360x360 with 1 Axes>",
      "image/png": "[encoded data removed]"
     },
     "metadata": {
      "needs_background": "light"
     },
     "output_type": "display_data"
    }
   ],
   "source": [
    "sns.displot(df['leukocyty'],bins=100)"
   ],
   "metadata": {
    "collapsed": false,
    "pycharm": {
     "name": "#%%\n"
    }
   }
  },
  {
   "cell_type": "code",
   "execution_count": 414,
   "outputs": [
    {
     "data": {
      "text/plain": "<seaborn.axisgrid.FacetGrid at 0x1ecf51a3dc0>"
     },
     "execution_count": 414,
     "metadata": {},
     "output_type": "execute_result"
    },
    {
     "data": {
      "text/plain": "<Figure size 360x360 with 1 Axes>",
      "image/png": "[encoded data removed]"
     },
     "metadata": {
      "needs_background": "light"
     },
     "output_type": "display_data"
    }
   ],
   "source": [
    "def identify_outliers(x):\n",
    "    lower_ = x.quantile(0.25) - 1.5 * stats.iqr(x)\n",
    "    upper_ = x.quantile(0.75) + 1.5 * stats.iqr(x)\n",
    "\n",
    "    return x[(x > upper_) | (x < lower_)]\n",
    "\n",
    "df_merged_out = identify_outliers(df[\"leukocyty\"])\n",
    "df = df.drop(df_merged_out.index)\n",
    "sns.displot(df['leukocyty'],bins=100)"
   ],
   "metadata": {
    "collapsed": false,
    "pycharm": {
     "name": "#%%\n"
    }
   }
  },
  {
   "cell_type": "markdown",
   "source": [
    "V atribute leukocyty sme uz teda nepotrebovali odstranovat null lebo knn. Outlierov sme odstranili pre zmenu."
   ],
   "metadata": {
    "collapsed": false
   }
  },
  {
   "cell_type": "markdown",
   "source": [
    "#### Atribut alp"
   ],
   "metadata": {
    "collapsed": false
   }
  },
  {
   "cell_type": "code",
   "execution_count": 415,
   "outputs": [
    {
     "name": "stdout",
     "output_type": "stream",
     "text": [
      "0\n"
     ]
    }
   ],
   "source": [
    "print(len((df[df['alp'].isnull()])))"
   ],
   "metadata": {
    "collapsed": false,
    "pycharm": {
     "name": "#%%\n"
    }
   }
  },
  {
   "cell_type": "code",
   "execution_count": 416,
   "outputs": [
    {
     "data": {
      "text/plain": "<seaborn.axisgrid.FacetGrid at 0x1ecf57badf0>"
     },
     "execution_count": 416,
     "metadata": {},
     "output_type": "execute_result"
    },
    {
     "data": {
      "text/plain": "<Figure size 360x360 with 1 Axes>",
      "image/png": "[encoded data removed]"
     },
     "metadata": {
      "needs_background": "light"
     },
     "output_type": "display_data"
    }
   ],
   "source": [
    "sns.displot(df['alp'],bins=100)"
   ],
   "metadata": {
    "collapsed": false,
    "pycharm": {
     "name": "#%%\n"
    }
   }
  },
  {
   "cell_type": "code",
   "execution_count": 417,
   "outputs": [
    {
     "data": {
      "text/plain": "<seaborn.axisgrid.FacetGrid at 0x1ecf5b5d370>"
     },
     "execution_count": 417,
     "metadata": {},
     "output_type": "execute_result"
    },
    {
     "data": {
      "text/plain": "<Figure size 360x360 with 1 Axes>",
      "image/png": "[encoded data removed]"
     },
     "metadata": {
      "needs_background": "light"
     },
     "output_type": "display_data"
    }
   ],
   "source": [
    "def identify_outliers(x):\n",
    "    lower_ = x.quantile(0.25) - 1.5 * stats.iqr(x)\n",
    "    upper_ = x.quantile(0.75) + 1.5 * stats.iqr(x)\n",
    "\n",
    "    return x[(x > upper_) | (x < lower_)]\n",
    "\n",
    "df_merged_out = identify_outliers(df[\"alp\"])\n",
    "df = df.drop(df_merged_out.index)\n",
    "sns.displot(df['alp'],bins=100)"
   ],
   "metadata": {
    "collapsed": false,
    "pycharm": {
     "name": "#%%\n"
    }
   }
  },
  {
   "cell_type": "markdown",
   "source": [
    "V atribute alp sme uz teda nepotrebovali odstranovat null lebo knn. Outlierov sme odstranili pre zmenu.\n"
   ],
   "metadata": {
    "collapsed": false
   }
  },
  {
   "cell_type": "markdown",
   "source": [
    "#### Atribut hemoglobin"
   ],
   "metadata": {
    "collapsed": false
   }
  },
  {
   "cell_type": "code",
   "execution_count": 418,
   "outputs": [
    {
     "name": "stdout",
     "output_type": "stream",
     "text": [
      "0\n"
     ]
    }
   ],
   "source": [
    "print(len((df[df['hemoglobin'].isnull()])))"
   ],
   "metadata": {
    "collapsed": false,
    "pycharm": {
     "name": "#%%\n"
    }
   }
  },
  {
   "cell_type": "code",
   "execution_count": 419,
   "outputs": [
    {
     "data": {
      "text/plain": "<seaborn.axisgrid.FacetGrid at 0x1ecf56eb070>"
     },
     "execution_count": 419,
     "metadata": {},
     "output_type": "execute_result"
    },
    {
     "data": {
      "text/plain": "<Figure size 360x360 with 1 Axes>",
      "image/png": "[encoded data removed]"
     },
     "metadata": {
      "needs_background": "light"
     },
     "output_type": "display_data"
    }
   ],
   "source": [
    "sns.displot(df['hemoglobin'],bins=100)"
   ],
   "metadata": {
    "collapsed": false,
    "pycharm": {
     "name": "#%%\n"
    }
   }
  },
  {
   "cell_type": "code",
   "execution_count": 420,
   "outputs": [
    {
     "data": {
      "text/plain": "<seaborn.axisgrid.FacetGrid at 0x1ecf5a0f610>"
     },
     "execution_count": 420,
     "metadata": {},
     "output_type": "execute_result"
    },
    {
     "data": {
      "text/plain": "<Figure size 360x360 with 1 Axes>",
      "image/png": "[encoded data removed]"
     },
     "metadata": {
      "needs_background": "light"
     },
     "output_type": "display_data"
    }
   ],
   "source": [
    "def identify_outliers(x):\n",
    "    lower_ = x.quantile(0.25) - 1.5 * stats.iqr(x)\n",
    "    upper_ = x.quantile(0.75) + 1.5 * stats.iqr(x)\n",
    "\n",
    "    return x[(x > upper_) | (x < lower_)]\n",
    "\n",
    "df_merged_out = identify_outliers(df[\"alp\"])\n",
    "df = df.drop(df_merged_out.index)\n",
    "sns.displot(df['alp'],bins=100)"
   ],
   "metadata": {
    "collapsed": false,
    "pycharm": {
     "name": "#%%\n"
    }
   }
  },
  {
   "cell_type": "markdown",
   "source": [
    "V atribute hemoglobin sme uz teda nepotrebovali odstranovat null lebo knn. Outlierov sme odstranili pre zmenu."
   ],
   "metadata": {
    "collapsed": false
   }
  },
  {
   "cell_type": "markdown",
   "source": [
    "#### Atribut ast"
   ],
   "metadata": {
    "collapsed": false
   }
  },
  {
   "cell_type": "code",
   "execution_count": 421,
   "outputs": [
    {
     "name": "stdout",
     "output_type": "stream",
     "text": [
      "0\n"
     ]
    }
   ],
   "source": [
    "print(len((df[df['ast'].isnull()])))"
   ],
   "metadata": {
    "collapsed": false,
    "pycharm": {
     "name": "#%%\n"
    }
   }
  },
  {
   "cell_type": "code",
   "execution_count": 422,
   "outputs": [
    {
     "data": {
      "text/plain": "<seaborn.axisgrid.FacetGrid at 0x1ecf5e0ca00>"
     },
     "execution_count": 422,
     "metadata": {},
     "output_type": "execute_result"
    },
    {
     "data": {
      "text/plain": "<Figure size 360x360 with 1 Axes>",
      "image/png": "[encoded data removed]"
     },
     "metadata": {
      "needs_background": "light"
     },
     "output_type": "display_data"
    }
   ],
   "source": [
    "sns.displot(df['ast'],bins=100)"
   ],
   "metadata": {
    "collapsed": false,
    "pycharm": {
     "name": "#%%\n"
    }
   }
  },
  {
   "cell_type": "code",
   "execution_count": 423,
   "outputs": [
    {
     "data": {
      "text/plain": "<seaborn.axisgrid.FacetGrid at 0x1ecf5c7b370>"
     },
     "execution_count": 423,
     "metadata": {},
     "output_type": "execute_result"
    },
    {
     "data": {
      "text/plain": "<Figure size 360x360 with 1 Axes>",
      "image/png": "[encoded data removed]"
     },
     "metadata": {
      "needs_background": "light"
     },
     "output_type": "display_data"
    }
   ],
   "source": [
    "lower = df['ast'].quantile(0.25) - 1.5 * stats.iqr(df['ast'])\n",
    "upper = df['ast'].quantile(0.75) + 1.5 * stats.iqr(df['ast'])\n",
    "\n",
    "df[\"ast\"] = np.where(df[\"ast\"] > upper, upper, df['ast'])\n",
    "df[\"ast\"] = np.where(df[\"ast\"] < lower, lower, df['ast'])\n",
    "sns.displot(df['ast'],bins=100)"
   ],
   "metadata": {
    "collapsed": false,
    "pycharm": {
     "name": "#%%\n"
    }
   }
  },
  {
   "cell_type": "markdown",
   "source": [
    "V atribute ast sme uz nepotrebovali odstranovat null lebo KNN. Outlierov sme nahradili krajnými hodnotami."
   ],
   "metadata": {
    "collapsed": false
   }
  },
  {
   "cell_type": "markdown",
   "source": [
    "#### Atribut alt"
   ],
   "metadata": {
    "collapsed": false
   }
  },
  {
   "cell_type": "code",
   "execution_count": 424,
   "outputs": [
    {
     "name": "stdout",
     "output_type": "stream",
     "text": [
      "0\n"
     ]
    }
   ],
   "source": [
    "print(len((df[df['alt'].isnull()])))"
   ],
   "metadata": {
    "collapsed": false,
    "pycharm": {
     "name": "#%%\n"
    }
   }
  },
  {
   "cell_type": "code",
   "execution_count": 425,
   "outputs": [
    {
     "data": {
      "text/plain": "<seaborn.axisgrid.FacetGrid at 0x1ecf607ab80>"
     },
     "execution_count": 425,
     "metadata": {},
     "output_type": "execute_result"
    },
    {
     "data": {
      "text/plain": "<Figure size 360x360 with 1 Axes>",
      "image/png": "[encoded data removed]"
     },
     "metadata": {
      "needs_background": "light"
     },
     "output_type": "display_data"
    }
   ],
   "source": [
    "sns.displot(df['alt'],bins=100)"
   ],
   "metadata": {
    "collapsed": false,
    "pycharm": {
     "name": "#%%\n"
    }
   }
  },
  {
   "cell_type": "code",
   "execution_count": 426,
   "outputs": [
    {
     "data": {
      "text/plain": "<seaborn.axisgrid.FacetGrid at 0x1ecf5e0cb20>"
     },
     "execution_count": 426,
     "metadata": {},
     "output_type": "execute_result"
    },
    {
     "data": {
      "text/plain": "<Figure size 360x360 with 1 Axes>",
      "image/png": "[encoded data removed]"
     },
     "metadata": {
      "needs_background": "light"
     },
     "output_type": "display_data"
    }
   ],
   "source": [
    "def identify_outliers(x):\n",
    "    lower_ = x.quantile(0.25) - 1.5 * stats.iqr(x)\n",
    "    upper_ = x.quantile(0.75) + 1.5 * stats.iqr(x)\n",
    "\n",
    "    return x[(x > upper_) | (x < lower_)]\n",
    "\n",
    "df_merged_out = identify_outliers(df[\"alt\"])\n",
    "df = df.drop(df_merged_out.index)\n",
    "sns.displot(df['alt'],bins=100)"
   ],
   "metadata": {
    "collapsed": false,
    "pycharm": {
     "name": "#%%\n"
    }
   }
  },
  {
   "cell_type": "markdown",
   "source": [
    "V atribute alt sme uz teda nepotrebovali odstranovat null lebo knn. Outlierov sme odstranili pre zmenu."
   ],
   "metadata": {
    "collapsed": false
   }
  },
  {
   "cell_type": "markdown",
   "source": [
    "#### Atribut etytr"
   ],
   "metadata": {
    "collapsed": false
   }
  },
  {
   "cell_type": "code",
   "execution_count": 427,
   "outputs": [
    {
     "name": "stdout",
     "output_type": "stream",
     "text": [
      "0\n"
     ]
    }
   ],
   "source": [
    "print(len((df[df['etytr'].isnull()])))"
   ],
   "metadata": {
    "collapsed": false,
    "pycharm": {
     "name": "#%%\n"
    }
   }
  },
  {
   "cell_type": "code",
   "execution_count": 428,
   "outputs": [
    {
     "data": {
      "text/plain": "<seaborn.axisgrid.FacetGrid at 0x1ecf92b6e50>"
     },
     "execution_count": 428,
     "metadata": {},
     "output_type": "execute_result"
    },
    {
     "data": {
      "text/plain": "<Figure size 360x360 with 1 Axes>",
      "image/png": "[encoded data removed]"
     },
     "metadata": {
      "needs_background": "light"
     },
     "output_type": "display_data"
    }
   ],
   "source": [
    "sns.displot(df['etytr'],bins=100)"
   ],
   "metadata": {
    "collapsed": false,
    "pycharm": {
     "name": "#%%\n"
    }
   }
  },
  {
   "cell_type": "code",
   "execution_count": 429,
   "outputs": [
    {
     "data": {
      "text/plain": "<seaborn.axisgrid.FacetGrid at 0x1ecf918bd00>"
     },
     "execution_count": 429,
     "metadata": {},
     "output_type": "execute_result"
    },
    {
     "data": {
      "text/plain": "<Figure size 360x360 with 1 Axes>",
      "image/png": "[encoded data removed]"
     },
     "metadata": {
      "needs_background": "light"
     },
     "output_type": "display_data"
    }
   ],
   "source": [
    "def identify_outliers(x):\n",
    "    lower_ = x.quantile(0.25) - 1.5 * stats.iqr(x)\n",
    "    upper_ = x.quantile(0.75) + 1.5 * stats.iqr(x)\n",
    "\n",
    "    return x[(x > upper_) | (x < lower_)]\n",
    "\n",
    "df_merged_out = identify_outliers(df[\"etytr\"])\n",
    "df = df.drop(df_merged_out.index)\n",
    "sns.displot(df['etytr'],bins=100)"
   ],
   "metadata": {
    "collapsed": false,
    "pycharm": {
     "name": "#%%\n"
    }
   }
  },
  {
   "cell_type": "markdown",
   "source": [
    "V atribute etytr sme uz teda nepotrebovali odstranovat null lebo knn. Outlierov sme odstranili pre zmenu."
   ],
   "metadata": {
    "collapsed": false
   }
  },
  {
   "cell_type": "markdown",
   "source": [
    "#### Atribut ast"
   ],
   "metadata": {
    "collapsed": false,
    "pycharm": {
     "name": "#%% md\n"
    }
   }
  },
  {
   "cell_type": "code",
   "execution_count": 430,
   "outputs": [
    {
     "name": "stdout",
     "output_type": "stream",
     "text": [
      "0\n"
     ]
    }
   ],
   "source": [
    "print(len((df[df['age'].isnull()])))"
   ],
   "metadata": {
    "collapsed": false,
    "pycharm": {
     "name": "#%%\n"
    }
   }
  },
  {
   "cell_type": "code",
   "execution_count": 431,
   "outputs": [
    {
     "data": {
      "text/plain": "<seaborn.axisgrid.FacetGrid at 0x1ecf92c4370>"
     },
     "execution_count": 431,
     "metadata": {},
     "output_type": "execute_result"
    },
    {
     "data": {
      "text/plain": "<Figure size 360x360 with 1 Axes>",
      "image/png": "[encoded data removed]"
     },
     "metadata": {
      "needs_background": "light"
     },
     "output_type": "display_data"
    }
   ],
   "source": [
    "sns.displot(df['age'],bins=100)"
   ],
   "metadata": {
    "collapsed": false,
    "pycharm": {
     "name": "#%%\n"
    }
   }
  },
  {
   "cell_type": "code",
   "execution_count": 432,
   "outputs": [
    {
     "data": {
      "text/plain": "<seaborn.axisgrid.FacetGrid at 0x1ecfa425c10>"
     },
     "execution_count": 432,
     "metadata": {},
     "output_type": "execute_result"
    },
    {
     "data": {
      "text/plain": "<Figure size 360x360 with 1 Axes>",
      "image/png": "[encoded data removed]"
     },
     "metadata": {
      "needs_background": "light"
     },
     "output_type": "display_data"
    }
   ],
   "source": [
    "lower = df['age'].quantile(0.25) - 1.5 * stats.iqr(df['age'])\n",
    "upper = df['age'].quantile(0.75) + 1.5 * stats.iqr(df['age'])\n",
    "\n",
    "df[\"age\"] = np.where(df[\"age\"] > upper, upper, df['age'])\n",
    "df[\"age\"] = np.where(df[\"age\"] < lower, lower, df['age'])\n",
    "sns.displot(df['age'],bins=100)"
   ],
   "metadata": {
    "collapsed": false,
    "pycharm": {
     "name": "#%%\n"
    }
   }
  },
  {
   "cell_type": "markdown",
   "source": [
    "V atribute age sme uz nepotrebovali odstranovat null lebo KNN. Outlierov sme nahradili krajnými hodnotami."
   ],
   "metadata": {
    "collapsed": false,
    "pycharm": {
     "name": "#%% md\n"
    }
   }
  },
  {
   "cell_type": "code",
   "execution_count": null,
   "outputs": [],
   "source": [],
   "metadata": {
    "collapsed": false,
    "pycharm": {
     "name": "#%%\n"
    }
   }
  }
 ],
 "metadata": {
  "kernelspec": {
   "display_name": "Python 3 (ipykernel)",
   "language": "python",
   "name": "python3"
  },
  "language_info": {
   "codemirror_mode": {
    "name": "ipython",
    "version": 3
   },
   "file_extension": ".py",
   "mimetype": "text/x-python",
   "name": "python",
   "nbconvert_exporter": "python",
   "pygments_lexer": "ipython3",
   "version": "3.9.0"
  }
 },
 "nbformat": 4,
 "nbformat_minor": 4
}