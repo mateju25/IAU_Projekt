{
 "cells": [
  {
   "cell_type": "markdown",
   "metadata": {},
   "source": [
    "# Fáza 2 - predspracovanie údajov\n",
    "## Autori: Matej Delinčák (50%), Martin Pirkovský (50%)"
   ]
  },
  {
   "cell_type": "code",
   "execution_count": 675,
   "metadata": {},
   "outputs": [],
   "source": [
    "import pandas as pd\n",
    "import numpy as np\n",
    "from numpy import mean\n",
    "import datetime\n",
    "from scipy import stats\n",
    "from sklearn.impute import KNNImputer\n",
    "from sklearn.model_selection import train_test_split\n",
    "from sklearn.preprocessing import PowerTransformer\n",
    "from sklearn.preprocessing import MinMaxScaler\n",
    "from sklearn.feature_selection import SelectKBest\n",
    "from sklearn.feature_selection import f_classif\n",
    "from sklearn.linear_model import LogisticRegression\n",
    "from sklearn.model_selection import RepeatedStratifiedKFold\n",
    "from sklearn.pipeline import Pipeline\n",
    "from sklearn.model_selection import cross_val_score\n",
    "from sklearn.preprocessing import OrdinalEncoder\n",
    "from sklearn.pipeline import make_pipeline\n",
    "\n",
    "\n",
    "\n",
    "pd.set_option(\"display.max_columns\", None)"
   ]
  },
  {
   "cell_type": "markdown",
   "metadata": {
    "pycharm": {
     "name": "#%% md\n"
    }
   },
   "source": [
    "## 1. Integrácia a čistenie dát (5b)"
   ]
  },
  {
   "cell_type": "code",
   "execution_count": 676,
   "metadata": {},
   "outputs": [],
   "source": [
    "def load_datasets(filename1, filename2):\n",
    "    df_profiles = pd.read_csv(filename1, sep='\\t', parse_dates=['birthdate'])\n",
    "    df_profiles.drop('Unnamed: 0', axis=1, inplace=True)\n",
    "    df_labor = pd.read_csv(filename2, sep='\\t')\n",
    "    df_labor.drop('Unnamed: 0', axis=1, inplace=True)\n",
    "    return pd.merge(df_profiles,df_labor,on='name',how='outer')"
   ]
  },
  {
   "cell_type": "markdown",
   "metadata": {},
   "source": [
    "Funkcia load_datasets načíta z dvoch súborov dataset, prvý stĺpec s poradovým číslom vyhodí a parsne dátum do spravného tvaru."
   ]
  },
  {
   "cell_type": "code",
   "execution_count": 677,
   "metadata": {
    "pycharm": {
     "name": "#%%\n"
    }
   },
   "outputs": [],
   "source": [
    "df = load_datasets(\"001/profiles.csv\",\"001/labor.csv\")"
   ]
  },
  {
   "cell_type": "code",
   "execution_count": 678,
   "metadata": {
    "pycharm": {
     "name": "#%%\n"
    }
   },
   "outputs": [],
   "source": [
    "## vyhodili sme tieto stlpce: job, residence, birthdate(zamenit za age), ssn_x, current_location, name, ssn_y\n",
    "\n",
    "def fix_dataset(dataset):\n",
    "    dataset.replace('no', 'N', inplace=True)\n",
    "    dataset.replace('yes', 'Y', inplace=True)\n",
    "    dataset.replace('divoced', 'divorced', inplace=True)\n",
    "    dataset.replace('black', 'Black', inplace=True)\n",
    "    dataset.replace('blsck', 'Black', inplace=True)\n",
    "    dataset.replace('white', 'White', inplace=True)\n",
    "    dataset[\"age\"] = datetime.datetime.now().year - pd.DatetimeIndex(dataset[\"birthdate\"]).year\n",
    "    dataset.drop(dataset[dataset.weight < 0].index, inplace=True)\n",
    "    dataset = dataset.drop(columns=['residence', 'birthdate', 'ssn_x', 'current_location', 'name', 'ssn_y', 'job'])\n",
    "    dataset.drop_duplicates\n",
    "    return dataset"
   ]
  },
  {
   "cell_type": "markdown",
   "metadata": {},
   "source": [
    "Funkcia fix_dataset v datasete upraví rozhádzané hodnoty, aby sme ich neskôr mohli ľahšie použiť. A takisto aj vytvorí stĺpec age."
   ]
  },
  {
   "cell_type": "code",
   "execution_count": 679,
   "metadata": {},
   "outputs": [],
   "source": [
    "df = fix_dataset(df)"
   ]
  },
  {
   "cell_type": "markdown",
   "metadata": {
    "pycharm": {
     "name": "#%% md\n"
    }
   },
   "source": [
    "## Predspracovanie jednotlivych atributov\n",
    "### Atribut sex"
   ]
  },
  {
   "cell_type": "code",
   "execution_count": 680,
   "metadata": {
    "pycharm": {
     "name": "#%%\n"
    }
   },
   "outputs": [
    {
     "name": "stdout",
     "output_type": "stream",
     "text": [
      "0\n"
     ]
    }
   ],
   "source": [
    "print(len((df[df['sex'].isnull()])))"
   ]
  },
  {
   "cell_type": "code",
   "execution_count": 681,
   "metadata": {},
   "outputs": [
    {
     "data": {
      "text/plain": [
       "array(['M', 'F'], dtype=object)"
      ]
     },
     "execution_count": 681,
     "metadata": {},
     "output_type": "execute_result"
    }
   ],
   "source": [
    "df['sex'].unique()"
   ]
  },
  {
   "cell_type": "code",
   "execution_count": 682,
   "metadata": {
    "pycharm": {
     "name": "#%%\n"
    }
   },
   "outputs": [],
   "source": [
    "def sanitize_sex(sex):\n",
    "    return 1 if sex == \"M\" else 0"
   ]
  },
  {
   "cell_type": "code",
   "execution_count": 683,
   "metadata": {
    "pycharm": {
     "name": "#%%\n"
    }
   },
   "outputs": [],
   "source": [
    "df['sex'] = df['sex'].map(lambda x: sanitize_sex(x))"
   ]
  },
  {
   "cell_type": "code",
   "execution_count": 684,
   "metadata": {
    "pycharm": {
     "name": "#%%\n"
    }
   },
   "outputs": [
    {
     "data": {
      "text/plain": [
       "array([1, 0], dtype=int64)"
      ]
     },
     "execution_count": 684,
     "metadata": {},
     "output_type": "execute_result"
    }
   ],
   "source": [
    "df['sex'].unique()"
   ]
  },
  {
   "cell_type": "markdown",
   "metadata": {
    "pycharm": {
     "name": "#%% md\n"
    }
   },
   "source": [
    "Atribút sex nemá žiadne null hodnoty, a teda nepotrebujeme riešiť chybajúce hodnoty.\n",
    "Zamenili sme hodnoty 'M' za 1 a 'F' za 0. Tieto hodnoty nebolo potrebné upravovať,\n",
    "nakoľko všetky boli v tvare 'M' alebo 'F'."
   ]
  },
  {
   "cell_type": "markdown",
   "metadata": {
    "pycharm": {
     "name": "#%% md\n"
    }
   },
   "source": [
    "### Atribut blood_group"
   ]
  },
  {
   "cell_type": "code",
   "execution_count": 685,
   "metadata": {
    "pycharm": {
     "name": "#%%\n"
    }
   },
   "outputs": [
    {
     "name": "stdout",
     "output_type": "stream",
     "text": [
      "0\n"
     ]
    }
   ],
   "source": [
    "print(len((df[df['blood_group'].isnull()])))"
   ]
  },
  {
   "cell_type": "code",
   "execution_count": 686,
   "metadata": {
    "pycharm": {
     "name": "#%%\n"
    }
   },
   "outputs": [],
   "source": [
    "def sanitize_blood_group(blood_group):\n",
    "    if blood_group == 'B-':\n",
    "        return 0\n",
    "    elif blood_group == 'B+':\n",
    "        return 1\n",
    "    elif blood_group == 'AB+':\n",
    "        return 2\n",
    "    elif blood_group == 'O+':\n",
    "        return 3\n",
    "    elif blood_group == 'AB-':\n",
    "        return 4\n",
    "    elif blood_group == 'A-':\n",
    "        return 5\n",
    "    elif blood_group == 'O-':\n",
    "        return 6\n",
    "    elif blood_group == 'A+':\n",
    "        return 7\n",
    "    return blood_group"
   ]
  },
  {
   "cell_type": "code",
   "execution_count": 687,
   "metadata": {
    "pycharm": {
     "name": "#%%\n"
    }
   },
   "outputs": [],
   "source": [
    "df['blood_group'] = df['blood_group'].map(lambda x: sanitize_blood_group(x))"
   ]
  },
  {
   "cell_type": "code",
   "execution_count": 688,
   "metadata": {
    "pycharm": {
     "name": "#%%\n"
    }
   },
   "outputs": [
    {
     "data": {
      "text/plain": [
       "array([0, 1, 2, 3, 4, 5, 6, 7], dtype=int64)"
      ]
     },
     "execution_count": 688,
     "metadata": {},
     "output_type": "execute_result"
    }
   ],
   "source": [
    "df['blood_group'].unique()"
   ]
  },
  {
   "cell_type": "markdown",
   "metadata": {},
   "source": [
    "### Atribut race"
   ]
  },
  {
   "cell_type": "code",
   "execution_count": 689,
   "metadata": {
    "pycharm": {
     "name": "#%%\n"
    }
   },
   "outputs": [
    {
     "name": "stdout",
     "output_type": "stream",
     "text": [
      "0\n"
     ]
    }
   ],
   "source": [
    "print(len((df[df['race'].isnull()])))"
   ]
  },
  {
   "cell_type": "code",
   "execution_count": 690,
   "metadata": {
    "pycharm": {
     "name": "#%%\n"
    }
   },
   "outputs": [],
   "source": [
    "def sanitize_race(race):\n",
    "    if race == 'black' or race == 'blsck' or race == 'Black':\n",
    "        return 0\n",
    "    elif race == 'white' or race == 'White':\n",
    "        return 1\n",
    "    elif race == 'Indian':\n",
    "        return 2\n",
    "    elif race == 'Asian':\n",
    "        return 3\n",
    "    elif race == 'Hawaiian':\n",
    "        return 4\n",
    "    return race"
   ]
  },
  {
   "cell_type": "code",
   "execution_count": 691,
   "metadata": {
    "pycharm": {
     "name": "#%%\n"
    }
   },
   "outputs": [],
   "source": [
    "df['race'] = df['race'].map(lambda race: sanitize_race(race))"
   ]
  },
  {
   "cell_type": "code",
   "execution_count": 692,
   "metadata": {
    "pycharm": {
     "name": "#%%\n"
    }
   },
   "outputs": [
    {
     "data": {
      "text/plain": [
       "array([1, 2, 0, 3, 4], dtype=int64)"
      ]
     },
     "execution_count": 692,
     "metadata": {},
     "output_type": "execute_result"
    }
   ],
   "source": [
    "df['race'].unique()"
   ]
  },
  {
   "cell_type": "markdown",
   "metadata": {
    "pycharm": {
     "name": "#%% md\n"
    }
   },
   "source": [
    "### Atribut erytrocyty"
   ]
  },
  {
   "cell_type": "code",
   "execution_count": 693,
   "metadata": {
    "pycharm": {
     "name": "#%%\n"
    }
   },
   "outputs": [
    {
     "name": "stdout",
     "output_type": "stream",
     "text": [
      "31\n"
     ]
    }
   ],
   "source": [
    "print(len((df[df['erytrocyty'].isnull()])))"
   ]
  },
  {
   "cell_type": "code",
   "execution_count": 694,
   "metadata": {
    "pycharm": {
     "name": "#%%\n"
    }
   },
   "outputs": [
    {
     "name": "stdout",
     "output_type": "stream",
     "text": [
      "0\n"
     ]
    }
   ],
   "source": [
    "df.dropna(subset = [\"erytrocyty\"], inplace=True)\n",
    "print(len((df[df['erytrocyty'].isnull()])))"
   ]
  },
  {
   "cell_type": "code",
   "execution_count": 695,
   "metadata": {
    "pycharm": {
     "name": "#%%\n"
    },
    "scrolled": true
   },
   "outputs": [
    {
     "data": {
      "text/plain": [
       "<seaborn.axisgrid.FacetGrid at 0x266132eefa0>"
      ]
     },
     "execution_count": 695,
     "metadata": {},
     "output_type": "execute_result"
    },
    {
     "data": {
      "image/png": "[encoded data removed]",
      "text/plain": [
       "<Figure size 360x360 with 1 Axes>"
      ]
     },
     "metadata": {
      "needs_background": "light"
     },
     "output_type": "display_data"
    }
   ],
   "source": [
    "sns.displot(df['erytrocyty'],bins=100)"
   ]
  },
  {
   "cell_type": "code",
   "execution_count": 696,
   "metadata": {},
   "outputs": [],
   "source": [
    "def identify_outliers(x):\n",
    "    lower_ = x.quantile(0.25) - 1.5 * stats.iqr(x)\n",
    "    upper_ = x.quantile(0.75) + 1.5 * stats.iqr(x)\n",
    "\n",
    "    return x[(x > upper_) | (x < lower_)]"
   ]
  },
  {
   "cell_type": "markdown",
   "metadata": {},
   "source": [
    "Funkcia identify_outliers vráti z poľa čísel outlierov. Týcho môžme potom ďalej buď vyhodiť alebo nahradiť hodnotami."
   ]
  },
  {
   "cell_type": "code",
   "execution_count": 697,
   "metadata": {
    "pycharm": {
     "name": "#%%\n"
    }
   },
   "outputs": [
    {
     "data": {
      "text/plain": [
       "<seaborn.axisgrid.FacetGrid at 0x26611cee190>"
      ]
     },
     "execution_count": 697,
     "metadata": {},
     "output_type": "execute_result"
    },
    {
     "data": {
      "image/png": "[encoded data removed]",
      "text/plain": [
       "<Figure size 360x360 with 1 Axes>"
      ]
     },
     "metadata": {
      "needs_background": "light"
     },
     "output_type": "display_data"
    }
   ],
   "source": [
    "df_merged_out = identify_outliers(df[\"erytrocyty\"])\n",
    "df = df.drop(df_merged_out.index)\n",
    "sns.displot(df['erytrocyty'],bins=100)"
   ]
  },
  {
   "cell_type": "markdown",
   "metadata": {},
   "source": [
    "V atribute eryrocyty sme null hodnoty vyhodili a outlierov sme vyhodili takisto. Na grafoch je vidno, že outliery sú preč."
   ]
  },
  {
   "cell_type": "markdown",
   "metadata": {
    "pycharm": {
     "name": "#%% md\n"
    }
   },
   "source": [
    "#### Atribut trombocyty"
   ]
  },
  {
   "cell_type": "code",
   "execution_count": 698,
   "metadata": {
    "pycharm": {
     "name": "#%%\n"
    }
   },
   "outputs": [
    {
     "name": "stdout",
     "output_type": "stream",
     "text": [
      "31\n"
     ]
    }
   ],
   "source": [
    "print(len((df[df['trombocyty'].isnull()])))"
   ]
  },
  {
   "cell_type": "code",
   "execution_count": 699,
   "metadata": {
    "pycharm": {
     "name": "#%%\n"
    }
   },
   "outputs": [
    {
     "name": "stdout",
     "output_type": "stream",
     "text": [
      "0\n"
     ]
    }
   ],
   "source": [
    "df['trombocyty'].fillna(df['trombocyty'].mean(), inplace=True)\n",
    "print(len((df[df['trombocyty'].isnull()])))"
   ]
  },
  {
   "cell_type": "code",
   "execution_count": 700,
   "metadata": {
    "pycharm": {
     "name": "#%%\n"
    }
   },
   "outputs": [
    {
     "data": {
      "text/plain": [
       "<seaborn.axisgrid.FacetGrid at 0x2661810df70>"
      ]
     },
     "execution_count": 700,
     "metadata": {},
     "output_type": "execute_result"
    },
    {
     "data": {
      "image/png": "[encoded data removed]",
      "text/plain": [
       "<Figure size 360x360 with 1 Axes>"
      ]
     },
     "metadata": {
      "needs_background": "light"
     },
     "output_type": "display_data"
    }
   ],
   "source": [
    "sns.displot(df['trombocyty'],bins=100)"
   ]
  },
  {
   "cell_type": "code",
   "execution_count": 701,
   "metadata": {
    "pycharm": {
     "name": "#%%\n"
    }
   },
   "outputs": [
    {
     "data": {
      "text/plain": [
       "<seaborn.axisgrid.FacetGrid at 0x266180f2ee0>"
      ]
     },
     "execution_count": 701,
     "metadata": {},
     "output_type": "execute_result"
    },
    {
     "data": {
      "image/png": "[encoded data removed]",
      "text/plain": [
       "<Figure size 360x360 with 1 Axes>"
      ]
     },
     "metadata": {
      "needs_background": "light"
     },
     "output_type": "display_data"
    }
   ],
   "source": [
    "lower = df['trombocyty'].quantile(0.25) - 1.5 * stats.iqr(df['trombocyty'])\n",
    "upper = df['trombocyty'].quantile(0.75) + 1.5 * stats.iqr(df['trombocyty'])\n",
    "\n",
    "df[\"trombocyty\"] = np.where(df[\"trombocyty\"] > upper, upper, df['trombocyty'])\n",
    "df[\"trombocyty\"] = np.where(df[\"trombocyty\"] < lower, lower, df['trombocyty'])\n",
    "sns.displot(df['trombocyty'],bins=100)"
   ]
  },
  {
   "cell_type": "markdown",
   "metadata": {},
   "source": [
    "V atribute trombocyty sme nahradili null hodnoty a outliers hranicnymi hodnotami rozdelenia. Na grafoch je vidno, že outliery sú preč."
   ]
  },
  {
   "cell_type": "markdown",
   "metadata": {
    "pycharm": {
     "name": "#%% md\n"
    }
   },
   "source": [
    "#### Atribut weight"
   ]
  },
  {
   "cell_type": "code",
   "execution_count": 702,
   "metadata": {
    "pycharm": {
     "name": "#%%\n"
    }
   },
   "outputs": [
    {
     "name": "stdout",
     "output_type": "stream",
     "text": [
      "0\n"
     ]
    }
   ],
   "source": [
    "df[\"weight\"] = np.where(df[\"weight\"] < 1, np.nan, df['weight'])\n",
    "df.dropna(subset = [\"weight\"], inplace=True)\n",
    "print(len((df[df['weight'].isnull()])))"
   ]
  },
  {
   "cell_type": "code",
   "execution_count": 703,
   "metadata": {
    "pycharm": {
     "name": "#%%\n"
    }
   },
   "outputs": [
    {
     "data": {
      "text/plain": [
       "<seaborn.axisgrid.FacetGrid at 0x266181226a0>"
      ]
     },
     "execution_count": 703,
     "metadata": {},
     "output_type": "execute_result"
    },
    {
     "data": {
      "image/png": "[encoded data removed]",
      "text/plain": [
       "<Figure size 360x360 with 1 Axes>"
      ]
     },
     "metadata": {
      "needs_background": "light"
     },
     "output_type": "display_data"
    }
   ],
   "source": [
    "sns.displot(df['weight'],bins=100)"
   ]
  },
  {
   "cell_type": "code",
   "execution_count": 704,
   "metadata": {
    "pycharm": {
     "name": "#%%\n"
    }
   },
   "outputs": [
    {
     "data": {
      "text/plain": [
       "<seaborn.axisgrid.FacetGrid at 0x2660f745fd0>"
      ]
     },
     "execution_count": 704,
     "metadata": {},
     "output_type": "execute_result"
    },
    {
     "data": {
      "image/png": "[encoded data removed]",
      "text/plain": [
       "<Figure size 360x360 with 1 Axes>"
      ]
     },
     "metadata": {
      "needs_background": "light"
     },
     "output_type": "display_data"
    }
   ],
   "source": [
    "lower = df['weight'].quantile(0.25) - 1.5 * stats.iqr(df['weight'])\n",
    "upper = df['weight'].quantile(0.75) + 1.5 * stats.iqr(df['weight'])\n",
    "\n",
    "df[\"weight\"] = np.where(df[\"weight\"] > upper, upper, df['weight'])\n",
    "df[\"weight\"] = np.where(df[\"weight\"] < lower, lower, df['weight'])\n",
    "sns.displot(df['weight'],bins=100)"
   ]
  },
  {
   "cell_type": "markdown",
   "metadata": {},
   "source": [
    "V atribute weight sme odstránili nezmyselné hodnoty (vahy menšie ako 1kg)\n",
    "a nahradili sme za medián váh. Na grafoch je vidno, že outliery sú preč.\n",
    "\n",
    "#### Atribut relation"
   ]
  },
  {
   "cell_type": "code",
   "execution_count": 705,
   "metadata": {
    "pycharm": {
     "name": "#%%\n"
    }
   },
   "outputs": [
    {
     "name": "stdout",
     "output_type": "stream",
     "text": [
      "0\n"
     ]
    }
   ],
   "source": [
    "print(len((df[df['relationship'].isnull()])))"
   ]
  },
  {
   "cell_type": "code",
   "execution_count": 706,
   "metadata": {
    "pycharm": {
     "name": "#%%\n"
    }
   },
   "outputs": [
    {
     "name": "stdout",
     "output_type": "stream",
     "text": [
      "0\n"
     ]
    }
   ],
   "source": [
    "df.dropna(subset = [\"relationship\"], inplace=True)\n",
    "print(len((df[df['relationship'].isnull()])))"
   ]
  },
  {
   "cell_type": "code",
   "execution_count": 707,
   "metadata": {
    "pycharm": {
     "name": "#%%\n"
    }
   },
   "outputs": [],
   "source": [
    "def sanitize_relation(relationship):\n",
    "    if relationship == 'divoced' or relationship == 'divorced' :\n",
    "        return 0\n",
    "    elif relationship == 'single':\n",
    "        return 1\n",
    "    elif relationship == 'married':\n",
    "        return 2\n",
    "    elif relationship == 'widowed':\n",
    "        return 3\n",
    "    elif relationship == 'separated':\n",
    "        return 4\n",
    "    elif relationship == 'nop':\n",
    "        return 5\n",
    "    return relationship"
   ]
  },
  {
   "cell_type": "code",
   "execution_count": 708,
   "metadata": {
    "pycharm": {
     "name": "#%%\n"
    }
   },
   "outputs": [],
   "source": [
    "df['relationship'] = df['relationship'].map(lambda relation: sanitize_relation(relation))"
   ]
  },
  {
   "cell_type": "code",
   "execution_count": 709,
   "metadata": {
    "pycharm": {
     "name": "#%%\n"
    }
   },
   "outputs": [
    {
     "data": {
      "text/plain": [
       "array([0, 1, 2, 3, 4, 5], dtype=int64)"
      ]
     },
     "execution_count": 709,
     "metadata": {},
     "output_type": "execute_result"
    }
   ],
   "source": [
    "df['relationship'].unique()"
   ]
  },
  {
   "cell_type": "markdown",
   "metadata": {},
   "source": [
    "V atribute relationship sme vymazali null hodnoty a zvysne nahradili integer hodnotami (encoding). Na grafoch je vidno, že outliery sú preč."
   ]
  },
  {
   "cell_type": "markdown",
   "metadata": {
    "pycharm": {
     "name": "#%% md\n"
    }
   },
   "source": [
    "#### Atribut smoker"
   ]
  },
  {
   "cell_type": "code",
   "execution_count": 710,
   "metadata": {
    "pycharm": {
     "name": "#%%\n"
    }
   },
   "outputs": [
    {
     "name": "stdout",
     "output_type": "stream",
     "text": [
      "0\n"
     ]
    }
   ],
   "source": [
    "print(len((df[df['smoker'].isnull()])))"
   ]
  },
  {
   "cell_type": "code",
   "execution_count": 711,
   "metadata": {
    "pycharm": {
     "name": "#%%\n"
    }
   },
   "outputs": [
    {
     "name": "stdout",
     "output_type": "stream",
     "text": [
      "0\n"
     ]
    }
   ],
   "source": [
    "df.dropna(subset = [\"smoker\"], inplace=True)\n",
    "print(len((df[df['smoker'].isnull()])))"
   ]
  },
  {
   "cell_type": "code",
   "execution_count": 712,
   "metadata": {
    "pycharm": {
     "name": "#%%\n"
    }
   },
   "outputs": [],
   "source": [
    "def sanitize_smoker(smoker):\n",
    "    if smoker == 'N' or smoker == 'no' :\n",
    "        return 0\n",
    "    elif smoker == 'Y' or smoker == 'yes':\n",
    "        return 1\n",
    "    return smoker"
   ]
  },
  {
   "cell_type": "code",
   "execution_count": 713,
   "metadata": {
    "pycharm": {
     "name": "#%%\n"
    }
   },
   "outputs": [],
   "source": [
    "df['smoker'] = df['smoker'].map(lambda smoker: sanitize_smoker(smoker))"
   ]
  },
  {
   "cell_type": "code",
   "execution_count": 714,
   "metadata": {
    "pycharm": {
     "name": "#%%\n"
    }
   },
   "outputs": [
    {
     "data": {
      "text/plain": [
       "array([0, 1], dtype=int64)"
      ]
     },
     "execution_count": 714,
     "metadata": {},
     "output_type": "execute_result"
    }
   ],
   "source": [
    "df['smoker'].unique()"
   ]
  },
  {
   "cell_type": "markdown",
   "metadata": {
    "pycharm": {
     "name": "#%% md\n"
    }
   },
   "source": [
    "V atribute smoker sme vymazali null hodnoty a zvysne nahradili integer hodnotami (encoding)."
   ]
  },
  {
   "cell_type": "markdown",
   "metadata": {},
   "source": [
    "#### Atribut hbver"
   ]
  },
  {
   "cell_type": "code",
   "execution_count": 715,
   "metadata": {
    "pycharm": {
     "name": "#%%\n"
    }
   },
   "outputs": [
    {
     "name": "stdout",
     "output_type": "stream",
     "text": [
      "31\n"
     ]
    }
   ],
   "source": [
    "print(len((df[df['hbver'].isnull()])))"
   ]
  },
  {
   "cell_type": "code",
   "execution_count": 716,
   "metadata": {
    "pycharm": {
     "name": "#%%\n"
    }
   },
   "outputs": [
    {
     "name": "stdout",
     "output_type": "stream",
     "text": [
      "0\n"
     ]
    }
   ],
   "source": [
    "imputer = KNNImputer(n_neighbors=5)\n",
    "df = pd.DataFrame(imputer.fit_transform(df), columns = df.columns)\n",
    "print(len((df[df['hbver'].isnull()])))"
   ]
  },
  {
   "cell_type": "code",
   "execution_count": 717,
   "metadata": {
    "pycharm": {
     "name": "#%%\n"
    }
   },
   "outputs": [
    {
     "data": {
      "text/plain": [
       "<seaborn.axisgrid.FacetGrid at 0x2660bbcae20>"
      ]
     },
     "execution_count": 717,
     "metadata": {},
     "output_type": "execute_result"
    },
    {
     "data": {
      "image/png": "[encoded data removed]",
      "text/plain": [
       "<Figure size 360x360 with 1 Axes>"
      ]
     },
     "metadata": {
      "needs_background": "light"
     },
     "output_type": "display_data"
    }
   ],
   "source": [
    "sns.displot(df['hbver'],bins=100)"
   ]
  },
  {
   "cell_type": "code",
   "execution_count": 718,
   "metadata": {
    "pycharm": {
     "name": "#%%\n"
    }
   },
   "outputs": [
    {
     "data": {
      "text/plain": [
       "<seaborn.axisgrid.FacetGrid at 0x26618ddfa60>"
      ]
     },
     "execution_count": 718,
     "metadata": {},
     "output_type": "execute_result"
    },
    {
     "data": {
      "image/png": "[encoded data removed]",
      "text/plain": [
       "<Figure size 360x360 with 1 Axes>"
      ]
     },
     "metadata": {
      "needs_background": "light"
     },
     "output_type": "display_data"
    }
   ],
   "source": [
    "lower = df['hbver'].quantile(0.25) - 1.5 * stats.iqr(df['hbver'])\n",
    "upper = df['hbver'].quantile(0.75) + 1.5 * stats.iqr(df['hbver'])\n",
    "\n",
    "df[\"hbver\"] = np.where(df[\"hbver\"] > upper, upper, df['hbver'])\n",
    "df[\"hbver\"] = np.where(df[\"hbver\"] < lower, lower, df['hbver'])\n",
    "sns.displot(df['hbver'],bins=100)"
   ]
  },
  {
   "cell_type": "markdown",
   "metadata": {},
   "source": [
    "V atribute hbver a v podstate celom datasete sme nahradili null hodnoty pomocou KNN algoritmu, cize dalej null hodnoty uz nebudeme riesit. A outlierov sme zase ustrihli a nahradili krajnymi hodnotami."
   ]
  },
  {
   "cell_type": "markdown",
   "metadata": {
    "pycharm": {
     "name": "#%% md\n"
    }
   },
   "source": [
    "#### Atribut er-cv"
   ]
  },
  {
   "cell_type": "code",
   "execution_count": 719,
   "metadata": {
    "pycharm": {
     "name": "#%%\n"
    }
   },
   "outputs": [
    {
     "name": "stdout",
     "output_type": "stream",
     "text": [
      "0\n"
     ]
    }
   ],
   "source": [
    "print(len((df[df['er-cv'].isnull()])))"
   ]
  },
  {
   "cell_type": "code",
   "execution_count": 720,
   "metadata": {
    "pycharm": {
     "name": "#%%\n"
    }
   },
   "outputs": [
    {
     "data": {
      "text/plain": [
       "<seaborn.axisgrid.FacetGrid at 0x26618a66f40>"
      ]
     },
     "execution_count": 720,
     "metadata": {},
     "output_type": "execute_result"
    },
    {
     "data": {
      "image/png": "[encoded data removed]",
      "text/plain": [
       "<Figure size 360x360 with 1 Axes>"
      ]
     },
     "metadata": {
      "needs_background": "light"
     },
     "output_type": "display_data"
    }
   ],
   "source": [
    "sns.displot(df['er-cv'],bins=100)"
   ]
  },
  {
   "cell_type": "code",
   "execution_count": 721,
   "metadata": {
    "pycharm": {
     "name": "#%%\n"
    }
   },
   "outputs": [
    {
     "data": {
      "text/plain": [
       "<seaborn.axisgrid.FacetGrid at 0x26619f4f1f0>"
      ]
     },
     "execution_count": 721,
     "metadata": {},
     "output_type": "execute_result"
    },
    {
     "data": {
      "image/png": "[encoded data removed]",
      "text/plain": [
       "<Figure size 360x360 with 1 Axes>"
      ]
     },
     "metadata": {
      "needs_background": "light"
     },
     "output_type": "display_data"
    }
   ],
   "source": [
    "def identify_outliers(x):\n",
    "    iqr = x.quantile(0.75) - x.quantile(0.25)\n",
    "    lower_ = x.quantile(0.25) - 1.5 * iqr\n",
    "    upper_ = x.quantile(0.75) + 1.5 * iqr\n",
    "\n",
    "    return x[(x > upper_) | (x < lower_)]\n",
    "\n",
    "df_merged_out = identify_outliers(df[\"er-cv\"])\n",
    "df = df.drop(df_merged_out.index)\n",
    "sns.displot(df['er-cv'],bins=100)"
   ]
  },
  {
   "cell_type": "markdown",
   "metadata": {},
   "source": [
    "V atribute er-cv sme uz teda nepotrebovali odstranovat null lebo knn. Outlierov sme odstranili pre zmenu.\n"
   ]
  },
  {
   "cell_type": "markdown",
   "metadata": {
    "pycharm": {
     "name": "#%% md\n"
    }
   },
   "source": [
    "#### Atribut hematokrit"
   ]
  },
  {
   "cell_type": "code",
   "execution_count": 722,
   "metadata": {
    "pycharm": {
     "name": "#%%\n"
    }
   },
   "outputs": [
    {
     "name": "stdout",
     "output_type": "stream",
     "text": [
      "0\n"
     ]
    }
   ],
   "source": [
    "print(len((df[df['hematokrit'].isnull()])))"
   ]
  },
  {
   "cell_type": "code",
   "execution_count": 723,
   "metadata": {
    "pycharm": {
     "name": "#%%\n"
    }
   },
   "outputs": [
    {
     "data": {
      "text/plain": [
       "<seaborn.axisgrid.FacetGrid at 0x2661a329d60>"
      ]
     },
     "execution_count": 723,
     "metadata": {},
     "output_type": "execute_result"
    },
    {
     "data": {
      "image/png": "[encoded data removed]",
      "text/plain": [
       "<Figure size 360x360 with 1 Axes>"
      ]
     },
     "metadata": {
      "needs_background": "light"
     },
     "output_type": "display_data"
    }
   ],
   "source": [
    "sns.displot(df['hematokrit'],bins=100)"
   ]
  },
  {
   "cell_type": "code",
   "execution_count": 724,
   "metadata": {
    "pycharm": {
     "name": "#%%\n"
    }
   },
   "outputs": [
    {
     "data": {
      "text/plain": [
       "<seaborn.axisgrid.FacetGrid at 0x26619eee4f0>"
      ]
     },
     "execution_count": 724,
     "metadata": {},
     "output_type": "execute_result"
    },
    {
     "data": {
      "image/png": "[encoded data removed]",
      "text/plain": [
       "<Figure size 360x360 with 1 Axes>"
      ]
     },
     "metadata": {
      "needs_background": "light"
     },
     "output_type": "display_data"
    }
   ],
   "source": [
    "lower = df['hematokrit'].quantile(0.25) - 1.5 * stats.iqr(df['hematokrit'])\n",
    "upper = df['hematokrit'].quantile(0.75) + 1.5 * stats.iqr(df['hematokrit'])\n",
    "\n",
    "df[\"hematokrit\"] = np.where(df[\"hematokrit\"] > upper, upper, df['hematokrit'])\n",
    "df[\"hematokrit\"] = np.where(df[\"hematokrit\"] < lower, lower, df['hematokrit'])\n",
    "sns.displot(df['hematokrit'],bins=100)"
   ]
  },
  {
   "cell_type": "markdown",
   "metadata": {},
   "source": [
    "V atribute hematokrit sme uz nepotrebovali odstranovat null lebo KNN. Outlierov sme nahradili krajnými hodnotami."
   ]
  },
  {
   "cell_type": "markdown",
   "metadata": {},
   "source": [
    "#### Atribut leukocyty"
   ]
  },
  {
   "cell_type": "code",
   "execution_count": 725,
   "metadata": {
    "pycharm": {
     "name": "#%%\n"
    }
   },
   "outputs": [
    {
     "name": "stdout",
     "output_type": "stream",
     "text": [
      "0\n"
     ]
    }
   ],
   "source": [
    "print(len((df[df['leukocyty'].isnull()])))"
   ]
  },
  {
   "cell_type": "code",
   "execution_count": 726,
   "metadata": {
    "pycharm": {
     "name": "#%%\n"
    }
   },
   "outputs": [
    {
     "data": {
      "text/plain": [
       "<seaborn.axisgrid.FacetGrid at 0x26618d05190>"
      ]
     },
     "execution_count": 726,
     "metadata": {},
     "output_type": "execute_result"
    },
    {
     "data": {
      "image/png": "[encoded data removed]",
      "text/plain": [
       "<Figure size 360x360 with 1 Axes>"
      ]
     },
     "metadata": {
      "needs_background": "light"
     },
     "output_type": "display_data"
    }
   ],
   "source": [
    "sns.displot(df['leukocyty'],bins=100)"
   ]
  },
  {
   "cell_type": "code",
   "execution_count": 727,
   "metadata": {},
   "outputs": [],
   "source": [
    "def identify_outliers(x):\n",
    "    iqr = x.quantile(0.75) - x.quantile(0.25)\n",
    "    lower_ = x.quantile(0.25) - 1.5 * iqr\n",
    "    upper_ = x.quantile(0.75) + 1.5 * iqr\n",
    "\n",
    "    return x[(x > upper_) | (x < lower_)]"
   ]
  },
  {
   "cell_type": "code",
   "execution_count": 728,
   "metadata": {
    "pycharm": {
     "name": "#%%\n"
    }
   },
   "outputs": [
    {
     "data": {
      "text/plain": [
       "<seaborn.axisgrid.FacetGrid at 0x2661a6831c0>"
      ]
     },
     "execution_count": 728,
     "metadata": {},
     "output_type": "execute_result"
    },
    {
     "data": {
      "image/png": "[encoded data removed]",
      "text/plain": [
       "<Figure size 360x360 with 1 Axes>"
      ]
     },
     "metadata": {
      "needs_background": "light"
     },
     "output_type": "display_data"
    }
   ],
   "source": [
    "df_merged_out = identify_outliers(df[\"leukocyty\"])\n",
    "df = df.drop(df_merged_out.index)\n",
    "sns.displot(df['leukocyty'],bins=100)"
   ]
  },
  {
   "cell_type": "markdown",
   "metadata": {},
   "source": [
    "V atribute leukocyty sme uz teda nepotrebovali odstranovat null lebo knn. Outlierov sme odstranili pre zmenu."
   ]
  },
  {
   "cell_type": "markdown",
   "metadata": {},
   "source": [
    "#### Atribut alp"
   ]
  },
  {
   "cell_type": "code",
   "execution_count": 729,
   "metadata": {
    "pycharm": {
     "name": "#%%\n"
    }
   },
   "outputs": [
    {
     "name": "stdout",
     "output_type": "stream",
     "text": [
      "0\n"
     ]
    }
   ],
   "source": [
    "print(len((df[df['alp'].isnull()])))"
   ]
  },
  {
   "cell_type": "code",
   "execution_count": 730,
   "metadata": {
    "pycharm": {
     "name": "#%%\n"
    }
   },
   "outputs": [
    {
     "data": {
      "text/plain": [
       "<seaborn.axisgrid.FacetGrid at 0x2661a40c820>"
      ]
     },
     "execution_count": 730,
     "metadata": {},
     "output_type": "execute_result"
    },
    {
     "data": {
      "image/png": "[encoded data removed]",
      "text/plain": [
       "<Figure size 360x360 with 1 Axes>"
      ]
     },
     "metadata": {
      "needs_background": "light"
     },
     "output_type": "display_data"
    }
   ],
   "source": [
    "sns.displot(df['alp'],bins=100)"
   ]
  },
  {
   "cell_type": "code",
   "execution_count": 731,
   "metadata": {
    "pycharm": {
     "name": "#%%\n"
    }
   },
   "outputs": [
    {
     "data": {
      "text/plain": [
       "<seaborn.axisgrid.FacetGrid at 0x2661a49cd00>"
      ]
     },
     "execution_count": 731,
     "metadata": {},
     "output_type": "execute_result"
    },
    {
     "data": {
      "image/png": "[encoded data removed]",
      "text/plain": [
       "<Figure size 360x360 with 1 Axes>"
      ]
     },
     "metadata": {
      "needs_background": "light"
     },
     "output_type": "display_data"
    }
   ],
   "source": [
    "df_merged_out = identify_outliers(df[\"alp\"])\n",
    "df = df.drop(df_merged_out.index)\n",
    "sns.displot(df['alp'],bins=100)"
   ]
  },
  {
   "cell_type": "markdown",
   "metadata": {},
   "source": [
    "V atribute alp sme uz teda nepotrebovali odstranovat null lebo knn. Outlierov sme odstranili pre zmenu.\n"
   ]
  },
  {
   "cell_type": "markdown",
   "metadata": {},
   "source": [
    "#### Atribut hemoglobin"
   ]
  },
  {
   "cell_type": "code",
   "execution_count": 732,
   "metadata": {
    "pycharm": {
     "name": "#%%\n"
    }
   },
   "outputs": [
    {
     "name": "stdout",
     "output_type": "stream",
     "text": [
      "0\n"
     ]
    }
   ],
   "source": [
    "print(len((df[df['hemoglobin'].isnull()])))"
   ]
  },
  {
   "cell_type": "code",
   "execution_count": 733,
   "metadata": {
    "pycharm": {
     "name": "#%%\n"
    }
   },
   "outputs": [
    {
     "data": {
      "text/plain": [
       "<seaborn.axisgrid.FacetGrid at 0x2661a918b50>"
      ]
     },
     "execution_count": 733,
     "metadata": {},
     "output_type": "execute_result"
    },
    {
     "data": {
      "image/png": "[encoded data removed]",
      "text/plain": [
       "<Figure size 360x360 with 1 Axes>"
      ]
     },
     "metadata": {
      "needs_background": "light"
     },
     "output_type": "display_data"
    }
   ],
   "source": [
    "sns.displot(df['hemoglobin'],bins=100)"
   ]
  },
  {
   "cell_type": "code",
   "execution_count": 734,
   "metadata": {
    "pycharm": {
     "name": "#%%\n"
    }
   },
   "outputs": [
    {
     "data": {
      "text/plain": [
       "<seaborn.axisgrid.FacetGrid at 0x2661a937790>"
      ]
     },
     "execution_count": 734,
     "metadata": {},
     "output_type": "execute_result"
    },
    {
     "data": {
      "image/png": "[encoded data removed]",
      "text/plain": [
       "<Figure size 360x360 with 1 Axes>"
      ]
     },
     "metadata": {
      "needs_background": "light"
     },
     "output_type": "display_data"
    }
   ],
   "source": [
    "df_merged_out = identify_outliers(df[\"hemoglobin\"])\n",
    "df = df.drop(df_merged_out.index)\n",
    "sns.displot(df['hemoglobin'],bins=100)"
   ]
  },
  {
   "cell_type": "markdown",
   "metadata": {},
   "source": [
    "V atribute hemoglobin sme uz teda nepotrebovali odstranovat null lebo knn. Outlierov sme odstranili pre zmenu."
   ]
  },
  {
   "cell_type": "markdown",
   "metadata": {},
   "source": [
    "#### Atribut ast"
   ]
  },
  {
   "cell_type": "code",
   "execution_count": 735,
   "metadata": {
    "pycharm": {
     "name": "#%%\n"
    }
   },
   "outputs": [
    {
     "name": "stdout",
     "output_type": "stream",
     "text": [
      "0\n"
     ]
    }
   ],
   "source": [
    "print(len((df[df['ast'].isnull()])))"
   ]
  },
  {
   "cell_type": "code",
   "execution_count": 736,
   "metadata": {
    "pycharm": {
     "name": "#%%\n"
    }
   },
   "outputs": [
    {
     "data": {
      "text/plain": [
       "<seaborn.axisgrid.FacetGrid at 0x2661bc24b50>"
      ]
     },
     "execution_count": 736,
     "metadata": {},
     "output_type": "execute_result"
    },
    {
     "data": {
      "image/png": "[encoded data removed]",
      "text/plain": [
       "<Figure size 360x360 with 1 Axes>"
      ]
     },
     "metadata": {
      "needs_background": "light"
     },
     "output_type": "display_data"
    }
   ],
   "source": [
    "sns.displot(df['ast'],bins=100)"
   ]
  },
  {
   "cell_type": "code",
   "execution_count": 737,
   "metadata": {
    "pycharm": {
     "name": "#%%\n"
    }
   },
   "outputs": [
    {
     "data": {
      "text/plain": [
       "<seaborn.axisgrid.FacetGrid at 0x2661c012190>"
      ]
     },
     "execution_count": 737,
     "metadata": {},
     "output_type": "execute_result"
    },
    {
     "data": {
      "image/png": "[encoded data removed]",
      "text/plain": [
       "<Figure size 360x360 with 1 Axes>"
      ]
     },
     "metadata": {
      "needs_background": "light"
     },
     "output_type": "display_data"
    }
   ],
   "source": [
    "lower = df['ast'].quantile(0.25) - 1.5 * stats.iqr(df['ast'])\n",
    "upper = df['ast'].quantile(0.75) + 1.5 * stats.iqr(df['ast'])\n",
    "\n",
    "df[\"ast\"] = np.where(df[\"ast\"] > upper, upper, df['ast'])\n",
    "df[\"ast\"] = np.where(df[\"ast\"] < lower, lower, df['ast'])\n",
    "sns.displot(df['ast'],bins=100)"
   ]
  },
  {
   "cell_type": "markdown",
   "metadata": {},
   "source": [
    "V atribute ast sme uz nepotrebovali odstranovat null lebo KNN. Outlierov sme nahradili krajnými hodnotami."
   ]
  },
  {
   "cell_type": "markdown",
   "metadata": {},
   "source": [
    "#### Atribut alt"
   ]
  },
  {
   "cell_type": "code",
   "execution_count": 738,
   "metadata": {
    "pycharm": {
     "name": "#%%\n"
    }
   },
   "outputs": [
    {
     "name": "stdout",
     "output_type": "stream",
     "text": [
      "0\n"
     ]
    }
   ],
   "source": [
    "print(len((df[df['alt'].isnull()])))"
   ]
  },
  {
   "cell_type": "code",
   "execution_count": 739,
   "metadata": {
    "pycharm": {
     "name": "#%%\n"
    }
   },
   "outputs": [
    {
     "data": {
      "text/plain": [
       "<seaborn.axisgrid.FacetGrid at 0x2661c1daac0>"
      ]
     },
     "execution_count": 739,
     "metadata": {},
     "output_type": "execute_result"
    },
    {
     "data": {
      "image/png": "[encoded data removed]",
      "text/plain": [
       "<Figure size 360x360 with 1 Axes>"
      ]
     },
     "metadata": {
      "needs_background": "light"
     },
     "output_type": "display_data"
    }
   ],
   "source": [
    "sns.displot(df['alt'],bins=100)"
   ]
  },
  {
   "cell_type": "code",
   "execution_count": 740,
   "metadata": {
    "pycharm": {
     "name": "#%%\n"
    }
   },
   "outputs": [
    {
     "data": {
      "text/plain": [
       "<seaborn.axisgrid.FacetGrid at 0x2661c2542b0>"
      ]
     },
     "execution_count": 740,
     "metadata": {},
     "output_type": "execute_result"
    },
    {
     "data": {
      "image/png": "[encoded data removed]",
      "text/plain": [
       "<Figure size 360x360 with 1 Axes>"
      ]
     },
     "metadata": {
      "needs_background": "light"
     },
     "output_type": "display_data"
    }
   ],
   "source": [
    "df_merged_out = identify_outliers(df[\"alt\"])\n",
    "df = df.drop(df_merged_out.index)\n",
    "sns.displot(df['alt'],bins=100)"
   ]
  },
  {
   "cell_type": "markdown",
   "metadata": {},
   "source": [
    "V atribute alt sme uz teda nepotrebovali odstranovat null lebo knn. Outlierov sme odstranili pre zmenu."
   ]
  },
  {
   "cell_type": "markdown",
   "metadata": {},
   "source": [
    "#### Atribut etytr"
   ]
  },
  {
   "cell_type": "code",
   "execution_count": 741,
   "metadata": {
    "pycharm": {
     "name": "#%%\n"
    }
   },
   "outputs": [
    {
     "name": "stdout",
     "output_type": "stream",
     "text": [
      "0\n"
     ]
    }
   ],
   "source": [
    "print(len((df[df['etytr'].isnull()])))"
   ]
  },
  {
   "cell_type": "code",
   "execution_count": 742,
   "metadata": {
    "pycharm": {
     "name": "#%%\n"
    }
   },
   "outputs": [
    {
     "data": {
      "text/plain": [
       "<seaborn.axisgrid.FacetGrid at 0x2661c44d580>"
      ]
     },
     "execution_count": 742,
     "metadata": {},
     "output_type": "execute_result"
    },
    {
     "data": {
      "image/png": "[encoded data removed]",
      "text/plain": [
       "<Figure size 360x360 with 1 Axes>"
      ]
     },
     "metadata": {
      "needs_background": "light"
     },
     "output_type": "display_data"
    }
   ],
   "source": [
    "sns.displot(df['etytr'],bins=100)"
   ]
  },
  {
   "cell_type": "code",
   "execution_count": 743,
   "metadata": {
    "pycharm": {
     "name": "#%%\n"
    }
   },
   "outputs": [
    {
     "data": {
      "text/plain": [
       "<seaborn.axisgrid.FacetGrid at 0x2661bffe4f0>"
      ]
     },
     "execution_count": 743,
     "metadata": {},
     "output_type": "execute_result"
    },
    {
     "data": {
      "image/png": "[encoded data removed]",
      "text/plain": [
       "<Figure size 360x360 with 1 Axes>"
      ]
     },
     "metadata": {
      "needs_background": "light"
     },
     "output_type": "display_data"
    }
   ],
   "source": [
    "df_merged_out = identify_outliers(df[\"etytr\"])\n",
    "df = df.drop(df_merged_out.index)\n",
    "sns.displot(df['etytr'],bins=100)"
   ]
  },
  {
   "cell_type": "markdown",
   "metadata": {},
   "source": [
    "V atribute etytr sme uz teda nepotrebovali odstranovat null lebo knn. Outlierov sme odstranili pre zmenu."
   ]
  },
  {
   "cell_type": "markdown",
   "metadata": {
    "pycharm": {
     "name": "#%% md\n"
    }
   },
   "source": [
    "#### Atribut ast"
   ]
  },
  {
   "cell_type": "code",
   "execution_count": 744,
   "metadata": {
    "pycharm": {
     "name": "#%%\n"
    }
   },
   "outputs": [
    {
     "name": "stdout",
     "output_type": "stream",
     "text": [
      "0\n"
     ]
    }
   ],
   "source": [
    "print(len((df[df['age'].isnull()])))"
   ]
  },
  {
   "cell_type": "code",
   "execution_count": 745,
   "metadata": {
    "pycharm": {
     "name": "#%%\n"
    }
   },
   "outputs": [
    {
     "data": {
      "text/plain": [
       "<seaborn.axisgrid.FacetGrid at 0x2661c34bfa0>"
      ]
     },
     "execution_count": 745,
     "metadata": {},
     "output_type": "execute_result"
    },
    {
     "data": {
      "image/png": "[encoded data removed]",
      "text/plain": [
       "<Figure size 360x360 with 1 Axes>"
      ]
     },
     "metadata": {
      "needs_background": "light"
     },
     "output_type": "display_data"
    }
   ],
   "source": [
    "sns.displot(df['age'],bins=100)"
   ]
  },
  {
   "cell_type": "code",
   "execution_count": 746,
   "metadata": {
    "pycharm": {
     "name": "#%%\n"
    }
   },
   "outputs": [
    {
     "data": {
      "text/plain": [
       "<seaborn.axisgrid.FacetGrid at 0x2661c5ebb20>"
      ]
     },
     "execution_count": 746,
     "metadata": {},
     "output_type": "execute_result"
    },
    {
     "data": {
      "image/png": "[encoded data removed]",
      "text/plain": [
       "<Figure size 360x360 with 1 Axes>"
      ]
     },
     "metadata": {
      "needs_background": "light"
     },
     "output_type": "display_data"
    }
   ],
   "source": [
    "lower = df['age'].quantile(0.25) - 1.5 * stats.iqr(df['age'])\n",
    "upper = df['age'].quantile(0.75) + 1.5 * stats.iqr(df['age'])\n",
    "\n",
    "df[\"age\"] = np.where(df[\"age\"] > upper, upper, df['age'])\n",
    "df[\"age\"] = np.where(df[\"age\"] < lower, lower, df['age'])\n",
    "sns.displot(df['age'],bins=100)"
   ]
  },
  {
   "cell_type": "markdown",
   "metadata": {
    "pycharm": {
     "name": "#%% md\n"
    }
   },
   "source": [
    "V atribute age sme uz nepotrebovali odstranovat null lebo KNN. Outlierov sme nahradili krajnými hodnotami."
   ]
  },
  {
   "cell_type": "markdown",
   "metadata": {},
   "source": [
    "## Zhodnotenie\n",
    "\n",
    "Pre každý atribút sme zistili či má nejaké null hodnoty. Ak má tak sme ich niekedy vyhodili a niekedy nahradili hodnotou mean. Na polku datasetu sme použili KNN algoritmus na nahradenie null hodnôt. Je to preto, aby sme skúsili a ukázali, že to vieme :). Podobne sme aj odstráňovali outlierov a to tak, že buď sme ich vyhodili alebo nahradili krajnými hodnotami rozdelenia."
   ]
  },
  {
   "cell_type": "markdown",
   "metadata": {
    "pycharm": {
     "name": "#%%\n"
    }
   },
   "source": [
    "### 2. Realizácia predspracovania dát (5b)"
   ]
  },
  {
   "cell_type": "markdown",
   "metadata": {},
   "source": [
    "Rozhodli sme sa rozdeliť dataset na 15% pre testovacie dáta a 85% na trénovacie dáta. Ďalej sa bude teda spracovávať len trénovacia vzorka."
   ]
  },
  {
   "cell_type": "code",
   "execution_count": 748,
   "metadata": {},
   "outputs": [],
   "source": [
    "df_train, df_test = train_test_split(df, test_size=0.15)"
   ]
  },
  {
   "cell_type": "code",
   "execution_count": 749,
   "metadata": {},
   "outputs": [],
   "source": [
    "columns = ['erytrocyty', 'trombocyty', 'weight', 'hbver', 'er-cv', 'hematokrit', 'leukocyty', 'alp', 'hemoglobin', 'ast', 'alt', 'etytr', 'age']\n",
    "features = df_train[columns]"
   ]
  },
  {
   "cell_type": "code",
   "execution_count": 750,
   "metadata": {},
   "outputs": [],
   "source": [
    "scaler = MinMaxScaler()\n",
    "df_train[columns] = scaler.fit_transform(df_train[columns])"
   ]
  },
  {
   "cell_type": "code",
   "execution_count": 751,
   "metadata": {},
   "outputs": [
    {
     "name": "stderr",
     "output_type": "stream",
     "text": [
      "C:\\Users\\matej\\AppData\\Local\\Temp/ipykernel_2324/1287593276.py:3: UserWarning: To output multiple subplots, the figure containing the passed axes is being cleared\n",
      "  df_train.hist(ax = ax)\n"
     ]
    },
    {
     "data": {
      "text/plain": [
       "array([[<AxesSubplot:title={'center':'sex'}>,\n",
       "        <AxesSubplot:title={'center':'blood_group'}>,\n",
       "        <AxesSubplot:title={'center':'race'}>,\n",
       "        <AxesSubplot:title={'center':'erytrocyty'}>],\n",
       "       [<AxesSubplot:title={'center':'trombocyty'}>,\n",
       "        <AxesSubplot:title={'center':'weight'}>,\n",
       "        <AxesSubplot:title={'center':'hbver'}>,\n",
       "        <AxesSubplot:title={'center':'relationship'}>],\n",
       "       [<AxesSubplot:title={'center':'er-cv'}>,\n",
       "        <AxesSubplot:title={'center':'smoker'}>,\n",
       "        <AxesSubplot:title={'center':'indicator'}>,\n",
       "        <AxesSubplot:title={'center':'hematokrit'}>],\n",
       "       [<AxesSubplot:title={'center':'leukocyty'}>,\n",
       "        <AxesSubplot:title={'center':'alp'}>,\n",
       "        <AxesSubplot:title={'center':'hemoglobin'}>,\n",
       "        <AxesSubplot:title={'center':'ast'}>],\n",
       "       [<AxesSubplot:title={'center':'alt'}>,\n",
       "        <AxesSubplot:title={'center':'etytr'}>,\n",
       "        <AxesSubplot:title={'center':'age'}>, <AxesSubplot:>]],\n",
       "      dtype=object)"
      ]
     },
     "execution_count": 751,
     "metadata": {},
     "output_type": "execute_result"
    },
    {
     "data": {
      "image/png": "[encoded data removed]",
      "text/plain": [
       "<Figure size 1080x1440 with 20 Axes>"
      ]
     },
     "metadata": {
      "needs_background": "light"
     },
     "output_type": "display_data"
    }
   ],
   "source": [
    "fig = plt.figure(figsize = (15,20))\n",
    "ax = fig.gca()\n",
    "df_train.hist(ax = ax)"
   ]
  },
  {
   "cell_type": "code",
   "execution_count": 752,
   "metadata": {},
   "outputs": [],
   "source": [
    "transformer = PowerTransformer(method = 'yeo-johnson')\n",
    "df_train[columns] = transformer.fit_transform(features.values)"
   ]
  },
  {
   "cell_type": "code",
   "execution_count": 753,
   "metadata": {},
   "outputs": [
    {
     "name": "stderr",
     "output_type": "stream",
     "text": [
      "C:\\Users\\matej\\AppData\\Local\\Temp/ipykernel_2324/1287593276.py:3: UserWarning: To output multiple subplots, the figure containing the passed axes is being cleared\n",
      "  df_train.hist(ax = ax)\n"
     ]
    },
    {
     "data": {
      "text/plain": [
       "array([[<AxesSubplot:title={'center':'sex'}>,\n",
       "        <AxesSubplot:title={'center':'blood_group'}>,\n",
       "        <AxesSubplot:title={'center':'race'}>,\n",
       "        <AxesSubplot:title={'center':'erytrocyty'}>],\n",
       "       [<AxesSubplot:title={'center':'trombocyty'}>,\n",
       "        <AxesSubplot:title={'center':'weight'}>,\n",
       "        <AxesSubplot:title={'center':'hbver'}>,\n",
       "        <AxesSubplot:title={'center':'relationship'}>],\n",
       "       [<AxesSubplot:title={'center':'er-cv'}>,\n",
       "        <AxesSubplot:title={'center':'smoker'}>,\n",
       "        <AxesSubplot:title={'center':'indicator'}>,\n",
       "        <AxesSubplot:title={'center':'hematokrit'}>],\n",
       "       [<AxesSubplot:title={'center':'leukocyty'}>,\n",
       "        <AxesSubplot:title={'center':'alp'}>,\n",
       "        <AxesSubplot:title={'center':'hemoglobin'}>,\n",
       "        <AxesSubplot:title={'center':'ast'}>],\n",
       "       [<AxesSubplot:title={'center':'alt'}>,\n",
       "        <AxesSubplot:title={'center':'etytr'}>,\n",
       "        <AxesSubplot:title={'center':'age'}>, <AxesSubplot:>]],\n",
       "      dtype=object)"
      ]
     },
     "execution_count": 753,
     "metadata": {},
     "output_type": "execute_result"
    },
    {
     "data": {
      "image/png": "[encoded data removed]",
      "text/plain": [
       "<Figure size 1080x1440 with 20 Axes>"
      ]
     },
     "metadata": {
      "needs_background": "light"
     },
     "output_type": "display_data"
    }
   ],
   "source": [
    "fig = plt.figure(figsize = (15,20))\n",
    "ax = fig.gca()\n",
    "df_train.hist(ax = ax)"
   ]
  },
  {
   "cell_type": "markdown",
   "metadata": {},
   "source": [
    "## Zhodnotenie\n",
    "\n",
    "Na celý dataset (okrem kategorických hodnôt - tie sme nechceli upravovať) sme použili dve techniky na transformáciu dát. Jedna bola MixMaxScaler, ktorá ako vidíme na prvom histograme, naškáluje hodnoty na hodnoty od nula po jedna. Ako druhú techniku sme si skúsili metódu yeo-johnson a ta ako vidíme pozmenila rozdelenia tak, aby ich stred bol v bode nula. Táto technika nám zvláštne upravila atribút age a preto neskôr budeme používať len MixMaxScaler."
   ]
  },
  {
   "cell_type": "markdown",
   "metadata": {},
   "source": [
    "## 3. Výber atribútov pre strojové učenie (5b)"
   ]
  },
  {
   "cell_type": "markdown",
   "metadata": {},
   "source": [
    "Trenovaci dataset sme si rozdelili na kategoricke a numericke hodnoty. Na každú skupinu použijeme iný výber features."
   ]
  },
  {
   "cell_type": "code",
   "execution_count": 658,
   "metadata": {},
   "outputs": [],
   "source": [
    "feature_cols = ['sex', 'blood_group', 'race', 'relationship', 'smoker', 'erytrocyty', 'trombocyty', 'weight', 'hbver', 'er-cv', 'hematokrit', 'leukocyty', 'alp', 'hemoglobin', 'ast', 'alt', 'etytr', 'age']\n",
    "output_cols = ['indicator']"
   ]
  },
  {
   "cell_type": "code",
   "execution_count": 754,
   "metadata": {},
   "outputs": [],
   "source": [
    "def split_dataset(dataset):\n",
    "    global feature_cols\n",
    "    global output_cols\n",
    "    \n",
    "    X = dataset[feature_cols].values\n",
    "    y = dataset[output_cols].values\n",
    "    return X, y"
   ]
  },
  {
   "cell_type": "markdown",
   "metadata": {},
   "source": [
    "Funkcia split_dataset nám rozdelí pandas dataframe na dve matice vstupných a výstupných hodnôt. "
   ]
  },
  {
   "cell_type": "code",
   "execution_count": 755,
   "metadata": {},
   "outputs": [],
   "source": [
    "X_train, y_train = split_dataset(df_train)\n",
    "X_test, y_test = split_dataset(df_test)"
   ]
  },
  {
   "cell_type": "code",
   "execution_count": 756,
   "metadata": {},
   "outputs": [
    {
     "name": "stderr",
     "output_type": "stream",
     "text": [
      "C:\\Users\\matej\\AppData\\Local\\Programs\\Python\\Python39\\lib\\site-packages\\sklearn\\utils\\validation.py:985: DataConversionWarning: A column-vector y was passed when a 1d array was expected. Please change the shape of y to (n_samples, ), for example using ravel().\n",
      "  y = column_or_1d(y, warn=True)\n"
     ]
    },
    {
     "name": "stdout",
     "output_type": "stream",
     "text": [
      "Feature hbver: 986.069893\n",
      "Feature leukocyty: 739.958485\n",
      "Feature etytr: 123.976450\n",
      "Feature erytrocyty: 6.283327\n",
      "Feature smoker: 4.056790\n",
      "Feature hematokrit: 2.296723\n",
      "Feature race: 1.923698\n",
      "Feature blood_group: 1.591833\n",
      "Feature sex: 1.590084\n",
      "Feature age: 1.314303\n",
      "Feature er-cv: 1.051563\n",
      "Feature alt: 1.050581\n",
      "Feature relationship: 0.278954\n",
      "Feature weight: 0.192737\n",
      "Feature trombocyty: 0.027061\n",
      "Feature hemoglobin: 0.020651\n",
      "Feature ast: 0.005574\n",
      "Feature alp: 0.001786\n"
     ]
    },
    {
     "data": {
      "image/png": "[encoded data removed]",
      "text/plain": [
       "<Figure size 1584x360 with 1 Axes>"
      ]
     },
     "metadata": {
      "needs_background": "light"
     },
     "output_type": "display_data"
    }
   ],
   "source": [
    "def select_features(X_train, y_train, X_test):\n",
    "    fs = SelectKBest(score_func=f_classif, k='all')\n",
    "    fs.fit(X_train, y_train)\n",
    "    X_train_fs = fs.transform(X_train)\n",
    "    X_test_fs = fs.transform(X_test)\n",
    "    return X_train_fs, X_test_fs, fs\n",
    " \n",
    "X_train_fs, X_test_fs, fs = select_features(X_train, y_train, X_test)\n",
    "\n",
    "dictX = {}\n",
    "for i in range(len(fs.scores_)):\n",
    "    dictX[i] = fs.scores_[i]\n",
    "    \n",
    "dictX = dict(sorted(dictX.items(), key=lambda item: item[1], reverse=True))\n",
    "\n",
    "for i in dictX:\n",
    "    print('Feature %s: %f' % (feature_cols[i], dictX[i]))\n",
    "\n",
    "plt.subplots(figsize=(22,5))\n",
    "plt.bar([feature_cols[x] for x in dictX.keys()], dictX.values())\n",
    "plt.show()"
   ]
  },
  {
   "cell_type": "markdown",
   "metadata": {},
   "source": [
    "## Zhodnotenie\n",
    "\n",
    "Na celej trénovacej množine sme predviedli techniku ANOVA na klasifikáciu, ktorá nám ohodnotila silu jednotlivých atribútov a pomocou SelectKBest sme v tejto časti vybrali všetky, aby sme ich mohli ukázať na grafe. A teda na grafe môžeme vidieť, že práve tri atribúty vyzerajú byť najdôležitejšie a to hbver, leukocyty a etytr. V ďalšej časti zostrojíme program, ktorý nám určí aký počet z týchto atribútov je vhodný na čo najlepšiu presnosť modelu."
   ]
  },
  {
   "cell_type": "markdown",
   "metadata": {},
   "source": [
    "## 4. Replikovateľnosť predspracovania (5b)"
   ]
  },
  {
   "cell_type": "code",
   "execution_count": 766,
   "metadata": {},
   "outputs": [],
   "source": [
    "df = load_datasets(\"001/profiles.csv\",\"001/labor.csv\")\n",
    "df = fix_dataset(df)"
   ]
  },
  {
   "cell_type": "markdown",
   "metadata": {},
   "source": [
    "Znova sme si načítali dataset a rýchlo ho upravili."
   ]
  },
  {
   "cell_type": "code",
   "execution_count": 767,
   "metadata": {},
   "outputs": [],
   "source": [
    "class CustomEncoderTransformer(TransformerMixin):\n",
    "    def __init__(self, column_names= [], categorical_cols=[]):\n",
    "        self.column_names = column_names\n",
    "        self.categorical_cols = categorical_cols\n",
    "        \n",
    "    def fit(self, X, y=None):\n",
    "        return self\n",
    "\n",
    "    def transform(self, X):\n",
    "        X = pd.DataFrame(X, columns=self.column_names)\n",
    "        enc = OrdinalEncoder()\n",
    "        X[self.categorical_cols] = enc.fit_transform(X[self.categorical_cols])\n",
    "        return X"
   ]
  },
  {
   "cell_type": "markdown",
   "metadata": {},
   "source": [
    "Náš vlastný encoder, ktorý z datasetu pre všetky predom definované atribúty, vytvorí kódovanie, čím sa zbavíme nečiselných hodnôt."
   ]
  },
  {
   "cell_type": "code",
   "execution_count": 768,
   "metadata": {},
   "outputs": [],
   "source": [
    "class CustomOutlierTransformer(TransformerMixin):\n",
    "    def __init__(self, column_names= [], strategy=\"drop\"):\n",
    "        self.column_names = column_names\n",
    "        self.strategy = strategy;\n",
    "        \n",
    "    def fit(self, X, y=None):\n",
    "        return self\n",
    "\n",
    "    def transform(self, X):\n",
    "        X = pd.DataFrame(X, columns=self.column_names)\n",
    "        for column in X.columns:\n",
    "            df_merged_out = identify_outliers(X[column])\n",
    "            if (self.strategy == \"drop\"):\n",
    "                X = X.drop(df_merged_out.index)\n",
    "            elif (self.strategy == \"mean\"):\n",
    "                X[column].fillna(X[column].mean(), inplace=True)\n",
    "\n",
    "        return X\n",
    "    \n",
    "    def identify_outliers(x):\n",
    "        iqr = x.quantile(0.75) - x.quantile(0.25)\n",
    "        lower_ = x.quantile(0.25) - 1.5 * iqr\n",
    "        upper_ = x.quantile(0.75) + 1.5 * iqr\n",
    "\n",
    "        return x[(x > upper_) | (x < lower_)]"
   ]
  },
  {
   "cell_type": "markdown",
   "metadata": {},
   "source": [
    "Náš vlastný outlier detection mechanizmus, ktorý z datasetu pre všetky atribúty, buď zahodí outlierov alebo ich nahradí meanom. Závisí od zvolenej stratégie."
   ]
  },
  {
   "cell_type": "code",
   "execution_count": 769,
   "metadata": {},
   "outputs": [],
   "source": [
    "class CustomMinMaxTransformer(TransformerMixin):\n",
    "    def __init__(self, column_names= [], numerical_cols=[]):\n",
    "        self.column_names = column_names\n",
    "        self.numerical_cols = numerical_cols\n",
    "        \n",
    "    def fit(self, X, y=None):\n",
    "        return self\n",
    "\n",
    "    def transform(self, X):\n",
    "        X = pd.DataFrame(X, columns=self.column_names)\n",
    "        scaler = MinMaxScaler()\n",
    "        X[self.numerical_cols] = scaler.fit_transform(X[self.numerical_cols])\n",
    "        return X"
   ]
  },
  {
   "cell_type": "markdown",
   "metadata": {},
   "source": [
    "Náš vlastný outlier detection mechanizmus, ktorý z datasetu pre všetky číselné atribúty použije MinMaxScaler."
   ]
  },
  {
   "cell_type": "code",
   "execution_count": 770,
   "metadata": {},
   "outputs": [],
   "source": [
    "class CustomKnnForNullValuesTransformer(TransformerMixin):\n",
    "    def __init__(self, column_names= []):\n",
    "        self.column_names = column_names\n",
    "        \n",
    "    def fit(self, X, y=None):\n",
    "        return self\n",
    "\n",
    "    def transform(self, X):\n",
    "        X = pd.DataFrame(X, columns=self.column_names)\n",
    "        imputer = KNNImputer(n_neighbors=5)\n",
    "        X = pd.DataFrame(imputer.fit_transform(X), columns = X.columns)\n",
    "        return X"
   ]
  },
  {
   "cell_type": "markdown",
   "metadata": {},
   "source": [
    "Náš vlastný transformer, ktorý pomocou KNN algoritmu odstraní všetky null hodnoty z datasetu."
   ]
  },
  {
   "cell_type": "code",
   "execution_count": 771,
   "metadata": {},
   "outputs": [],
   "source": [
    "class DfToValuesOnlyTransformer(TransformerMixin):\n",
    "    def __init__(self, column_names= [], feature_cols=[], output_cols=[]):\n",
    "        self.column_names = column_names\n",
    "        self.feature_cols = feature_cols\n",
    "        self.output_cols = output_cols\n",
    "        \n",
    "    def fit(self, X, y=None):\n",
    "        return self\n",
    "\n",
    "    def transform(self, X):\n",
    "        X = pd.DataFrame(X, columns=self.column_names)\n",
    "        X, y = split_dataset(X)\n",
    "        return X, y\n",
    "    \n",
    "    def split_dataset(dataset):\n",
    "        X = dataset[self.feature_cols].values\n",
    "        y = dataset[self.output_cols].values\n",
    "        return X, y"
   ]
  },
  {
   "cell_type": "markdown",
   "metadata": {},
   "source": [
    "Náš vlastný transformer, ktorý z datasetu urobí dve polia vstupných a výstupnych atribútov."
   ]
  },
  {
   "cell_type": "code",
   "execution_count": 772,
   "metadata": {},
   "outputs": [],
   "source": [
    "feature_cols = ['sex', 'blood_group', 'race', 'relationship', 'smoker', 'erytrocyty', 'trombocyty', 'weight', 'hbver', 'er-cv', 'hematokrit', 'leukocyty', 'alp', 'hemoglobin', 'ast', 'alt', 'etytr', 'age']\n",
    "output_cols = ['indicator']\n",
    "categorical_cols = ['sex', 'blood_group', 'race', 'relationship', 'smoker']\n",
    "numerical_cols = ['erytrocyty', 'trombocyty', 'weight', 'hbver', 'er-cv', 'hematokrit', 'leukocyty', 'alp', 'hemoglobin', 'ast', 'alt', 'etytr', 'age']\n",
    "\n",
    "encoder = CustomEncoderTransformer(df.columns, categorical_cols)\n",
    "outlier = CustomOutlierTransformer(df.columns)\n",
    "minmax = CustomMinMaxTransformer(df.columns, numerical_cols)\n",
    "nulls = CustomKnnForNullValuesTransformer(df.columns)\n",
    "split = DfToValuesOnlyTransformer(df.columns, feature_cols, output_cols)\n",
    "\n",
    "my_pipeline = make_pipeline(encoder, nulls, outlier, minmax, split)\n",
    "X, y = my_pipeline.fit_transform(df)\n"
   ]
  },
  {
   "cell_type": "markdown",
   "metadata": {},
   "source": [
    "Pomocou pipeline, ktorú sme poskladali z našich tranformerov, sme z datasetu spravili už upravený dataset. Všetko čo sme robii doteraz v predspracovaní, sme zvládli urobiť znova v tejto bunke. Pipeline nám dala už aj rozdelený dataset na vstupné a výstupné atribúty a tie hneď použijeme v ďalšej pipeline."
   ]
  },
  {
   "cell_type": "code",
   "execution_count": 773,
   "metadata": {},
   "outputs": [
    {
     "name": "stdout",
     "output_type": "stream",
     "text": [
      "Počet vybraných atribútov: 1, Accuracy score: 0.648 \n",
      "Počet vybraných atribútov: 2, Accuracy score: 0.795 \n",
      "Počet vybraných atribútov: 3, Accuracy score: 0.792 \n",
      "Počet vybraných atribútov: 4, Accuracy score: 0.791 \n",
      "Počet vybraných atribútov: 5, Accuracy score: 0.790 \n",
      "Počet vybraných atribútov: 6, Accuracy score: 0.791 \n",
      "Počet vybraných atribútov: 7, Accuracy score: 0.791 \n",
      "Počet vybraných atribútov: 8, Accuracy score: 0.791 \n",
      "Počet vybraných atribútov: 9, Accuracy score: 0.792 \n",
      "Počet vybraných atribútov: 10, Accuracy score: 0.791 \n",
      "Počet vybraných atribútov: 11, Accuracy score: 0.792 \n",
      "Počet vybraných atribútov: 12, Accuracy score: 0.792 \n",
      "Počet vybraných atribútov: 13, Accuracy score: 0.791 \n",
      "Počet vybraných atribútov: 14, Accuracy score: 0.791 \n",
      "Počet vybraných atribútov: 15, Accuracy score: 0.791 \n",
      "Počet vybraných atribútov: 16, Accuracy score: 0.791 \n",
      "Počet vybraných atribútov: 17, Accuracy score: 0.791 \n",
      "Počet vybraných atribútov: 18, Accuracy score: 0.791 \n"
     ]
    }
   ],
   "source": [
    "def evaluate_model(model, X, y):\n",
    "    cv = RepeatedStratifiedKFold(n_splits=10, n_repeats=3, random_state=1)\n",
    "    scores = cross_val_score(model, X, y, scoring='accuracy', cv=cv, n_jobs=-1, error_score='raise')\n",
    "    return scores\n",
    " \n",
    "\n",
    "num_features = [i+1 for i in range(X.shape[1])]\n",
    "results = list()\n",
    "for k in num_features:\n",
    "\n",
    "    model = LogisticRegression(solver='liblinear')\n",
    "    fs = SelectKBest(score_func=f_classif, k=k)\n",
    "\n",
    "    pipeline = Pipeline(steps=[('anova',fs), ('liblinear', model)])\n",
    "\n",
    "    scores = evaluate_model(pipeline, X, y)\n",
    "    results.append(scores)\n",
    "\n",
    "    print('Počet vybraných atribútov: %d, Accuracy score: %.3f ' % (k, mean(scores)))\n",
    "    \n"
   ]
  },
  {
   "cell_type": "markdown",
   "metadata": {},
   "source": [
    "Ako môžme vidieť, pomocou RepeatedStratifiedKFold a cross_val_score, sme zistili, že najväčšiu presnosť dosahujeme pre počet atribútov 2. A zistili sme, že najväčšiu dôležitosť mali atribúty hbver a leukocyty. Tento cyklus prešiel všetky najlepšie atribúty a postupne bral viac a viac at"
   ]
  }
 ],
 "metadata": {
  "kernelspec": {
   "display_name": "Python 3 (ipykernel)",
   "language": "python",
   "name": "python3"
  },
  "language_info": {
   "codemirror_mode": {
    "name": "ipython",
    "version": 3
   },
   "file_extension": ".py",
   "mimetype": "text/x-python",
   "name": "python",
   "nbconvert_exporter": "python",
   "pygments_lexer": "ipython3",
   "version": "3.9.0"
  }
 },
 "nbformat": 4,
 "nbformat_minor": 4
}
