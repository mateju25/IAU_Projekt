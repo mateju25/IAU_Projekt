{
 "cells": [
  {
   "cell_type": "markdown",
   "metadata": {},
   "source": [
    "# Fáza 2 - predspracovanie údajov\n",
    "# Autori: Matej Delinčák (50%), Martin Pirkovský (50%)"
   ]
  },
  {
   "cell_type": "code",
   "execution_count": 84,
   "metadata": {},
   "outputs": [],
   "source": [
    "import matplotlib.pyplot as plt\n",
    "import seaborn as sns\n",
    "import pandas as pd\n",
    "import numpy as np\n",
    "import datetime\n",
    "import statsmodels.api as sm\n",
    "from scipy.stats import mannwhitneyu\n",
    "from scipy.stats import levene\n",
    "from scipy.stats import kruskal\n",
    "from scipy import stats\n",
    "import matplotlib\n",
    "import matplotlib.pylab as pylab\n",
    "from sklearn.impute import KNNImputer\n",
    "from sklearn.model_selection import train_test_split\n",
    "from sklearn.preprocessing import PowerTransformer\n",
    "from sklearn.preprocessing import MinMaxScaler\n",
    "\n",
    "pd.set_option(\"display.max_columns\", None)"
   ]
  },
  {
   "cell_type": "markdown",
   "metadata": {
    "pycharm": {
     "name": "#%% md\n"
    }
   },
   "source": [
    "## 1. Integrácia a čistenie dát (5b)"
   ]
  },
  {
   "cell_type": "code",
   "execution_count": 2,
   "metadata": {
    "pycharm": {
     "name": "#%%\n"
    }
   },
   "outputs": [
    {
     "data": {
      "text/html": [
       "<div>\n",
       "<style scoped>\n",
       "    .dataframe tbody tr th:only-of-type {\n",
       "        vertical-align: middle;\n",
       "    }\n",
       "\n",
       "    .dataframe tbody tr th {\n",
       "        vertical-align: top;\n",
       "    }\n",
       "\n",
       "    .dataframe thead th {\n",
       "        text-align: right;\n",
       "    }\n",
       "</style>\n",
       "<table border=\"1\" class=\"dataframe\">\n",
       "  <thead>\n",
       "    <tr style=\"text-align: right;\">\n",
       "      <th></th>\n",
       "      <th>sex</th>\n",
       "      <th>blood_group</th>\n",
       "      <th>job</th>\n",
       "      <th>residence</th>\n",
       "      <th>birthdate</th>\n",
       "      <th>ssn_x</th>\n",
       "      <th>current_location</th>\n",
       "      <th>race</th>\n",
       "      <th>name</th>\n",
       "      <th>erytrocyty</th>\n",
       "      <th>trombocyty</th>\n",
       "      <th>weight</th>\n",
       "      <th>hbver</th>\n",
       "      <th>ssn_y</th>\n",
       "      <th>relationship</th>\n",
       "      <th>er-cv</th>\n",
       "      <th>smoker</th>\n",
       "      <th>indicator</th>\n",
       "      <th>hematokrit</th>\n",
       "      <th>leukocyty</th>\n",
       "      <th>alp</th>\n",
       "      <th>hemoglobin</th>\n",
       "      <th>ast</th>\n",
       "      <th>alt</th>\n",
       "      <th>etytr</th>\n",
       "    </tr>\n",
       "  </thead>\n",
       "  <tbody>\n",
       "    <tr>\n",
       "      <th>0</th>\n",
       "      <td>M</td>\n",
       "      <td>B-</td>\n",
       "      <td>Legal executive</td>\n",
       "      <td>528 Allen Streets\\nSolomonberg, NM 26158</td>\n",
       "      <td>1941-05-28</td>\n",
       "      <td>359-18-7254</td>\n",
       "      <td>(Decimal('29.4768335'), Decimal('-42.485892'))</td>\n",
       "      <td>White</td>\n",
       "      <td>John Fletcher</td>\n",
       "      <td>5.73089</td>\n",
       "      <td>7.81439</td>\n",
       "      <td>74.67459</td>\n",
       "      <td>6.48334</td>\n",
       "      <td>359-18-7254</td>\n",
       "      <td>divoced</td>\n",
       "      <td>54.28887</td>\n",
       "      <td>N</td>\n",
       "      <td>1.0</td>\n",
       "      <td>6.68658</td>\n",
       "      <td>8.13103</td>\n",
       "      <td>71.53264</td>\n",
       "      <td>5.51496</td>\n",
       "      <td>72.78350</td>\n",
       "      <td>1.40153</td>\n",
       "      <td>8.26858</td>\n",
       "    </tr>\n",
       "    <tr>\n",
       "      <th>1</th>\n",
       "      <td>M</td>\n",
       "      <td>B-</td>\n",
       "      <td>Legal executive</td>\n",
       "      <td>528 Allen Streets\\nSolomonberg, NM 26158</td>\n",
       "      <td>1941-05-28</td>\n",
       "      <td>359-18-7254</td>\n",
       "      <td>(Decimal('29.4768335'), Decimal('-42.485892'))</td>\n",
       "      <td>White</td>\n",
       "      <td>John Fletcher</td>\n",
       "      <td>7.00210</td>\n",
       "      <td>7.30681</td>\n",
       "      <td>64.56094</td>\n",
       "      <td>5.50101</td>\n",
       "      <td>359-18-7254</td>\n",
       "      <td>divoced</td>\n",
       "      <td>47.56065</td>\n",
       "      <td>no</td>\n",
       "      <td>1.0</td>\n",
       "      <td>8.14919</td>\n",
       "      <td>7.95707</td>\n",
       "      <td>53.26854</td>\n",
       "      <td>7.70607</td>\n",
       "      <td>70.42034</td>\n",
       "      <td>1.08658</td>\n",
       "      <td>8.76562</td>\n",
       "    </tr>\n",
       "    <tr>\n",
       "      <th>2</th>\n",
       "      <td>M</td>\n",
       "      <td>B-</td>\n",
       "      <td>Legal executive</td>\n",
       "      <td>528 Allen Streets\\nSolomonberg, NM 26158</td>\n",
       "      <td>1941-05-28</td>\n",
       "      <td>359-18-7254</td>\n",
       "      <td>(Decimal('29.4768335'), Decimal('-42.485892'))</td>\n",
       "      <td>White</td>\n",
       "      <td>John Fletcher</td>\n",
       "      <td>5.87203</td>\n",
       "      <td>6.49993</td>\n",
       "      <td>102.55936</td>\n",
       "      <td>6.26296</td>\n",
       "      <td>359-18-7254</td>\n",
       "      <td>single</td>\n",
       "      <td>53.69510</td>\n",
       "      <td>yes</td>\n",
       "      <td>1.0</td>\n",
       "      <td>8.61871</td>\n",
       "      <td>8.80296</td>\n",
       "      <td>71.23821</td>\n",
       "      <td>5.67911</td>\n",
       "      <td>63.46493</td>\n",
       "      <td>0.94280</td>\n",
       "      <td>7.87057</td>\n",
       "    </tr>\n",
       "    <tr>\n",
       "      <th>3</th>\n",
       "      <td>M</td>\n",
       "      <td>B-</td>\n",
       "      <td>Legal executive</td>\n",
       "      <td>528 Allen Streets\\nSolomonberg, NM 26158</td>\n",
       "      <td>1941-05-28</td>\n",
       "      <td>359-18-7254</td>\n",
       "      <td>(Decimal('29.4768335'), Decimal('-42.485892'))</td>\n",
       "      <td>White</td>\n",
       "      <td>John Fletcher</td>\n",
       "      <td>8.87748</td>\n",
       "      <td>7.57024</td>\n",
       "      <td>54.86142</td>\n",
       "      <td>7.31935</td>\n",
       "      <td>359-18-7254</td>\n",
       "      <td>married</td>\n",
       "      <td>53.84332</td>\n",
       "      <td>Y</td>\n",
       "      <td>1.0</td>\n",
       "      <td>6.05747</td>\n",
       "      <td>7.70553</td>\n",
       "      <td>64.00914</td>\n",
       "      <td>5.27333</td>\n",
       "      <td>76.12388</td>\n",
       "      <td>4.43028</td>\n",
       "      <td>6.29355</td>\n",
       "    </tr>\n",
       "    <tr>\n",
       "      <th>4</th>\n",
       "      <td>F</td>\n",
       "      <td>B+</td>\n",
       "      <td>Oceanographer</td>\n",
       "      <td>360 Rebecca Islands Suite 046\\nEast Yolandavie...</td>\n",
       "      <td>1992-08-29</td>\n",
       "      <td>476-75-8468</td>\n",
       "      <td>(Decimal('-80.467120'), Decimal('-106.725872'))</td>\n",
       "      <td>White</td>\n",
       "      <td>Alexis Benjamin</td>\n",
       "      <td>5.51507</td>\n",
       "      <td>8.26611</td>\n",
       "      <td>109.48149</td>\n",
       "      <td>4.98513</td>\n",
       "      <td>476-75-8468</td>\n",
       "      <td>single</td>\n",
       "      <td>36.38495</td>\n",
       "      <td>no</td>\n",
       "      <td>1.0</td>\n",
       "      <td>8.41361</td>\n",
       "      <td>8.02251</td>\n",
       "      <td>86.54993</td>\n",
       "      <td>6.48007</td>\n",
       "      <td>84.46566</td>\n",
       "      <td>1.39040</td>\n",
       "      <td>7.38177</td>\n",
       "    </tr>\n",
       "  </tbody>\n",
       "</table>\n",
       "</div>"
      ],
      "text/plain": [
       "  sex blood_group              job  \\\n",
       "0   M          B-  Legal executive   \n",
       "1   M          B-  Legal executive   \n",
       "2   M          B-  Legal executive   \n",
       "3   M          B-  Legal executive   \n",
       "4   F          B+    Oceanographer   \n",
       "\n",
       "                                           residence  birthdate        ssn_x  \\\n",
       "0           528 Allen Streets\\nSolomonberg, NM 26158 1941-05-28  359-18-7254   \n",
       "1           528 Allen Streets\\nSolomonberg, NM 26158 1941-05-28  359-18-7254   \n",
       "2           528 Allen Streets\\nSolomonberg, NM 26158 1941-05-28  359-18-7254   \n",
       "3           528 Allen Streets\\nSolomonberg, NM 26158 1941-05-28  359-18-7254   \n",
       "4  360 Rebecca Islands Suite 046\\nEast Yolandavie... 1992-08-29  476-75-8468   \n",
       "\n",
       "                                  current_location   race             name  \\\n",
       "0   (Decimal('29.4768335'), Decimal('-42.485892'))  White    John Fletcher   \n",
       "1   (Decimal('29.4768335'), Decimal('-42.485892'))  White    John Fletcher   \n",
       "2   (Decimal('29.4768335'), Decimal('-42.485892'))  White    John Fletcher   \n",
       "3   (Decimal('29.4768335'), Decimal('-42.485892'))  White    John Fletcher   \n",
       "4  (Decimal('-80.467120'), Decimal('-106.725872'))  White  Alexis Benjamin   \n",
       "\n",
       "   erytrocyty  trombocyty     weight    hbver        ssn_y relationship  \\\n",
       "0     5.73089     7.81439   74.67459  6.48334  359-18-7254      divoced   \n",
       "1     7.00210     7.30681   64.56094  5.50101  359-18-7254      divoced   \n",
       "2     5.87203     6.49993  102.55936  6.26296  359-18-7254       single   \n",
       "3     8.87748     7.57024   54.86142  7.31935  359-18-7254      married   \n",
       "4     5.51507     8.26611  109.48149  4.98513  476-75-8468       single   \n",
       "\n",
       "      er-cv smoker  indicator  hematokrit  leukocyty       alp  hemoglobin  \\\n",
       "0  54.28887      N        1.0     6.68658    8.13103  71.53264     5.51496   \n",
       "1  47.56065     no        1.0     8.14919    7.95707  53.26854     7.70607   \n",
       "2  53.69510    yes        1.0     8.61871    8.80296  71.23821     5.67911   \n",
       "3  53.84332      Y        1.0     6.05747    7.70553  64.00914     5.27333   \n",
       "4  36.38495     no        1.0     8.41361    8.02251  86.54993     6.48007   \n",
       "\n",
       "        ast      alt    etytr  \n",
       "0  72.78350  1.40153  8.26858  \n",
       "1  70.42034  1.08658  8.76562  \n",
       "2  63.46493  0.94280  7.87057  \n",
       "3  76.12388  4.43028  6.29355  \n",
       "4  84.46566  1.39040  7.38177  "
      ]
     },
     "execution_count": 2,
     "metadata": {},
     "output_type": "execute_result"
    }
   ],
   "source": [
    "df_profiles = pd.read_csv(\"001/profiles.csv\", sep='\\t', parse_dates=['birthdate'])\n",
    "df_profiles.drop('Unnamed: 0', axis=1, inplace=True)\n",
    "df_labor = pd.read_csv(\"001/labor.csv\", sep='\\t')\n",
    "df_labor.drop('Unnamed: 0', axis=1, inplace=True)\n",
    "df = pd.merge(df_profiles,df_labor,on='name',how='outer')\n",
    "df.head()"
   ]
  },
  {
   "cell_type": "code",
   "execution_count": 3,
   "metadata": {
    "pycharm": {
     "name": "#%%\n"
    }
   },
   "outputs": [
    {
     "data": {
      "text/html": [
       "<div>\n",
       "<style scoped>\n",
       "    .dataframe tbody tr th:only-of-type {\n",
       "        vertical-align: middle;\n",
       "    }\n",
       "\n",
       "    .dataframe tbody tr th {\n",
       "        vertical-align: top;\n",
       "    }\n",
       "\n",
       "    .dataframe thead th {\n",
       "        text-align: right;\n",
       "    }\n",
       "</style>\n",
       "<table border=\"1\" class=\"dataframe\">\n",
       "  <thead>\n",
       "    <tr style=\"text-align: right;\">\n",
       "      <th></th>\n",
       "      <th>sex</th>\n",
       "      <th>blood_group</th>\n",
       "      <th>race</th>\n",
       "      <th>erytrocyty</th>\n",
       "      <th>trombocyty</th>\n",
       "      <th>weight</th>\n",
       "      <th>hbver</th>\n",
       "      <th>relationship</th>\n",
       "      <th>er-cv</th>\n",
       "      <th>smoker</th>\n",
       "      <th>indicator</th>\n",
       "      <th>hematokrit</th>\n",
       "      <th>leukocyty</th>\n",
       "      <th>alp</th>\n",
       "      <th>hemoglobin</th>\n",
       "      <th>ast</th>\n",
       "      <th>alt</th>\n",
       "      <th>etytr</th>\n",
       "      <th>age</th>\n",
       "    </tr>\n",
       "  </thead>\n",
       "  <tbody>\n",
       "    <tr>\n",
       "      <th>0</th>\n",
       "      <td>M</td>\n",
       "      <td>B-</td>\n",
       "      <td>White</td>\n",
       "      <td>5.73089</td>\n",
       "      <td>7.81439</td>\n",
       "      <td>74.67459</td>\n",
       "      <td>6.48334</td>\n",
       "      <td>divoced</td>\n",
       "      <td>54.28887</td>\n",
       "      <td>N</td>\n",
       "      <td>1.0</td>\n",
       "      <td>6.68658</td>\n",
       "      <td>8.13103</td>\n",
       "      <td>71.53264</td>\n",
       "      <td>5.51496</td>\n",
       "      <td>72.78350</td>\n",
       "      <td>1.40153</td>\n",
       "      <td>8.26858</td>\n",
       "      <td>80</td>\n",
       "    </tr>\n",
       "    <tr>\n",
       "      <th>1</th>\n",
       "      <td>M</td>\n",
       "      <td>B-</td>\n",
       "      <td>White</td>\n",
       "      <td>7.00210</td>\n",
       "      <td>7.30681</td>\n",
       "      <td>64.56094</td>\n",
       "      <td>5.50101</td>\n",
       "      <td>divoced</td>\n",
       "      <td>47.56065</td>\n",
       "      <td>no</td>\n",
       "      <td>1.0</td>\n",
       "      <td>8.14919</td>\n",
       "      <td>7.95707</td>\n",
       "      <td>53.26854</td>\n",
       "      <td>7.70607</td>\n",
       "      <td>70.42034</td>\n",
       "      <td>1.08658</td>\n",
       "      <td>8.76562</td>\n",
       "      <td>80</td>\n",
       "    </tr>\n",
       "    <tr>\n",
       "      <th>2</th>\n",
       "      <td>M</td>\n",
       "      <td>B-</td>\n",
       "      <td>White</td>\n",
       "      <td>5.87203</td>\n",
       "      <td>6.49993</td>\n",
       "      <td>102.55936</td>\n",
       "      <td>6.26296</td>\n",
       "      <td>single</td>\n",
       "      <td>53.69510</td>\n",
       "      <td>yes</td>\n",
       "      <td>1.0</td>\n",
       "      <td>8.61871</td>\n",
       "      <td>8.80296</td>\n",
       "      <td>71.23821</td>\n",
       "      <td>5.67911</td>\n",
       "      <td>63.46493</td>\n",
       "      <td>0.94280</td>\n",
       "      <td>7.87057</td>\n",
       "      <td>80</td>\n",
       "    </tr>\n",
       "    <tr>\n",
       "      <th>3</th>\n",
       "      <td>M</td>\n",
       "      <td>B-</td>\n",
       "      <td>White</td>\n",
       "      <td>8.87748</td>\n",
       "      <td>7.57024</td>\n",
       "      <td>54.86142</td>\n",
       "      <td>7.31935</td>\n",
       "      <td>married</td>\n",
       "      <td>53.84332</td>\n",
       "      <td>Y</td>\n",
       "      <td>1.0</td>\n",
       "      <td>6.05747</td>\n",
       "      <td>7.70553</td>\n",
       "      <td>64.00914</td>\n",
       "      <td>5.27333</td>\n",
       "      <td>76.12388</td>\n",
       "      <td>4.43028</td>\n",
       "      <td>6.29355</td>\n",
       "      <td>80</td>\n",
       "    </tr>\n",
       "    <tr>\n",
       "      <th>4</th>\n",
       "      <td>F</td>\n",
       "      <td>B+</td>\n",
       "      <td>White</td>\n",
       "      <td>5.51507</td>\n",
       "      <td>8.26611</td>\n",
       "      <td>109.48149</td>\n",
       "      <td>4.98513</td>\n",
       "      <td>single</td>\n",
       "      <td>36.38495</td>\n",
       "      <td>no</td>\n",
       "      <td>1.0</td>\n",
       "      <td>8.41361</td>\n",
       "      <td>8.02251</td>\n",
       "      <td>86.54993</td>\n",
       "      <td>6.48007</td>\n",
       "      <td>84.46566</td>\n",
       "      <td>1.39040</td>\n",
       "      <td>7.38177</td>\n",
       "      <td>29</td>\n",
       "    </tr>\n",
       "  </tbody>\n",
       "</table>\n",
       "</div>"
      ],
      "text/plain": [
       "  sex blood_group   race  erytrocyty  trombocyty     weight    hbver  \\\n",
       "0   M          B-  White     5.73089     7.81439   74.67459  6.48334   \n",
       "1   M          B-  White     7.00210     7.30681   64.56094  5.50101   \n",
       "2   M          B-  White     5.87203     6.49993  102.55936  6.26296   \n",
       "3   M          B-  White     8.87748     7.57024   54.86142  7.31935   \n",
       "4   F          B+  White     5.51507     8.26611  109.48149  4.98513   \n",
       "\n",
       "  relationship     er-cv smoker  indicator  hematokrit  leukocyty       alp  \\\n",
       "0      divoced  54.28887      N        1.0     6.68658    8.13103  71.53264   \n",
       "1      divoced  47.56065     no        1.0     8.14919    7.95707  53.26854   \n",
       "2       single  53.69510    yes        1.0     8.61871    8.80296  71.23821   \n",
       "3      married  53.84332      Y        1.0     6.05747    7.70553  64.00914   \n",
       "4       single  36.38495     no        1.0     8.41361    8.02251  86.54993   \n",
       "\n",
       "   hemoglobin       ast      alt    etytr  age  \n",
       "0     5.51496  72.78350  1.40153  8.26858   80  \n",
       "1     7.70607  70.42034  1.08658  8.76562   80  \n",
       "2     5.67911  63.46493  0.94280  7.87057   80  \n",
       "3     5.27333  76.12388  4.43028  6.29355   80  \n",
       "4     6.48007  84.46566  1.39040  7.38177   29  "
      ]
     },
     "execution_count": 3,
     "metadata": {},
     "output_type": "execute_result"
    }
   ],
   "source": [
    "## vyhodili sme tieto stlpce: job, residence, birthdate(zamenit za age), ssn_x, current_location, name, ssn_y\n",
    "\n",
    "df[\"age\"] = datetime.datetime.now().year - pd.DatetimeIndex(df[\"birthdate\"]).year\n",
    "df = df.drop(columns=['residence', 'birthdate', 'ssn_x', 'current_location', 'name', 'ssn_y', 'job'])\n",
    "df.drop_duplicates\n",
    "df.head()"
   ]
  },
  {
   "cell_type": "markdown",
   "metadata": {
    "pycharm": {
     "name": "#%% md\n"
    }
   },
   "source": [
    "## Predspracovanie jednotlivych atributov\n",
    "### Atribut sex"
   ]
  },
  {
   "cell_type": "code",
   "execution_count": 4,
   "metadata": {
    "pycharm": {
     "name": "#%%\n"
    }
   },
   "outputs": [
    {
     "name": "stdout",
     "output_type": "stream",
     "text": [
      "0\n"
     ]
    }
   ],
   "source": [
    "print(len((df[df['sex'].isnull()])))"
   ]
  },
  {
   "cell_type": "code",
   "execution_count": 5,
   "metadata": {
    "pycharm": {
     "name": "#%%\n"
    }
   },
   "outputs": [],
   "source": [
    "def sanitize_sex(sex):\n",
    "    return 1 if sex == \"M\" else 0"
   ]
  },
  {
   "cell_type": "code",
   "execution_count": 6,
   "metadata": {
    "pycharm": {
     "name": "#%%\n"
    }
   },
   "outputs": [],
   "source": [
    "df['sex'] = df['sex'].map(lambda x: sanitize_sex(x))"
   ]
  },
  {
   "cell_type": "code",
   "execution_count": 7,
   "metadata": {
    "pycharm": {
     "name": "#%%\n"
    }
   },
   "outputs": [
    {
     "data": {
      "text/plain": [
       "array([1, 0], dtype=int64)"
      ]
     },
     "execution_count": 7,
     "metadata": {},
     "output_type": "execute_result"
    }
   ],
   "source": [
    "df['sex'].unique()"
   ]
  },
  {
   "cell_type": "markdown",
   "metadata": {
    "pycharm": {
     "name": "#%% md\n"
    }
   },
   "source": [
    "Atribút sex nemá žiadne null hodnoty, a teda nepotrebujeme riešiť chybajúce hodnoty.\n",
    "Zamenili sme hodnoty 'M' za 1 a 'F' za 0. Tieto hodnoty nebolo potrebné upravovať,\n",
    "nakoľko všetky boli v tvare 'M' alebo 'F'."
   ]
  },
  {
   "cell_type": "markdown",
   "metadata": {
    "pycharm": {
     "name": "#%% md\n"
    }
   },
   "source": [
    "### Atribut blood_group"
   ]
  },
  {
   "cell_type": "code",
   "execution_count": 8,
   "metadata": {
    "pycharm": {
     "name": "#%%\n"
    }
   },
   "outputs": [
    {
     "name": "stdout",
     "output_type": "stream",
     "text": [
      "0\n"
     ]
    }
   ],
   "source": [
    "print(len((df[df['blood_group'].isnull()])))"
   ]
  },
  {
   "cell_type": "code",
   "execution_count": 9,
   "metadata": {
    "pycharm": {
     "name": "#%%\n"
    }
   },
   "outputs": [],
   "source": [
    "def sanitize_blood_group(blood_group):\n",
    "    if blood_group == 'B-':\n",
    "        return 0\n",
    "    elif blood_group == 'B+':\n",
    "        return 1\n",
    "    elif blood_group == 'AB+':\n",
    "        return 2\n",
    "    elif blood_group == 'O+':\n",
    "        return 3\n",
    "    elif blood_group == 'AB-':\n",
    "        return 4\n",
    "    elif blood_group == 'A-':\n",
    "        return 5\n",
    "    elif blood_group == 'O-':\n",
    "        return 6\n",
    "    elif blood_group == 'A+':\n",
    "        return 7\n",
    "    return blood_group"
   ]
  },
  {
   "cell_type": "code",
   "execution_count": 10,
   "metadata": {
    "pycharm": {
     "name": "#%%\n"
    }
   },
   "outputs": [],
   "source": [
    "df['blood_group'] = df['blood_group'].map(lambda x: sanitize_blood_group(x))"
   ]
  },
  {
   "cell_type": "code",
   "execution_count": 11,
   "metadata": {
    "pycharm": {
     "name": "#%%\n"
    }
   },
   "outputs": [
    {
     "data": {
      "text/plain": [
       "array([0, 1, 2, 3, 4, 5, 6, 7], dtype=int64)"
      ]
     },
     "execution_count": 11,
     "metadata": {},
     "output_type": "execute_result"
    }
   ],
   "source": [
    "df['blood_group'].unique()"
   ]
  },
  {
   "cell_type": "markdown",
   "metadata": {},
   "source": [
    "### Atribut race"
   ]
  },
  {
   "cell_type": "code",
   "execution_count": 12,
   "metadata": {
    "pycharm": {
     "name": "#%%\n"
    }
   },
   "outputs": [
    {
     "name": "stdout",
     "output_type": "stream",
     "text": [
      "0\n"
     ]
    }
   ],
   "source": [
    "print(len((df[df['race'].isnull()])))"
   ]
  },
  {
   "cell_type": "code",
   "execution_count": 13,
   "metadata": {
    "pycharm": {
     "name": "#%%\n"
    }
   },
   "outputs": [],
   "source": [
    "def sanitize_race(race):\n",
    "    if race == 'black' or race == 'blsck' or race == 'Black':\n",
    "        return 0\n",
    "    elif race == 'white' or race == 'White':\n",
    "        return 1\n",
    "    elif race == 'Indian':\n",
    "        return 2\n",
    "    elif race == 'Asian':\n",
    "        return 3\n",
    "    elif race == 'Hawaiian':\n",
    "        return 4\n",
    "    return race"
   ]
  },
  {
   "cell_type": "code",
   "execution_count": 14,
   "metadata": {
    "pycharm": {
     "name": "#%%\n"
    }
   },
   "outputs": [],
   "source": [
    "df['race'] = df['race'].map(lambda race: sanitize_race(race))"
   ]
  },
  {
   "cell_type": "code",
   "execution_count": 15,
   "metadata": {
    "pycharm": {
     "name": "#%%\n"
    }
   },
   "outputs": [
    {
     "data": {
      "text/plain": [
       "array([1, 2, 0, 3, 4], dtype=int64)"
      ]
     },
     "execution_count": 15,
     "metadata": {},
     "output_type": "execute_result"
    }
   ],
   "source": [
    "df['race'].unique()"
   ]
  },
  {
   "cell_type": "markdown",
   "metadata": {
    "pycharm": {
     "name": "#%% md\n"
    }
   },
   "source": [
    "### Atribut erytrocyty"
   ]
  },
  {
   "cell_type": "code",
   "execution_count": 16,
   "metadata": {
    "pycharm": {
     "name": "#%%\n"
    }
   },
   "outputs": [
    {
     "name": "stdout",
     "output_type": "stream",
     "text": [
      "31\n"
     ]
    }
   ],
   "source": [
    "print(len((df[df['erytrocyty'].isnull()])))"
   ]
  },
  {
   "cell_type": "code",
   "execution_count": 17,
   "metadata": {
    "pycharm": {
     "name": "#%%\n"
    }
   },
   "outputs": [
    {
     "name": "stdout",
     "output_type": "stream",
     "text": [
      "0\n"
     ]
    }
   ],
   "source": [
    "df.dropna(subset = [\"erytrocyty\"], inplace=True)\n",
    "print(len((df[df['erytrocyty'].isnull()])))"
   ]
  },
  {
   "cell_type": "code",
   "execution_count": 18,
   "metadata": {
    "pycharm": {
     "name": "#%%\n"
    }
   },
   "outputs": [
    {
     "data": {
      "text/plain": [
       "<seaborn.axisgrid.FacetGrid at 0x19b65ba6eb0>"
      ]
     },
     "execution_count": 18,
     "metadata": {},
     "output_type": "execute_result"
    },
    {
     "data": {
      "image/png": "[encoded data removed]",
      "text/plain": [
       "<Figure size 360x360 with 1 Axes>"
      ]
     },
     "metadata": {
      "needs_background": "light"
     },
     "output_type": "display_data"
    }
   ],
   "source": [
    "sns.displot(df['erytrocyty'],bins=100)"
   ]
  },
  {
   "cell_type": "code",
   "execution_count": 19,
   "metadata": {
    "pycharm": {
     "name": "#%%\n"
    }
   },
   "outputs": [
    {
     "data": {
      "text/plain": [
       "<seaborn.axisgrid.FacetGrid at 0x19b796a0340>"
      ]
     },
     "execution_count": 19,
     "metadata": {},
     "output_type": "execute_result"
    },
    {
     "data": {
      "image/png": "[encoded data removed]",
      "text/plain": [
       "<Figure size 360x360 with 1 Axes>"
      ]
     },
     "metadata": {
      "needs_background": "light"
     },
     "output_type": "display_data"
    }
   ],
   "source": [
    "def identify_outliers(x):\n",
    "    lower_ = x.quantile(0.25) - 1.5 * stats.iqr(x)\n",
    "    upper_ = x.quantile(0.75) + 1.5 * stats.iqr(x)\n",
    "\n",
    "    return x[(x > upper_) | (x < lower_)]\n",
    "\n",
    "df_merged_out = identify_outliers(df[\"erytrocyty\"])\n",
    "df = df.drop(df_merged_out.index)\n",
    "sns.displot(df['erytrocyty'],bins=100)"
   ]
  },
  {
   "cell_type": "markdown",
   "metadata": {},
   "source": [
    "V atribute eryrocyty sme null hodnoty vyhodili a outlierov sme vyhodili takisto."
   ]
  },
  {
   "cell_type": "markdown",
   "metadata": {
    "pycharm": {
     "name": "#%% md\n"
    }
   },
   "source": [
    "#### Atribut trombocyty"
   ]
  },
  {
   "cell_type": "code",
   "execution_count": 20,
   "metadata": {
    "pycharm": {
     "name": "#%%\n"
    }
   },
   "outputs": [
    {
     "name": "stdout",
     "output_type": "stream",
     "text": [
      "33\n"
     ]
    }
   ],
   "source": [
    "print(len((df[df['trombocyty'].isnull()])))"
   ]
  },
  {
   "cell_type": "code",
   "execution_count": 21,
   "metadata": {
    "pycharm": {
     "name": "#%%\n"
    }
   },
   "outputs": [
    {
     "name": "stdout",
     "output_type": "stream",
     "text": [
      "0\n"
     ]
    }
   ],
   "source": [
    "df['trombocyty'].fillna(df['trombocyty'].mean(), inplace=True)\n",
    "print(len((df[df['trombocyty'].isnull()])))"
   ]
  },
  {
   "cell_type": "code",
   "execution_count": 22,
   "metadata": {
    "pycharm": {
     "name": "#%%\n"
    }
   },
   "outputs": [
    {
     "data": {
      "text/plain": [
       "<seaborn.axisgrid.FacetGrid at 0x19b785a0790>"
      ]
     },
     "execution_count": 22,
     "metadata": {},
     "output_type": "execute_result"
    },
    {
     "data": {
      "image/png": "[encoded data removed]",
      "text/plain": [
       "<Figure size 360x360 with 1 Axes>"
      ]
     },
     "metadata": {
      "needs_background": "light"
     },
     "output_type": "display_data"
    }
   ],
   "source": [
    "sns.displot(df['trombocyty'],bins=100)"
   ]
  },
  {
   "cell_type": "code",
   "execution_count": 23,
   "metadata": {
    "pycharm": {
     "name": "#%%\n"
    }
   },
   "outputs": [
    {
     "data": {
      "text/plain": [
       "<seaborn.axisgrid.FacetGrid at 0x19b799ec220>"
      ]
     },
     "execution_count": 23,
     "metadata": {},
     "output_type": "execute_result"
    },
    {
     "data": {
      "image/png": "[encoded data removed]",
      "text/plain": [
       "<Figure size 360x360 with 1 Axes>"
      ]
     },
     "metadata": {
      "needs_background": "light"
     },
     "output_type": "display_data"
    }
   ],
   "source": [
    "lower = df['trombocyty'].quantile(0.25) - 1.5 * stats.iqr(df['trombocyty'])\n",
    "upper = df['trombocyty'].quantile(0.75) + 1.5 * stats.iqr(df['trombocyty'])\n",
    "\n",
    "df[\"trombocyty\"] = np.where(df[\"trombocyty\"] > upper, upper, df['trombocyty'])\n",
    "df[\"trombocyty\"] = np.where(df[\"trombocyty\"] < lower, lower, df['trombocyty'])\n",
    "sns.displot(df['trombocyty'],bins=100)"
   ]
  },
  {
   "cell_type": "markdown",
   "metadata": {},
   "source": [
    "V atribute trombocyty sme nahradili null hodnoty a outliers hranicnymi hodnotami rozdelenia"
   ]
  },
  {
   "cell_type": "markdown",
   "metadata": {
    "pycharm": {
     "name": "#%% md\n"
    }
   },
   "source": [
    "#### Atribut weight"
   ]
  },
  {
   "cell_type": "code",
   "execution_count": 24,
   "metadata": {
    "pycharm": {
     "name": "#%%\n"
    }
   },
   "outputs": [
    {
     "name": "stdout",
     "output_type": "stream",
     "text": [
      "0\n"
     ]
    }
   ],
   "source": [
    "df[\"weight\"] = np.where(df[\"weight\"] < 1, np.nan, df['weight'])\n",
    "df.dropna(subset = [\"weight\"], inplace=True)\n",
    "print(len((df[df['weight'].isnull()])))"
   ]
  },
  {
   "cell_type": "code",
   "execution_count": 25,
   "metadata": {
    "pycharm": {
     "name": "#%%\n"
    }
   },
   "outputs": [
    {
     "data": {
      "text/plain": [
       "<seaborn.axisgrid.FacetGrid at 0x19b79cbf3a0>"
      ]
     },
     "execution_count": 25,
     "metadata": {},
     "output_type": "execute_result"
    },
    {
     "data": {
      "image/png": "[encoded data removed]",
      "text/plain": [
       "<Figure size 360x360 with 1 Axes>"
      ]
     },
     "metadata": {
      "needs_background": "light"
     },
     "output_type": "display_data"
    }
   ],
   "source": [
    "sns.displot(df['weight'],bins=100)"
   ]
  },
  {
   "cell_type": "code",
   "execution_count": 26,
   "metadata": {
    "pycharm": {
     "name": "#%%\n"
    }
   },
   "outputs": [
    {
     "data": {
      "text/plain": [
       "<seaborn.axisgrid.FacetGrid at 0x19b798e37c0>"
      ]
     },
     "execution_count": 26,
     "metadata": {},
     "output_type": "execute_result"
    },
    {
     "data": {
      "image/png": "[encoded data removed]",
      "text/plain": [
       "<Figure size 360x360 with 1 Axes>"
      ]
     },
     "metadata": {
      "needs_background": "light"
     },
     "output_type": "display_data"
    }
   ],
   "source": [
    "lower = df['weight'].quantile(0.25) - 1.5 * stats.iqr(df['weight'])\n",
    "upper = df['weight'].quantile(0.75) + 1.5 * stats.iqr(df['weight'])\n",
    "\n",
    "df[\"weight\"] = np.where(df[\"weight\"] > upper, upper, df['weight'])\n",
    "df[\"weight\"] = np.where(df[\"weight\"] < lower, lower, df['weight'])\n",
    "sns.displot(df['weight'],bins=100)"
   ]
  },
  {
   "cell_type": "markdown",
   "metadata": {},
   "source": [
    "V atribute weight sme odstránili nezmyselné hodnoty (vahy menšie ako 1kg)\n",
    "a nahradili sme za medián váh.\n",
    "\n",
    "#### Atribut relation"
   ]
  },
  {
   "cell_type": "code",
   "execution_count": 27,
   "metadata": {
    "pycharm": {
     "name": "#%%\n"
    }
   },
   "outputs": [
    {
     "name": "stdout",
     "output_type": "stream",
     "text": [
      "0\n"
     ]
    }
   ],
   "source": [
    "print(len((df[df['relationship'].isnull()])))"
   ]
  },
  {
   "cell_type": "code",
   "execution_count": 28,
   "metadata": {
    "pycharm": {
     "name": "#%%\n"
    }
   },
   "outputs": [
    {
     "name": "stdout",
     "output_type": "stream",
     "text": [
      "0\n"
     ]
    }
   ],
   "source": [
    "df.dropna(subset = [\"relationship\"], inplace=True)\n",
    "print(len((df[df['relationship'].isnull()])))"
   ]
  },
  {
   "cell_type": "code",
   "execution_count": 29,
   "metadata": {
    "pycharm": {
     "name": "#%%\n"
    }
   },
   "outputs": [],
   "source": [
    "def sanitize_relation(relationship):\n",
    "    if relationship == 'divoced' or relationship == 'divorced' :\n",
    "        return 0\n",
    "    elif relationship == 'single':\n",
    "        return 1\n",
    "    elif relationship == 'married':\n",
    "        return 2\n",
    "    elif relationship == 'widowed':\n",
    "        return 3\n",
    "    elif relationship == 'separated':\n",
    "        return 4\n",
    "    elif relationship == 'nop':\n",
    "        return 5\n",
    "    return relationship"
   ]
  },
  {
   "cell_type": "code",
   "execution_count": 30,
   "metadata": {
    "pycharm": {
     "name": "#%%\n"
    }
   },
   "outputs": [],
   "source": [
    "df['relationship'] = df['relationship'].map(lambda relation: sanitize_relation(relation))"
   ]
  },
  {
   "cell_type": "code",
   "execution_count": 31,
   "metadata": {
    "pycharm": {
     "name": "#%%\n"
    }
   },
   "outputs": [
    {
     "data": {
      "text/plain": [
       "array([0, 1, 2, 3, 4, 5], dtype=int64)"
      ]
     },
     "execution_count": 31,
     "metadata": {},
     "output_type": "execute_result"
    }
   ],
   "source": [
    "df['relationship'].unique()"
   ]
  },
  {
   "cell_type": "markdown",
   "metadata": {},
   "source": [
    "V atribute relationship sme vymazali null hodnoty a zvysne nahradili integer hodnotami (encoding)"
   ]
  },
  {
   "cell_type": "markdown",
   "metadata": {
    "pycharm": {
     "name": "#%% md\n"
    }
   },
   "source": [
    "#### Atribut smoker"
   ]
  },
  {
   "cell_type": "code",
   "execution_count": 32,
   "metadata": {
    "pycharm": {
     "name": "#%%\n"
    }
   },
   "outputs": [
    {
     "name": "stdout",
     "output_type": "stream",
     "text": [
      "0\n"
     ]
    }
   ],
   "source": [
    "print(len((df[df['smoker'].isnull()])))"
   ]
  },
  {
   "cell_type": "code",
   "execution_count": 33,
   "metadata": {
    "pycharm": {
     "name": "#%%\n"
    }
   },
   "outputs": [
    {
     "name": "stdout",
     "output_type": "stream",
     "text": [
      "0\n"
     ]
    }
   ],
   "source": [
    "df.dropna(subset = [\"smoker\"], inplace=True)\n",
    "print(len((df[df['smoker'].isnull()])))"
   ]
  },
  {
   "cell_type": "code",
   "execution_count": 34,
   "metadata": {
    "pycharm": {
     "name": "#%%\n"
    }
   },
   "outputs": [],
   "source": [
    "def sanitize_smoker(smoker):\n",
    "    if smoker == 'N' or smoker == 'no' :\n",
    "        return 0\n",
    "    elif smoker == 'Y' or smoker == 'yes':\n",
    "        return 1\n",
    "    return smoker"
   ]
  },
  {
   "cell_type": "code",
   "execution_count": 35,
   "metadata": {
    "pycharm": {
     "name": "#%%\n"
    }
   },
   "outputs": [],
   "source": [
    "df['smoker'] = df['smoker'].map(lambda smoker: sanitize_smoker(smoker))"
   ]
  },
  {
   "cell_type": "code",
   "execution_count": 36,
   "metadata": {
    "pycharm": {
     "name": "#%%\n"
    }
   },
   "outputs": [
    {
     "data": {
      "text/plain": [
       "array([0, 1], dtype=int64)"
      ]
     },
     "execution_count": 36,
     "metadata": {},
     "output_type": "execute_result"
    }
   ],
   "source": [
    "df['smoker'].unique()"
   ]
  },
  {
   "cell_type": "markdown",
   "metadata": {
    "pycharm": {
     "name": "#%% md\n"
    }
   },
   "source": [
    "V atribute smoker sme vymazali null hodnoty a zvysne nahradili integer hodnotami (encoding)."
   ]
  },
  {
   "cell_type": "markdown",
   "metadata": {},
   "source": [
    "#### Atribut hbver"
   ]
  },
  {
   "cell_type": "code",
   "execution_count": 37,
   "metadata": {
    "pycharm": {
     "name": "#%%\n"
    }
   },
   "outputs": [
    {
     "name": "stdout",
     "output_type": "stream",
     "text": [
      "31\n"
     ]
    }
   ],
   "source": [
    "print(len((df[df['hbver'].isnull()])))"
   ]
  },
  {
   "cell_type": "code",
   "execution_count": 38,
   "metadata": {
    "pycharm": {
     "name": "#%%\n"
    }
   },
   "outputs": [
    {
     "name": "stdout",
     "output_type": "stream",
     "text": [
      "0\n"
     ]
    }
   ],
   "source": [
    "imputer = KNNImputer(n_neighbors=5)\n",
    "df = pd.DataFrame(imputer.fit_transform(df), columns = df.columns)\n",
    "print(len((df[df['hbver'].isnull()])))"
   ]
  },
  {
   "cell_type": "code",
   "execution_count": 39,
   "metadata": {
    "pycharm": {
     "name": "#%%\n"
    }
   },
   "outputs": [
    {
     "data": {
      "text/plain": [
       "<seaborn.axisgrid.FacetGrid at 0x19b65beb790>"
      ]
     },
     "execution_count": 39,
     "metadata": {},
     "output_type": "execute_result"
    },
    {
     "data": {
      "image/png": "[encoded data removed]",
      "text/plain": [
       "<Figure size 360x360 with 1 Axes>"
      ]
     },
     "metadata": {
      "needs_background": "light"
     },
     "output_type": "display_data"
    }
   ],
   "source": [
    "sns.displot(df['hbver'],bins=100)"
   ]
  },
  {
   "cell_type": "code",
   "execution_count": 40,
   "metadata": {
    "pycharm": {
     "name": "#%%\n"
    }
   },
   "outputs": [
    {
     "data": {
      "text/plain": [
       "<seaborn.axisgrid.FacetGrid at 0x19b79fbacd0>"
      ]
     },
     "execution_count": 40,
     "metadata": {},
     "output_type": "execute_result"
    },
    {
     "data": {
      "image/png": "[encoded data removed]",
      "text/plain": [
       "<Figure size 360x360 with 1 Axes>"
      ]
     },
     "metadata": {
      "needs_background": "light"
     },
     "output_type": "display_data"
    }
   ],
   "source": [
    "lower = df['hbver'].quantile(0.25) - 1.5 * stats.iqr(df['hbver'])\n",
    "upper = df['hbver'].quantile(0.75) + 1.5 * stats.iqr(df['hbver'])\n",
    "\n",
    "df[\"hbver\"] = np.where(df[\"hbver\"] > upper, upper, df['hbver'])\n",
    "df[\"hbver\"] = np.where(df[\"hbver\"] < lower, lower, df['hbver'])\n",
    "sns.displot(df['hbver'],bins=100)"
   ]
  },
  {
   "cell_type": "markdown",
   "metadata": {},
   "source": [
    "V atribute hbver a v podstate celom datasete sme nahradili null hodnoty pomocou KNN algoritmu, cize dalej null hodnoty uz nebudeme riesit. A outlierov sme zase ustrihli a nahradili krajnymi hodnotami."
   ]
  },
  {
   "cell_type": "markdown",
   "metadata": {
    "pycharm": {
     "name": "#%% md\n"
    }
   },
   "source": [
    "#### Atribut er-cv"
   ]
  },
  {
   "cell_type": "code",
   "execution_count": 41,
   "metadata": {
    "pycharm": {
     "name": "#%%\n"
    }
   },
   "outputs": [
    {
     "name": "stdout",
     "output_type": "stream",
     "text": [
      "0\n"
     ]
    }
   ],
   "source": [
    "print(len((df[df['er-cv'].isnull()])))"
   ]
  },
  {
   "cell_type": "code",
   "execution_count": 42,
   "metadata": {
    "pycharm": {
     "name": "#%%\n"
    }
   },
   "outputs": [
    {
     "data": {
      "text/plain": [
       "<seaborn.axisgrid.FacetGrid at 0x19b7a1b5ca0>"
      ]
     },
     "execution_count": 42,
     "metadata": {},
     "output_type": "execute_result"
    },
    {
     "data": {
      "image/png": "[encoded data removed]",
      "text/plain": [
       "<Figure size 360x360 with 1 Axes>"
      ]
     },
     "metadata": {
      "needs_background": "light"
     },
     "output_type": "display_data"
    }
   ],
   "source": [
    "sns.displot(df['er-cv'],bins=100)"
   ]
  },
  {
   "cell_type": "code",
   "execution_count": 43,
   "metadata": {
    "pycharm": {
     "name": "#%%\n"
    }
   },
   "outputs": [
    {
     "data": {
      "text/plain": [
       "<seaborn.axisgrid.FacetGrid at 0x19b7a64a070>"
      ]
     },
     "execution_count": 43,
     "metadata": {},
     "output_type": "execute_result"
    },
    {
     "data": {
      "image/png": "[encoded data removed]",
      "text/plain": [
       "<Figure size 360x360 with 1 Axes>"
      ]
     },
     "metadata": {
      "needs_background": "light"
     },
     "output_type": "display_data"
    }
   ],
   "source": [
    "def identify_outliers(x):\n",
    "    lower_ = x.quantile(0.25) - 1.5 * stats.iqr(x)\n",
    "    upper_ = x.quantile(0.75) + 1.5 * stats.iqr(x)\n",
    "\n",
    "    return x[(x > upper_) | (x < lower_)]\n",
    "\n",
    "df_merged_out = identify_outliers(df[\"er-cv\"])\n",
    "df = df.drop(df_merged_out.index)\n",
    "sns.displot(df['er-cv'],bins=100)"
   ]
  },
  {
   "cell_type": "markdown",
   "metadata": {},
   "source": [
    "V atribute er-cv sme uz teda nepotrebovali odstranovat null lebo knn. Outlierov sme odstranili pre zmenu.\n"
   ]
  },
  {
   "cell_type": "markdown",
   "metadata": {
    "pycharm": {
     "name": "#%% md\n"
    }
   },
   "source": [
    "#### Atribut hematokrit"
   ]
  },
  {
   "cell_type": "code",
   "execution_count": 44,
   "metadata": {
    "pycharm": {
     "name": "#%%\n"
    }
   },
   "outputs": [
    {
     "name": "stdout",
     "output_type": "stream",
     "text": [
      "0\n"
     ]
    }
   ],
   "source": [
    "print(len((df[df['hematokrit'].isnull()])))"
   ]
  },
  {
   "cell_type": "code",
   "execution_count": 45,
   "metadata": {
    "pycharm": {
     "name": "#%%\n"
    }
   },
   "outputs": [
    {
     "data": {
      "text/plain": [
       "<seaborn.axisgrid.FacetGrid at 0x19b7a45df70>"
      ]
     },
     "execution_count": 45,
     "metadata": {},
     "output_type": "execute_result"
    },
    {
     "data": {
      "image/png": "[encoded data removed]",
      "text/plain": [
       "<Figure size 360x360 with 1 Axes>"
      ]
     },
     "metadata": {
      "needs_background": "light"
     },
     "output_type": "display_data"
    }
   ],
   "source": [
    "sns.displot(df['hematokrit'],bins=100)"
   ]
  },
  {
   "cell_type": "code",
   "execution_count": 46,
   "metadata": {
    "pycharm": {
     "name": "#%%\n"
    }
   },
   "outputs": [
    {
     "data": {
      "text/plain": [
       "<seaborn.axisgrid.FacetGrid at 0x19b7a21fd90>"
      ]
     },
     "execution_count": 46,
     "metadata": {},
     "output_type": "execute_result"
    },
    {
     "data": {
      "image/png": "[encoded data removed]",
      "text/plain": [
       "<Figure size 360x360 with 1 Axes>"
      ]
     },
     "metadata": {
      "needs_background": "light"
     },
     "output_type": "display_data"
    }
   ],
   "source": [
    "lower = df['hematokrit'].quantile(0.25) - 1.5 * stats.iqr(df['hematokrit'])\n",
    "upper = df['hematokrit'].quantile(0.75) + 1.5 * stats.iqr(df['hematokrit'])\n",
    "\n",
    "df[\"hematokrit\"] = np.where(df[\"hematokrit\"] > upper, upper, df['hematokrit'])\n",
    "df[\"hematokrit\"] = np.where(df[\"hematokrit\"] < lower, lower, df['hematokrit'])\n",
    "sns.displot(df['hematokrit'],bins=100)"
   ]
  },
  {
   "cell_type": "markdown",
   "metadata": {},
   "source": [
    "V atribute hematokrit sme uz nepotrebovali odstranovat null lebo KNN. Outlierov sme nahradili krajnými hodnotami."
   ]
  },
  {
   "cell_type": "markdown",
   "metadata": {},
   "source": [
    "#### Atribut leukocyty"
   ]
  },
  {
   "cell_type": "code",
   "execution_count": 47,
   "metadata": {
    "pycharm": {
     "name": "#%%\n"
    }
   },
   "outputs": [
    {
     "name": "stdout",
     "output_type": "stream",
     "text": [
      "0\n"
     ]
    }
   ],
   "source": [
    "print(len((df[df['leukocyty'].isnull()])))"
   ]
  },
  {
   "cell_type": "code",
   "execution_count": 48,
   "metadata": {
    "pycharm": {
     "name": "#%%\n"
    }
   },
   "outputs": [
    {
     "data": {
      "text/plain": [
       "<seaborn.axisgrid.FacetGrid at 0x19b7ba2aee0>"
      ]
     },
     "execution_count": 48,
     "metadata": {},
     "output_type": "execute_result"
    },
    {
     "data": {
      "image/png": "[encoded data removed]",
      "text/plain": [
       "<Figure size 360x360 with 1 Axes>"
      ]
     },
     "metadata": {
      "needs_background": "light"
     },
     "output_type": "display_data"
    }
   ],
   "source": [
    "sns.displot(df['leukocyty'],bins=100)"
   ]
  },
  {
   "cell_type": "code",
   "execution_count": 49,
   "metadata": {
    "pycharm": {
     "name": "#%%\n"
    }
   },
   "outputs": [
    {
     "data": {
      "text/plain": [
       "<seaborn.axisgrid.FacetGrid at 0x19b7a325c10>"
      ]
     },
     "execution_count": 49,
     "metadata": {},
     "output_type": "execute_result"
    },
    {
     "data": {
      "image/png": "[encoded data removed]",
      "text/plain": [
       "<Figure size 360x360 with 1 Axes>"
      ]
     },
     "metadata": {
      "needs_background": "light"
     },
     "output_type": "display_data"
    }
   ],
   "source": [
    "def identify_outliers(x):\n",
    "    lower_ = x.quantile(0.25) - 1.5 * stats.iqr(x)\n",
    "    upper_ = x.quantile(0.75) + 1.5 * stats.iqr(x)\n",
    "\n",
    "    return x[(x > upper_) | (x < lower_)]\n",
    "\n",
    "df_merged_out = identify_outliers(df[\"leukocyty\"])\n",
    "df = df.drop(df_merged_out.index)\n",
    "sns.displot(df['leukocyty'],bins=100)"
   ]
  },
  {
   "cell_type": "markdown",
   "metadata": {},
   "source": [
    "V atribute leukocyty sme uz teda nepotrebovali odstranovat null lebo knn. Outlierov sme odstranili pre zmenu."
   ]
  },
  {
   "cell_type": "markdown",
   "metadata": {},
   "source": [
    "#### Atribut alp"
   ]
  },
  {
   "cell_type": "code",
   "execution_count": 50,
   "metadata": {
    "pycharm": {
     "name": "#%%\n"
    }
   },
   "outputs": [
    {
     "name": "stdout",
     "output_type": "stream",
     "text": [
      "0\n"
     ]
    }
   ],
   "source": [
    "print(len((df[df['alp'].isnull()])))"
   ]
  },
  {
   "cell_type": "code",
   "execution_count": 51,
   "metadata": {
    "pycharm": {
     "name": "#%%\n"
    }
   },
   "outputs": [
    {
     "data": {
      "text/plain": [
       "<seaborn.axisgrid.FacetGrid at 0x19b7b779370>"
      ]
     },
     "execution_count": 51,
     "metadata": {},
     "output_type": "execute_result"
    },
    {
     "data": {
      "image/png": "[encoded data removed]",
      "text/plain": [
       "<Figure size 360x360 with 1 Axes>"
      ]
     },
     "metadata": {
      "needs_background": "light"
     },
     "output_type": "display_data"
    }
   ],
   "source": [
    "sns.displot(df['alp'],bins=100)"
   ]
  },
  {
   "cell_type": "code",
   "execution_count": 52,
   "metadata": {
    "pycharm": {
     "name": "#%%\n"
    }
   },
   "outputs": [
    {
     "data": {
      "text/plain": [
       "<seaborn.axisgrid.FacetGrid at 0x19b7be2a8b0>"
      ]
     },
     "execution_count": 52,
     "metadata": {},
     "output_type": "execute_result"
    },
    {
     "data": {
      "image/png": "[encoded data removed]",
      "text/plain": [
       "<Figure size 360x360 with 1 Axes>"
      ]
     },
     "metadata": {
      "needs_background": "light"
     },
     "output_type": "display_data"
    }
   ],
   "source": [
    "def identify_outliers(x):\n",
    "    lower_ = x.quantile(0.25) - 1.5 * stats.iqr(x)\n",
    "    upper_ = x.quantile(0.75) + 1.5 * stats.iqr(x)\n",
    "\n",
    "    return x[(x > upper_) | (x < lower_)]\n",
    "\n",
    "df_merged_out = identify_outliers(df[\"alp\"])\n",
    "df = df.drop(df_merged_out.index)\n",
    "sns.displot(df['alp'],bins=100)"
   ]
  },
  {
   "cell_type": "markdown",
   "metadata": {},
   "source": [
    "V atribute alp sme uz teda nepotrebovali odstranovat null lebo knn. Outlierov sme odstranili pre zmenu.\n"
   ]
  },
  {
   "cell_type": "markdown",
   "metadata": {},
   "source": [
    "#### Atribut hemoglobin"
   ]
  },
  {
   "cell_type": "code",
   "execution_count": 53,
   "metadata": {
    "pycharm": {
     "name": "#%%\n"
    }
   },
   "outputs": [
    {
     "name": "stdout",
     "output_type": "stream",
     "text": [
      "0\n"
     ]
    }
   ],
   "source": [
    "print(len((df[df['hemoglobin'].isnull()])))"
   ]
  },
  {
   "cell_type": "code",
   "execution_count": 54,
   "metadata": {
    "pycharm": {
     "name": "#%%\n"
    }
   },
   "outputs": [
    {
     "data": {
      "text/plain": [
       "<seaborn.axisgrid.FacetGrid at 0x19b7bc2dac0>"
      ]
     },
     "execution_count": 54,
     "metadata": {},
     "output_type": "execute_result"
    },
    {
     "data": {
      "image/png": "[encoded data removed]",
      "text/plain": [
       "<Figure size 360x360 with 1 Axes>"
      ]
     },
     "metadata": {
      "needs_background": "light"
     },
     "output_type": "display_data"
    }
   ],
   "source": [
    "sns.displot(df['hemoglobin'],bins=100)"
   ]
  },
  {
   "cell_type": "code",
   "execution_count": 55,
   "metadata": {
    "pycharm": {
     "name": "#%%\n"
    }
   },
   "outputs": [
    {
     "data": {
      "text/plain": [
       "<seaborn.axisgrid.FacetGrid at 0x19b7bec5940>"
      ]
     },
     "execution_count": 55,
     "metadata": {},
     "output_type": "execute_result"
    },
    {
     "data": {
      "image/png": "[encoded data removed]",
      "text/plain": [
       "<Figure size 360x360 with 1 Axes>"
      ]
     },
     "metadata": {
      "needs_background": "light"
     },
     "output_type": "display_data"
    }
   ],
   "source": [
    "def identify_outliers(x):\n",
    "    lower_ = x.quantile(0.25) - 1.5 * stats.iqr(x)\n",
    "    upper_ = x.quantile(0.75) + 1.5 * stats.iqr(x)\n",
    "\n",
    "    return x[(x > upper_) | (x < lower_)]\n",
    "\n",
    "df_merged_out = identify_outliers(df[\"hemoglobin\"])\n",
    "df = df.drop(df_merged_out.index)\n",
    "sns.displot(df['hemoglobin'],bins=100)"
   ]
  },
  {
   "cell_type": "markdown",
   "metadata": {},
   "source": [
    "V atribute hemoglobin sme uz teda nepotrebovali odstranovat null lebo knn. Outlierov sme odstranili pre zmenu."
   ]
  },
  {
   "cell_type": "markdown",
   "metadata": {},
   "source": [
    "#### Atribut ast"
   ]
  },
  {
   "cell_type": "code",
   "execution_count": 56,
   "metadata": {
    "pycharm": {
     "name": "#%%\n"
    }
   },
   "outputs": [
    {
     "name": "stdout",
     "output_type": "stream",
     "text": [
      "0\n"
     ]
    }
   ],
   "source": [
    "print(len((df[df['ast'].isnull()])))"
   ]
  },
  {
   "cell_type": "code",
   "execution_count": 57,
   "metadata": {
    "pycharm": {
     "name": "#%%\n"
    }
   },
   "outputs": [
    {
     "data": {
      "text/plain": [
       "<seaborn.axisgrid.FacetGrid at 0x19b7beb76d0>"
      ]
     },
     "execution_count": 57,
     "metadata": {},
     "output_type": "execute_result"
    },
    {
     "data": {
      "image/png": "[encoded data removed]",
      "text/plain": [
       "<Figure size 360x360 with 1 Axes>"
      ]
     },
     "metadata": {
      "needs_background": "light"
     },
     "output_type": "display_data"
    }
   ],
   "source": [
    "sns.displot(df['ast'],bins=100)"
   ]
  },
  {
   "cell_type": "code",
   "execution_count": 58,
   "metadata": {
    "pycharm": {
     "name": "#%%\n"
    }
   },
   "outputs": [
    {
     "data": {
      "text/plain": [
       "<seaborn.axisgrid.FacetGrid at 0x19b7c46a5b0>"
      ]
     },
     "execution_count": 58,
     "metadata": {},
     "output_type": "execute_result"
    },
    {
     "data": {
      "image/png": "[encoded data removed]",
      "text/plain": [
       "<Figure size 360x360 with 1 Axes>"
      ]
     },
     "metadata": {
      "needs_background": "light"
     },
     "output_type": "display_data"
    }
   ],
   "source": [
    "lower = df['ast'].quantile(0.25) - 1.5 * stats.iqr(df['ast'])\n",
    "upper = df['ast'].quantile(0.75) + 1.5 * stats.iqr(df['ast'])\n",
    "\n",
    "df[\"ast\"] = np.where(df[\"ast\"] > upper, upper, df['ast'])\n",
    "df[\"ast\"] = np.where(df[\"ast\"] < lower, lower, df['ast'])\n",
    "sns.displot(df['ast'],bins=100)"
   ]
  },
  {
   "cell_type": "markdown",
   "metadata": {},
   "source": [
    "V atribute ast sme uz nepotrebovali odstranovat null lebo KNN. Outlierov sme nahradili krajnými hodnotami."
   ]
  },
  {
   "cell_type": "markdown",
   "metadata": {},
   "source": [
    "#### Atribut alt"
   ]
  },
  {
   "cell_type": "code",
   "execution_count": 59,
   "metadata": {
    "pycharm": {
     "name": "#%%\n"
    }
   },
   "outputs": [
    {
     "name": "stdout",
     "output_type": "stream",
     "text": [
      "0\n"
     ]
    }
   ],
   "source": [
    "print(len((df[df['alt'].isnull()])))"
   ]
  },
  {
   "cell_type": "code",
   "execution_count": 60,
   "metadata": {
    "pycharm": {
     "name": "#%%\n"
    }
   },
   "outputs": [
    {
     "data": {
      "text/plain": [
       "<seaborn.axisgrid.FacetGrid at 0x19b7d4773d0>"
      ]
     },
     "execution_count": 60,
     "metadata": {},
     "output_type": "execute_result"
    },
    {
     "data": {
      "image/png": "[encoded data removed]",
      "text/plain": [
       "<Figure size 360x360 with 1 Axes>"
      ]
     },
     "metadata": {
      "needs_background": "light"
     },
     "output_type": "display_data"
    }
   ],
   "source": [
    "sns.displot(df['alt'],bins=100)"
   ]
  },
  {
   "cell_type": "code",
   "execution_count": 61,
   "metadata": {
    "pycharm": {
     "name": "#%%\n"
    }
   },
   "outputs": [
    {
     "data": {
      "text/plain": [
       "<seaborn.axisgrid.FacetGrid at 0x19b7d709490>"
      ]
     },
     "execution_count": 61,
     "metadata": {},
     "output_type": "execute_result"
    },
    {
     "data": {
      "image/png": "[encoded data removed]",
      "text/plain": [
       "<Figure size 360x360 with 1 Axes>"
      ]
     },
     "metadata": {
      "needs_background": "light"
     },
     "output_type": "display_data"
    }
   ],
   "source": [
    "def identify_outliers(x):\n",
    "    lower_ = x.quantile(0.25) - 1.5 * stats.iqr(x)\n",
    "    upper_ = x.quantile(0.75) + 1.5 * stats.iqr(x)\n",
    "\n",
    "    return x[(x > upper_) | (x < lower_)]\n",
    "\n",
    "df_merged_out = identify_outliers(df[\"alt\"])\n",
    "df = df.drop(df_merged_out.index)\n",
    "sns.displot(df['alt'],bins=100)"
   ]
  },
  {
   "cell_type": "markdown",
   "metadata": {},
   "source": [
    "V atribute alt sme uz teda nepotrebovali odstranovat null lebo knn. Outlierov sme odstranili pre zmenu."
   ]
  },
  {
   "cell_type": "markdown",
   "metadata": {},
   "source": [
    "#### Atribut etytr"
   ]
  },
  {
   "cell_type": "code",
   "execution_count": 62,
   "metadata": {
    "pycharm": {
     "name": "#%%\n"
    }
   },
   "outputs": [
    {
     "name": "stdout",
     "output_type": "stream",
     "text": [
      "0\n"
     ]
    }
   ],
   "source": [
    "print(len((df[df['etytr'].isnull()])))"
   ]
  },
  {
   "cell_type": "code",
   "execution_count": 63,
   "metadata": {
    "pycharm": {
     "name": "#%%\n"
    }
   },
   "outputs": [
    {
     "data": {
      "text/plain": [
       "<seaborn.axisgrid.FacetGrid at 0x19b7d709df0>"
      ]
     },
     "execution_count": 63,
     "metadata": {},
     "output_type": "execute_result"
    },
    {
     "data": {
      "image/png": "[encoded data removed]",
      "text/plain": [
       "<Figure size 360x360 with 1 Axes>"
      ]
     },
     "metadata": {
      "needs_background": "light"
     },
     "output_type": "display_data"
    }
   ],
   "source": [
    "sns.displot(df['etytr'],bins=100)"
   ]
  },
  {
   "cell_type": "code",
   "execution_count": 64,
   "metadata": {
    "pycharm": {
     "name": "#%%\n"
    }
   },
   "outputs": [
    {
     "data": {
      "text/plain": [
       "<seaborn.axisgrid.FacetGrid at 0x19b7c1acc10>"
      ]
     },
     "execution_count": 64,
     "metadata": {},
     "output_type": "execute_result"
    },
    {
     "data": {
      "image/png": "[encoded data removed]",
      "text/plain": [
       "<Figure size 360x360 with 1 Axes>"
      ]
     },
     "metadata": {
      "needs_background": "light"
     },
     "output_type": "display_data"
    }
   ],
   "source": [
    "def identify_outliers(x):\n",
    "    lower_ = x.quantile(0.25) - 1.5 * stats.iqr(x)\n",
    "    upper_ = x.quantile(0.75) + 1.5 * stats.iqr(x)\n",
    "\n",
    "    return x[(x > upper_) | (x < lower_)]\n",
    "\n",
    "df_merged_out = identify_outliers(df[\"etytr\"])\n",
    "df = df.drop(df_merged_out.index)\n",
    "sns.displot(df['etytr'],bins=100)"
   ]
  },
  {
   "cell_type": "markdown",
   "metadata": {},
   "source": [
    "V atribute etytr sme uz teda nepotrebovali odstranovat null lebo knn. Outlierov sme odstranili pre zmenu."
   ]
  },
  {
   "cell_type": "markdown",
   "metadata": {
    "pycharm": {
     "name": "#%% md\n"
    }
   },
   "source": [
    "#### Atribut ast"
   ]
  },
  {
   "cell_type": "code",
   "execution_count": 65,
   "metadata": {
    "pycharm": {
     "name": "#%%\n"
    }
   },
   "outputs": [
    {
     "name": "stdout",
     "output_type": "stream",
     "text": [
      "0\n"
     ]
    }
   ],
   "source": [
    "print(len((df[df['age'].isnull()])))"
   ]
  },
  {
   "cell_type": "code",
   "execution_count": 66,
   "metadata": {
    "pycharm": {
     "name": "#%%\n"
    }
   },
   "outputs": [
    {
     "data": {
      "text/plain": [
       "<seaborn.axisgrid.FacetGrid at 0x19b7d740e80>"
      ]
     },
     "execution_count": 66,
     "metadata": {},
     "output_type": "execute_result"
    },
    {
     "data": {
      "image/png": "[encoded data removed]",
      "text/plain": [
       "<Figure size 360x360 with 1 Axes>"
      ]
     },
     "metadata": {
      "needs_background": "light"
     },
     "output_type": "display_data"
    }
   ],
   "source": [
    "sns.displot(df['age'],bins=100)"
   ]
  },
  {
   "cell_type": "code",
   "execution_count": 67,
   "metadata": {
    "pycharm": {
     "name": "#%%\n"
    }
   },
   "outputs": [
    {
     "data": {
      "text/plain": [
       "<seaborn.axisgrid.FacetGrid at 0x19b7c353e80>"
      ]
     },
     "execution_count": 67,
     "metadata": {},
     "output_type": "execute_result"
    },
    {
     "data": {
      "image/png": "[encoded data removed]",
      "text/plain": [
       "<Figure size 360x360 with 1 Axes>"
      ]
     },
     "metadata": {
      "needs_background": "light"
     },
     "output_type": "display_data"
    }
   ],
   "source": [
    "lower = df['age'].quantile(0.25) - 1.5 * stats.iqr(df['age'])\n",
    "upper = df['age'].quantile(0.75) + 1.5 * stats.iqr(df['age'])\n",
    "\n",
    "df[\"age\"] = np.where(df[\"age\"] > upper, upper, df['age'])\n",
    "df[\"age\"] = np.where(df[\"age\"] < lower, lower, df['age'])\n",
    "sns.displot(df['age'],bins=100)"
   ]
  },
  {
   "cell_type": "markdown",
   "metadata": {
    "pycharm": {
     "name": "#%% md\n"
    }
   },
   "source": [
    "V atribute age sme uz nepotrebovali odstranovat null lebo KNN. Outlierov sme nahradili krajnými hodnotami."
   ]
  },
  {
   "cell_type": "markdown",
   "metadata": {
    "pycharm": {
     "name": "#%%\n"
    }
   },
   "source": [
    "### 2. Realizácia predspracovania dát (5b)"
   ]
  },
  {
   "cell_type": "markdown",
   "metadata": {},
   "source": [
    "Rozhodli sme sa rozdeliť dataset na 15% pre testovacie dáta a 85% na trénovacie dáta. Ďalej sa bude teda spracovávať len trénovacia vzorka."
   ]
  },
  {
   "cell_type": "code",
   "execution_count": 77,
   "metadata": {},
   "outputs": [],
   "source": [
    "df_train, df_test = train_test_split(df, test_size=0.2)"
   ]
  },
  {
   "cell_type": "code",
   "execution_count": 78,
   "metadata": {},
   "outputs": [
    {
     "data": {
      "text/plain": [
       "6800"
      ]
     },
     "execution_count": 78,
     "metadata": {},
     "output_type": "execute_result"
    }
   ],
   "source": [
    "len(df_train)"
   ]
  },
  {
   "cell_type": "code",
   "execution_count": 79,
   "metadata": {},
   "outputs": [
    {
     "data": {
      "text/plain": [
       "1700"
      ]
     },
     "execution_count": 79,
     "metadata": {},
     "output_type": "execute_result"
    }
   ],
   "source": [
    "len(df_test)"
   ]
  },
  {
   "cell_type": "code",
   "execution_count": 85,
   "metadata": {},
   "outputs": [
    {
     "name": "stderr",
     "output_type": "stream",
     "text": [
      "C:\\Users\\matej\\AppData\\Local\\Temp/ipykernel_14952/2329054486.py:3: UserWarning: To output multiple subplots, the figure containing the passed axes is being cleared\n",
      "  df_train.hist(ax = ax)\n"
     ]
    },
    {
     "data": {
      "text/plain": [
       "array([[<AxesSubplot:title={'center':'sex'}>,\n",
       "        <AxesSubplot:title={'center':'blood_group'}>,\n",
       "        <AxesSubplot:title={'center':'race'}>,\n",
       "        <AxesSubplot:title={'center':'erytrocyty'}>],\n",
       "       [<AxesSubplot:title={'center':'trombocyty'}>,\n",
       "        <AxesSubplot:title={'center':'weight'}>,\n",
       "        <AxesSubplot:title={'center':'hbver'}>,\n",
       "        <AxesSubplot:title={'center':'relationship'}>],\n",
       "       [<AxesSubplot:title={'center':'er-cv'}>,\n",
       "        <AxesSubplot:title={'center':'smoker'}>,\n",
       "        <AxesSubplot:title={'center':'indicator'}>,\n",
       "        <AxesSubplot:title={'center':'hematokrit'}>],\n",
       "       [<AxesSubplot:title={'center':'leukocyty'}>,\n",
       "        <AxesSubplot:title={'center':'alp'}>,\n",
       "        <AxesSubplot:title={'center':'hemoglobin'}>,\n",
       "        <AxesSubplot:title={'center':'ast'}>],\n",
       "       [<AxesSubplot:title={'center':'alt'}>,\n",
       "        <AxesSubplot:title={'center':'etytr'}>,\n",
       "        <AxesSubplot:title={'center':'age'}>, <AxesSubplot:>]],\n",
       "      dtype=object)"
      ]
     },
     "execution_count": 85,
     "metadata": {},
     "output_type": "execute_result"
    },
    {
     "data": {
      "image/png": "[encoded data removed]",
      "text/plain": [
       "<Figure size 1080x1440 with 20 Axes>"
      ]
     },
     "metadata": {
      "needs_background": "light"
     },
     "output_type": "display_data"
    }
   ],
   "source": [
    "fig = plt.figure(figsize = (15,20))\n",
    "ax = fig.gca()\n",
    "df_train.hist(ax = ax)\n"
   ]
  },
  {
   "cell_type": "code",
   "execution_count": 86,
   "metadata": {},
   "outputs": [],
   "source": [
    "columns = ['erytrocyty', 'trombocyty', 'weight', 'hbver', 'er-cv', 'hematokrit', 'leukocyty', 'alp', 'hemoglobin', 'ast', 'alt', 'etytr', 'age']\n",
    "features = df_train[columns]"
   ]
  },
  {
   "cell_type": "code",
   "execution_count": 87,
   "metadata": {},
   "outputs": [],
   "source": [
    "scaler = MinMaxScaler()\n",
    "df_train[columns] = scaler.fit_transform(df_train[columns])"
   ]
  },
  {
   "cell_type": "code",
   "execution_count": 88,
   "metadata": {},
   "outputs": [
    {
     "name": "stderr",
     "output_type": "stream",
     "text": [
      "C:\\Users\\matej\\AppData\\Local\\Temp/ipykernel_14952/1287593276.py:3: UserWarning: To output multiple subplots, the figure containing the passed axes is being cleared\n",
      "  df_train.hist(ax = ax)\n"
     ]
    },
    {
     "data": {
      "text/plain": [
       "array([[<AxesSubplot:title={'center':'sex'}>,\n",
       "        <AxesSubplot:title={'center':'blood_group'}>,\n",
       "        <AxesSubplot:title={'center':'race'}>,\n",
       "        <AxesSubplot:title={'center':'erytrocyty'}>],\n",
       "       [<AxesSubplot:title={'center':'trombocyty'}>,\n",
       "        <AxesSubplot:title={'center':'weight'}>,\n",
       "        <AxesSubplot:title={'center':'hbver'}>,\n",
       "        <AxesSubplot:title={'center':'relationship'}>],\n",
       "       [<AxesSubplot:title={'center':'er-cv'}>,\n",
       "        <AxesSubplot:title={'center':'smoker'}>,\n",
       "        <AxesSubplot:title={'center':'indicator'}>,\n",
       "        <AxesSubplot:title={'center':'hematokrit'}>],\n",
       "       [<AxesSubplot:title={'center':'leukocyty'}>,\n",
       "        <AxesSubplot:title={'center':'alp'}>,\n",
       "        <AxesSubplot:title={'center':'hemoglobin'}>,\n",
       "        <AxesSubplot:title={'center':'ast'}>],\n",
       "       [<AxesSubplot:title={'center':'alt'}>,\n",
       "        <AxesSubplot:title={'center':'etytr'}>,\n",
       "        <AxesSubplot:title={'center':'age'}>, <AxesSubplot:>]],\n",
       "      dtype=object)"
      ]
     },
     "execution_count": 88,
     "metadata": {},
     "output_type": "execute_result"
    },
    {
     "data": {
      "image/png": "[encoded data removed]",
      "text/plain": [
       "<Figure size 1080x1440 with 20 Axes>"
      ]
     },
     "metadata": {
      "needs_background": "light"
     },
     "output_type": "display_data"
    }
   ],
   "source": [
    "fig = plt.figure(figsize = (15,20))\n",
    "ax = fig.gca()\n",
    "df_train.hist(ax = ax)"
   ]
  },
  {
   "cell_type": "code",
   "execution_count": 89,
   "metadata": {},
   "outputs": [],
   "source": [
    "transformer = PowerTransformer(method = 'yeo-johnson')\n",
    "df_train[columns] = transformer.fit_transform(features.values)"
   ]
  },
  {
   "cell_type": "code",
   "execution_count": 90,
   "metadata": {},
   "outputs": [
    {
     "name": "stderr",
     "output_type": "stream",
     "text": [
      "C:\\Users\\matej\\AppData\\Local\\Temp/ipykernel_14952/1287593276.py:3: UserWarning: To output multiple subplots, the figure containing the passed axes is being cleared\n",
      "  df_train.hist(ax = ax)\n"
     ]
    },
    {
     "data": {
      "text/plain": [
       "array([[<AxesSubplot:title={'center':'sex'}>,\n",
       "        <AxesSubplot:title={'center':'blood_group'}>,\n",
       "        <AxesSubplot:title={'center':'race'}>,\n",
       "        <AxesSubplot:title={'center':'erytrocyty'}>],\n",
       "       [<AxesSubplot:title={'center':'trombocyty'}>,\n",
       "        <AxesSubplot:title={'center':'weight'}>,\n",
       "        <AxesSubplot:title={'center':'hbver'}>,\n",
       "        <AxesSubplot:title={'center':'relationship'}>],\n",
       "       [<AxesSubplot:title={'center':'er-cv'}>,\n",
       "        <AxesSubplot:title={'center':'smoker'}>,\n",
       "        <AxesSubplot:title={'center':'indicator'}>,\n",
       "        <AxesSubplot:title={'center':'hematokrit'}>],\n",
       "       [<AxesSubplot:title={'center':'leukocyty'}>,\n",
       "        <AxesSubplot:title={'center':'alp'}>,\n",
       "        <AxesSubplot:title={'center':'hemoglobin'}>,\n",
       "        <AxesSubplot:title={'center':'ast'}>],\n",
       "       [<AxesSubplot:title={'center':'alt'}>,\n",
       "        <AxesSubplot:title={'center':'etytr'}>,\n",
       "        <AxesSubplot:title={'center':'age'}>, <AxesSubplot:>]],\n",
       "      dtype=object)"
      ]
     },
     "execution_count": 90,
     "metadata": {},
     "output_type": "execute_result"
    },
    {
     "data": {
      "image/png": "[encoded data removed]",
      "text/plain": [
       "<Figure size 1080x1440 with 20 Axes>"
      ]
     },
     "metadata": {
      "needs_background": "light"
     },
     "output_type": "display_data"
    }
   ],
   "source": [
    "fig = plt.figure(figsize = (15,20))\n",
    "ax = fig.gca()\n",
    "df_train.hist(ax = ax)"
   ]
  },
  {
   "cell_type": "markdown",
   "metadata": {},
   "source": [
    "## 3. Výber atribútov pre strojové učenie (5b)"
   ]
  },
  {
   "cell_type": "code",
   "execution_count": 92,
   "metadata": {},
   "outputs": [],
   "source": [
    "numerical_cols = ['erytrocyty', 'trombocyty', 'weight', 'hbver', 'er-cv', 'hematokrit', 'leukocyty', 'alp', 'hemoglobin', 'ast', 'alt', 'etytr', 'age']\n",
    "categorical_cols = ['sex', 'blood_group', 'race', 'relationship', 'smoker']\n",
    "\n",
    "df_train_numerical = df_train[numerical_cols]\n",
    "df_train_categorical = df_train[categorical_cols]"
   ]
  },
  {
   "cell_type": "markdown",
   "metadata": {},
   "source": [
    "Trenovaci dataset sme si rozdelili na kategoricke a numericke hodnoty. Na každú skupinu použijeme iný výber features."
   ]
  }
 ],
 "metadata": {
  "kernelspec": {
   "display_name": "Python 3 (ipykernel)",
   "language": "python",
   "name": "python3"
  },
  "language_info": {
   "codemirror_mode": {
    "name": "ipython",
    "version": 3
   },
   "file_extension": ".py",
   "mimetype": "text/x-python",
   "name": "python",
   "nbconvert_exporter": "python",
   "pygments_lexer": "ipython3",
   "version": "3.9.0"
  }
 },
 "nbformat": 4,
 "nbformat_minor": 4
}
